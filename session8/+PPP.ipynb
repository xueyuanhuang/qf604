{
 "cells": [
  {
   "cell_type": "markdown",
   "id": "3b808ae4",
   "metadata": {},
   "source": [
    "Purchasing power parity concept was developed in 1918. The basic idea is the law of one price -- that a good or service should cost about the same in one country as in another. PPP typically allows for some short run deviations though in the long run, the exchange rate, and the two general country prices should cointegrate - or return to euilibrium. If it does, PPP is sometimes used to \"forecast\" the long-term exchange rate. It it does not, then either one currency is overvalued or another undervalued. This leads to import-export imbalances that may be due to inflation and government interference. "
   ]
  },
  {
   "cell_type": "code",
   "execution_count": 1,
   "id": "ba37ef8a",
   "metadata": {},
   "outputs": [],
   "source": [
    "import pandas as pd\n",
    "import numpy as np\n",
    "import statsmodels.api as sm\n",
    "import matplotlib.pyplot as plt"
   ]
  },
  {
   "cell_type": "code",
   "execution_count": 2,
   "id": "b64a78af",
   "metadata": {},
   "outputs": [
    {
     "name": "stdout",
     "output_type": "stream",
     "text": [
      "            Date Pound_USD\n",
      "0       3/1/2000    1.6270\n",
      "1       4/1/2000    1.6370\n",
      "2       5/1/2000    1.6415\n",
      "3       6/1/2000    1.6475\n",
      "4       7/1/2000    1.6384\n",
      "...          ...       ...\n",
      "5990  19/12/2022    1.2180\n",
      "5991  20/12/2022    1.2146\n",
      "5992  21/12/2022    1.2072\n",
      "5993  22/12/2022    1.2032\n",
      "5994  23/12/2022    1.2054\n",
      "\n",
      "[5995 rows x 2 columns]\n"
     ]
    }
   ],
   "source": [
    "df = pd.read_csv('POUND_USD.csv') ### need to ensure numbers are in numbers, not general or other formats in CSV\n",
    "df=df.dropna()\n",
    "print(df)"
   ]
  },
  {
   "cell_type": "code",
   "execution_count": 3,
   "id": "61079f80",
   "metadata": {},
   "outputs": [
    {
     "name": "stdout",
     "output_type": "stream",
     "text": [
      "\n",
      "New DataFrame:\n",
      "            Date Pound_USD day month  year\n",
      "0       3/1/2000    1.6270   3     1  2000\n",
      "1       4/1/2000    1.6370   4     1  2000\n",
      "2       5/1/2000    1.6415   5     1  2000\n",
      "3       6/1/2000    1.6475   6     1  2000\n",
      "4       7/1/2000    1.6384   7     1  2000\n",
      "...          ...       ...  ..   ...   ...\n",
      "5990  19/12/2022    1.2180  19    12  2022\n",
      "5991  20/12/2022    1.2146  20    12  2022\n",
      "5992  21/12/2022    1.2072  21    12  2022\n",
      "5993  22/12/2022    1.2032  22    12  2022\n",
      "5994  23/12/2022    1.2054  23    12  2022\n",
      "\n",
      "[5995 rows x 5 columns]\n"
     ]
    }
   ],
   "source": [
    "df[[\"day\", \"month\", \"year\"]] = df[\"Date\"].str.split(\"/\", expand = True) ### Splits the Date entry into 3 separate columns\n",
    "print(\"\\nNew DataFrame:\") \n",
    "print(df)\n",
    "### Note this split command does not work if ...parse_dates=['date']... is entered into the pd.read_csv(..)"
   ]
  },
  {
   "cell_type": "code",
   "execution_count": 4,
   "id": "04c712bf",
   "metadata": {},
   "outputs": [
    {
     "name": "stdout",
     "output_type": "stream",
     "text": [
      "<class 'pandas.core.frame.DataFrame'>\n",
      "RangeIndex: 5995 entries, 0 to 5994\n",
      "Data columns (total 5 columns):\n",
      " #   Column     Non-Null Count  Dtype \n",
      "---  ------     --------------  ----- \n",
      " 0   Date       5995 non-null   object\n",
      " 1   Pound_USD  5995 non-null   object\n",
      " 2   day        5995 non-null   object\n",
      " 3   month      5995 non-null   object\n",
      " 4   year       5995 non-null   object\n",
      "dtypes: object(5)\n",
      "memory usage: 234.3+ KB\n"
     ]
    }
   ],
   "source": [
    "df.info()"
   ]
  },
  {
   "cell_type": "code",
   "execution_count": 5,
   "id": "3fa162ce",
   "metadata": {},
   "outputs": [
    {
     "data": {
      "text/plain": [
       "(5765, 5)"
      ]
     },
     "execution_count": 5,
     "metadata": {},
     "output_type": "execute_result"
    }
   ],
   "source": [
    "df = df[df['Pound_USD'] != 'ND']\n",
    "df.shape"
   ]
  },
  {
   "cell_type": "code",
   "execution_count": 6,
   "id": "a1309f40",
   "metadata": {},
   "outputs": [
    {
     "data": {
      "text/plain": [
       "(5764, 5)"
      ]
     },
     "execution_count": 6,
     "metadata": {},
     "output_type": "execute_result"
    }
   ],
   "source": [
    "df = df[df['Pound_USD'] != 'N']\n",
    "df.shape"
   ]
  },
  {
   "cell_type": "code",
   "execution_count": 7,
   "id": "90ab9cb9",
   "metadata": {},
   "outputs": [
    {
     "name": "stdout",
     "output_type": "stream",
     "text": [
      "<class 'pandas.core.frame.DataFrame'>\n",
      "Int64Index: 5764 entries, 0 to 5994\n",
      "Data columns (total 5 columns):\n",
      " #   Column     Non-Null Count  Dtype  \n",
      "---  ------     --------------  -----  \n",
      " 0   Date       5764 non-null   object \n",
      " 1   Pound_USD  5764 non-null   object \n",
      " 2   day        5764 non-null   float64\n",
      " 3   month      5764 non-null   float64\n",
      " 4   year       5764 non-null   float64\n",
      "dtypes: float64(3), object(2)\n",
      "memory usage: 270.2+ KB\n"
     ]
    }
   ],
   "source": [
    "df['day'] = df['day'].astype(float)\n",
    "df['month'] = df['month'].astype(float)\n",
    "df['year'] = df['year'].astype(float)\n",
    "df.info()"
   ]
  },
  {
   "cell_type": "code",
   "execution_count": 8,
   "id": "21aea037",
   "metadata": {},
   "outputs": [],
   "source": [
    "df['Pound_USD'] = df['Pound_USD'].astype(float)"
   ]
  },
  {
   "cell_type": "code",
   "execution_count": 9,
   "id": "7e023528",
   "metadata": {},
   "outputs": [
    {
     "name": "stdout",
     "output_type": "stream",
     "text": [
      "            Date  Pound_USD   day  month    year\n",
      "5994  23/12/2022     1.2054  23.0   12.0  2022.0\n"
     ]
    }
   ],
   "source": [
    "print(df.iloc[-1:])"
   ]
  },
  {
   "cell_type": "code",
   "execution_count": 10,
   "id": "ff76e0e1",
   "metadata": {},
   "outputs": [
    {
     "name": "stdout",
     "output_type": "stream",
     "text": [
      "            Date  Pound_USD   day  month    year\n",
      "0       3/1/2000     1.6270   3.0    1.0  2000.0\n",
      "1       4/1/2000     1.6370   4.0    1.0  2000.0\n",
      "2       5/1/2000     1.6415   5.0    1.0  2000.0\n",
      "3       6/1/2000     1.6475   6.0    1.0  2000.0\n",
      "4       7/1/2000     1.6384   7.0    1.0  2000.0\n",
      "...          ...        ...   ...    ...     ...\n",
      "5990  19/12/2022     1.2180  19.0   12.0  2022.0\n",
      "5991  20/12/2022     1.2146  20.0   12.0  2022.0\n",
      "5992  21/12/2022     1.2072  21.0   12.0  2022.0\n",
      "5993  22/12/2022     1.2032  22.0   12.0  2022.0\n",
      "5994  23/12/2022     1.2054  23.0   12.0  2022.0\n",
      "\n",
      "[5764 rows x 5 columns]\n"
     ]
    }
   ],
   "source": [
    "print(df)"
   ]
  },
  {
   "cell_type": "code",
   "execution_count": 11,
   "id": "86f72b7d",
   "metadata": {},
   "outputs": [
    {
     "name": "stdout",
     "output_type": "stream",
     "text": [
      "       Date  Pound_USD  day  month    year\n",
      "0  3/1/2000      1.627  3.0    1.0  2000.0\n"
     ]
    }
   ],
   "source": [
    "print(df.iloc[0:1,])"
   ]
  },
  {
   "cell_type": "code",
   "execution_count": 12,
   "id": "8c7d0b13",
   "metadata": {},
   "outputs": [],
   "source": [
    "### Select only end of month exchange rates\n",
    "exch = df.iloc[0:1,]\n",
    "\n",
    "for i in range(2000,2023):\n",
    "    for j in range(1,13):\n",
    "        df1=df[ (df['month'] == j) & (df['year'] == i) ]\n",
    "        df2=df1[-1:]\n",
    "        exch = pd.concat([exch,df2],axis=0)\n",
    "exch=exch.iloc[1:265,]"
   ]
  },
  {
   "cell_type": "code",
   "execution_count": 13,
   "id": "f2878a63",
   "metadata": {},
   "outputs": [
    {
     "name": "stdout",
     "output_type": "stream",
     "text": [
      "            Date  Pound_USD   day  month    year\n",
      "20     31/1/2000     1.6182  31.0    1.0  2000.0\n",
      "41     29/2/2000     1.5780  29.0    2.0  2000.0\n",
      "64     31/3/2000     1.5922  31.0    3.0  2000.0\n",
      "84     28/4/2000     1.5560  28.0    4.0  2000.0\n",
      "107    31/5/2000     1.4968  31.0    5.0  2000.0\n",
      "...          ...        ...   ...    ...     ...\n",
      "5651   31/8/2021     1.3747  31.0    8.0  2021.0\n",
      "5673   30/9/2021     1.3470  30.0    9.0  2021.0\n",
      "5694  29/10/2021     1.3686  29.0   10.0  2021.0\n",
      "5716  30/11/2021     1.3252  30.0   11.0  2021.0\n",
      "5738  30/12/2021     1.3500  30.0   12.0  2021.0\n",
      "\n",
      "[264 rows x 5 columns]\n"
     ]
    }
   ],
   "source": [
    "print(exch)"
   ]
  },
  {
   "cell_type": "code",
   "execution_count": 14,
   "id": "7bd8465f",
   "metadata": {},
   "outputs": [],
   "source": [
    "exch_UKUS=exch['Pound_USD']"
   ]
  },
  {
   "cell_type": "code",
   "execution_count": 15,
   "id": "2bc1b996",
   "metadata": {},
   "outputs": [
    {
     "name": "stdout",
     "output_type": "stream",
     "text": [
      "    Year      Jan      Feb      Mar      Apr      May      Jun      Jul  \\\n",
      "0   1982   94.300   94.600   94.500   94.900   95.800   97.000   97.500   \n",
      "1   1983   97.800   97.900   97.900   98.600   99.200   99.500   99.900   \n",
      "2   1984  101.900  102.400  102.600  103.100  103.400  103.700  104.100   \n",
      "3   1985  105.500  106.000  106.400  106.900  107.300  107.600  107.800   \n",
      "4   1986  109.600  109.300  108.800  108.600  108.900  109.500  109.500   \n",
      "5   1987  111.200  111.600  112.100  112.700  113.100  113.500  113.800   \n",
      "6   1988  115.700  116.000  116.500  117.100  117.500  118.000  118.500   \n",
      "7   1989  121.100  121.600  122.300  123.100  123.800  124.100  124.400   \n",
      "8   1990  127.400  128.000  128.700  128.900  129.200  129.900  130.400   \n",
      "9   1991  134.600  134.800  135.000  135.200  135.600  136.000  136.200   \n",
      "10  1992  138.100  138.600  139.300  139.500  139.700  140.200  140.500   \n",
      "11  1993  142.600  143.100  143.600  144.000  144.200  144.400  144.400   \n",
      "12  1994  146.200  146.700  147.200  147.400  147.500  148.000  148.400   \n",
      "13  1995  150.300  150.900  151.400  151.900  152.200  152.500  152.500   \n",
      "14  1996  154.400  154.900  155.700  156.300  156.600  156.700  157.000   \n",
      "15  1997  159.100  159.600  160.000  160.200  160.100  160.300  160.500   \n",
      "16  1998  161.600  161.900  162.200  162.500  162.800  163.000  163.200   \n",
      "17  1999  164.300  164.500  165.000  166.200  166.200  166.200  166.700   \n",
      "18  2000  168.800  169.800  171.200  171.300  171.500  172.400  172.800   \n",
      "19  2001  175.100  175.800  176.200  176.900  177.700  178.000  177.500   \n",
      "20  2002  177.100  177.800  178.800  179.800  179.800  179.900  180.100   \n",
      "21  2003  181.700  183.100  184.200  183.800  183.500  183.700  183.900   \n",
      "22  2004  185.200  186.200  187.400  188.000  189.100  189.700  189.400   \n",
      "23  2005  190.700  191.800  193.300  194.600  194.400  194.500  195.400   \n",
      "24  2006  198.300  198.700  199.800  201.500  202.500  202.900  203.500   \n",
      "25  2007  202.416  203.499  205.352  206.686  207.949  208.352  208.299   \n",
      "26  2008  211.080  211.693  213.528  214.823  216.632  218.815  219.964   \n",
      "27  2009  211.143  212.193  212.709  213.240  213.856  215.693  215.351   \n",
      "28  2010  216.687  216.741  217.631  218.009  218.178  217.965  218.011   \n",
      "29  2011  220.223  221.309  223.467  224.906  225.964  225.722  225.922   \n",
      "30  2012  226.665  227.663  229.392  230.085  229.815  229.478  229.104   \n",
      "31  2013  230.280  232.166  232.773  232.531  232.945  233.504  233.596   \n",
      "32  2014  233.916  234.781  236.293  237.072  237.900  238.343  238.250   \n",
      "33  2015  233.707  234.722  236.119  236.599  237.805  238.638  238.654   \n",
      "34  2016  236.916  237.111  238.132  239.261  240.236  241.038  240.647   \n",
      "35  2017  242.839  243.603  243.801  244.524  244.733  244.955  244.786   \n",
      "36  2018  247.867  248.991  249.554  250.546  251.588  251.989  252.006   \n",
      "37  2019  251.712  252.776  254.202  255.548  256.092  256.143  256.571   \n",
      "38  2020  257.971  258.678  258.115  256.389  256.394  257.797  259.101   \n",
      "39  2021  261.582  263.014  264.877  267.054  269.195  271.696  273.003   \n",
      "\n",
      "        Aug      Sep      Oct      Nov      Dec  \n",
      "0    97.700   97.900   98.200   98.000   97.600  \n",
      "1   100.200  100.700  101.000  101.200  101.300  \n",
      "2   104.500  105.000  105.300  105.300  105.300  \n",
      "3   108.000  108.300  108.700  109.000  109.300  \n",
      "4   109.700  110.200  110.300  110.400  110.500  \n",
      "5   114.400  115.000  115.300  115.400  115.400  \n",
      "6   119.000  119.800  120.200  120.300  120.500  \n",
      "7   124.600  125.000  125.600  125.900  126.100  \n",
      "8   131.600  132.700  133.500  133.800  133.800  \n",
      "9   136.600  137.200  137.400  137.800  137.900  \n",
      "10  140.900  141.300  141.800  142.000  141.900  \n",
      "11  144.800  145.100  145.700  145.800  145.800  \n",
      "12  149.000  149.400  149.500  149.700  149.700  \n",
      "13  152.900  153.200  153.700  153.600  153.500  \n",
      "14  157.300  157.800  158.300  158.600  158.600  \n",
      "15  160.800  161.200  161.600  161.500  161.300  \n",
      "16  163.400  163.600  164.000  164.000  163.900  \n",
      "17  167.100  167.900  168.200  168.300  168.300  \n",
      "18  172.800  173.700  174.000  174.100  174.000  \n",
      "19  177.500  178.300  177.700  177.400  176.700  \n",
      "20  180.700  181.000  181.300  181.300  180.900  \n",
      "21  184.600  185.200  185.000  184.500  184.300  \n",
      "22  189.500  189.900  190.900  191.000  190.300  \n",
      "23  196.400  198.800  199.200  197.600  196.800  \n",
      "24  203.900  202.900  201.800  201.500  201.800  \n",
      "25  207.917  208.490  208.936  210.177  210.036  \n",
      "26  219.086  218.783  216.573  212.425  210.228  \n",
      "27  215.834  215.969  216.177  216.330  215.949  \n",
      "28  218.312  218.439  218.711  218.803  219.179  \n",
      "29  226.545  226.889  226.421  226.230  225.672  \n",
      "30  230.379  231.407  231.317  230.221  229.601  \n",
      "31  233.877  234.149  233.546  233.069  233.049  \n",
      "32  237.852  238.031  237.433  236.151  234.812  \n",
      "33  238.316  237.945  237.838  237.336  236.525  \n",
      "34  240.849  241.428  241.729  241.353  241.432  \n",
      "35  245.519  246.819  246.663  246.669  246.524  \n",
      "36  252.146  252.439  252.885  252.038  251.233  \n",
      "37  256.558  256.759  257.346  257.208  256.974  \n",
      "38  259.918  260.280  260.388  260.229  260.474  \n",
      "39  273.567  274.310  276.589  277.948  278.802  \n"
     ]
    }
   ],
   "source": [
    "dfUS = pd.read_csv('US_CPI.csv') ### need to ensure numbers are in numbers, not general or other formats in CSV\n",
    "dfUS=dfUS.dropna()\n",
    "print(dfUS)"
   ]
  },
  {
   "cell_type": "code",
   "execution_count": 16,
   "id": "c2bc7793",
   "metadata": {},
   "outputs": [
    {
     "name": "stdout",
     "output_type": "stream",
     "text": [
      "Jan    168.8\n",
      "Feb    169.8\n",
      "Mar    171.2\n",
      "Apr    171.3\n",
      "May    171.5\n",
      "Jun    172.4\n",
      "Jul    172.8\n",
      "Aug    172.8\n",
      "Sep    173.7\n",
      "Oct    174.0\n",
      "Nov    174.1\n",
      "Dec    174.0\n",
      "Name: 18, dtype: float64\n"
     ]
    }
   ],
   "source": [
    "US_CPI_col=(dfUS.iloc[18,1:13])\n",
    "print(US_CPI_col)"
   ]
  },
  {
   "cell_type": "code",
   "execution_count": 17,
   "id": "150f5d5c",
   "metadata": {},
   "outputs": [
    {
     "name": "stdout",
     "output_type": "stream",
     "text": [
      "[168.8   169.8   171.2   171.3   171.5   172.4   172.8   172.8   173.7\n",
      " 174.    174.1   174.    175.1   175.8   176.2   176.9   177.7   178.\n",
      " 177.5   177.5   178.3   177.7   177.4   176.7   177.1   177.8   178.8\n",
      " 179.8   179.8   179.9   180.1   180.7   181.    181.3   181.3   180.9\n",
      " 181.7   183.1   184.2   183.8   183.5   183.7   183.9   184.6   185.2\n",
      " 185.    184.5   184.3   185.2   186.2   187.4   188.    189.1   189.7\n",
      " 189.4   189.5   189.9   190.9   191.    190.3   190.7   191.8   193.3\n",
      " 194.6   194.4   194.5   195.4   196.4   198.8   199.2   197.6   196.8\n",
      " 198.3   198.7   199.8   201.5   202.5   202.9   203.5   203.9   202.9\n",
      " 201.8   201.5   201.8   202.416 203.499 205.352 206.686 207.949 208.352\n",
      " 208.299 207.917 208.49  208.936 210.177 210.036 211.08  211.693 213.528\n",
      " 214.823 216.632 218.815 219.964 219.086 218.783 216.573 212.425 210.228\n",
      " 211.143 212.193 212.709 213.24  213.856 215.693 215.351 215.834 215.969\n",
      " 216.177 216.33  215.949 216.687 216.741 217.631 218.009 218.178 217.965\n",
      " 218.011 218.312 218.439 218.711 218.803 219.179 220.223 221.309 223.467\n",
      " 224.906 225.964 225.722 225.922 226.545 226.889 226.421 226.23  225.672\n",
      " 226.665 227.663 229.392 230.085 229.815 229.478 229.104 230.379 231.407\n",
      " 231.317 230.221 229.601 230.28  232.166 232.773 232.531 232.945 233.504\n",
      " 233.596 233.877 234.149 233.546 233.069 233.049 233.916 234.781 236.293\n",
      " 237.072 237.9   238.343 238.25  237.852 238.031 237.433 236.151 234.812\n",
      " 233.707 234.722 236.119 236.599 237.805 238.638 238.654 238.316 237.945\n",
      " 237.838 237.336 236.525 236.916 237.111 238.132 239.261 240.236 241.038\n",
      " 240.647 240.849 241.428 241.729 241.353 241.432 242.839 243.603 243.801\n",
      " 244.524 244.733 244.955 244.786 245.519 246.819 246.663 246.669 246.524\n",
      " 247.867 248.991 249.554 250.546 251.588 251.989 252.006 252.146 252.439\n",
      " 252.885 252.038 251.233 251.712 252.776 254.202 255.548 256.092 256.143\n",
      " 256.571 256.558 256.759 257.346 257.208 256.974 257.971 258.678 258.115\n",
      " 256.389 256.394 257.797 259.101 259.918 260.28  260.388 260.229 260.474\n",
      " 261.582 263.014 264.877 267.054 269.195 271.696 273.003 273.567 274.31\n",
      " 276.589 277.948 278.802]\n"
     ]
    }
   ],
   "source": [
    "for i in range(19,40):\n",
    "    US_CPI_col=np.concatenate((US_CPI_col,dfUS.iloc[i,1:13]),axis=0)\n",
    "print(US_CPI_col)"
   ]
  },
  {
   "cell_type": "code",
   "execution_count": 18,
   "id": "34b455ac",
   "metadata": {},
   "outputs": [
    {
     "data": {
      "text/plain": [
       "(264,)"
      ]
     },
     "execution_count": 18,
     "metadata": {},
     "output_type": "execute_result"
    }
   ],
   "source": [
    "US_CPI_col.shape\n",
    "### 2000 - 2021, 22 x 12 months = 264"
   ]
  },
  {
   "cell_type": "code",
   "execution_count": 19,
   "id": "f70f813f",
   "metadata": {},
   "outputs": [
    {
     "name": "stdout",
     "output_type": "stream",
     "text": [
      "    Year      Jan      Feb      Mar      Apr      May      Jun      Jul  \\\n",
      "0   1988   48.395   48.551   48.717   49.280   49.529   49.730   49.720   \n",
      "1   1989   50.765   50.959   51.158   51.871   52.168   52.339   52.288   \n",
      "2   1990   53.637   53.954   54.217   55.211   55.735   55.929   55.836   \n",
      "3   1991   57.421   57.740   57.933   59.873   60.294   60.621   60.455   \n",
      "4   1992   61.423   61.707   62.020   62.694   62.911   62.939   62.625   \n",
      "5   1993   62.800   63.187   63.561   64.256   64.495   64.454   64.249   \n",
      "6   1994   64.477   64.777   64.981   65.550   65.759   65.757   65.354   \n",
      "7   1995   66.030   66.323   66.670   67.049   67.386   67.450   67.098   \n",
      "8   1996   67.775   68.095   68.378   68.734   68.946   69.013   68.575   \n",
      "9   1997   69.231   69.399   69.549   69.805   70.021   70.168   69.943   \n",
      "10  1998   70.254   70.498   70.700   71.072   71.449   71.343   70.952   \n",
      "11  1999   71.367   71.489   71.880   72.168   72.382   72.306   71.877   \n",
      "12  2000   71.936   72.159   72.338   72.573   72.771   72.876   72.508   \n",
      "13  2001   72.553   72.749   72.995   73.420   73.980   74.126   73.559   \n",
      "14  2002   73.736   73.824   74.116   74.426   74.592   74.583   74.372   \n",
      "15  2003   74.721   74.989   75.255   75.502   75.528   75.408   75.346   \n",
      "16  2004   75.786   75.953   76.088   76.358   76.637   76.601   76.405   \n",
      "17  2005   77.015   77.208   77.542   77.843   78.104   78.143   78.193   \n",
      "18  2006   78.514   78.779   78.946   79.423   79.854   80.091   80.045   \n",
      "19  2007   80.645   80.983   81.366   81.622   81.849   82.028   81.529   \n",
      "20  2008   82.407   82.997   83.369   84.046   84.584   85.162   85.145   \n",
      "21  2009   84.878   85.613   85.759   85.963   86.441   86.689   86.658   \n",
      "22  2010   87.828   88.152   88.661   89.170   89.373   89.506   89.305   \n",
      "23  2011   91.312   91.987   92.241   93.163   93.353   93.266   93.262   \n",
      "24  2012   94.577   95.147   95.433   95.999   95.942   95.550   95.650   \n",
      "25  2013   97.144   97.795   98.135   98.323   98.532   98.339   98.295   \n",
      "26  2014   98.979   99.481   99.711  100.066  100.004  100.203   99.862   \n",
      "27  2015   99.258   99.512   99.701   99.945  100.115  100.163  100.008   \n",
      "28  2016   99.549   99.795  100.162  100.232  100.422  100.624  100.571   \n",
      "29  2017  101.356  102.088  102.482  102.949  103.309  103.284  103.215   \n",
      "30  2018  104.386  104.853  105.001  105.401  105.810  105.811  105.769   \n",
      "31  2019  106.315  106.813  107.004  107.633  107.948  107.933  107.949   \n",
      "32  2020  108.196  108.639  108.634  108.459  108.466  108.584  109.072   \n",
      "33  2021  108.954  109.089  109.410  110.114  110.760  111.314  111.297   \n",
      "\n",
      "        Aug      Sep      Oct      Nov      Dec  \n",
      "0    49.880   50.122   50.347   50.534   50.608  \n",
      "1    52.373   52.722   53.108   53.326   53.393  \n",
      "2    56.416   57.007   57.428   57.485   57.460  \n",
      "3    60.870   61.058   61.306   61.547   61.599  \n",
      "4    62.666   62.874   63.072   63.117   63.170  \n",
      "5    64.495   64.797   64.703   64.561   64.692  \n",
      "6    65.709   65.794   65.684   65.750   66.015  \n",
      "7    67.419   67.749   67.564   67.567   67.964  \n",
      "8    68.942   69.282   69.257   69.306   69.519  \n",
      "9    70.305   70.553   70.571   70.637   70.708  \n",
      "10   71.238   71.548   71.534   71.590   71.808  \n",
      "11   72.097   72.387   72.330   72.435   72.615  \n",
      "12   72.526   73.083   73.050   73.205   73.200  \n",
      "13   73.852   74.054   73.933   73.788   73.975  \n",
      "14   74.586   74.789   74.944   74.928   75.204  \n",
      "15   75.623   75.858   75.959   75.926   76.159  \n",
      "16   76.602   76.678   76.878   77.031   77.433  \n",
      "17   78.449   78.565   78.683   78.679   78.918  \n",
      "18   80.394   80.460   80.587   80.803   81.274  \n",
      "19   81.818   81.875   82.274   82.494   82.967  \n",
      "20   85.673   86.142   85.936   85.842   85.498  \n",
      "21   87.047   87.083   87.235   87.480   87.972  \n",
      "22   89.764   89.765   89.995   90.331   91.230  \n",
      "23   93.810   94.413   94.479   94.634   95.059  \n",
      "24   96.134   96.492   97.001   97.154   97.604  \n",
      "25   98.720   99.070   99.126   99.179   99.589  \n",
      "26  100.249  100.285  100.404  100.142  100.134  \n",
      "27  100.257  100.160  100.293  100.253  100.336  \n",
      "28  100.898  101.138  101.205  101.421  101.900  \n",
      "29  103.785  104.131  104.242  104.557  104.929  \n",
      "30  106.538  106.650  106.735  106.972  107.137  \n",
      "31  108.375  108.479  108.298  108.549  108.532  \n",
      "32  108.613  109.056  109.053  108.891  109.171  \n",
      "33  112.085  112.415  113.640  114.477  115.051  \n"
     ]
    }
   ],
   "source": [
    "dfUK = pd.read_csv('UK_CPI.csv') ### need to ensure numbers are in numbers, not general or other formats in CSV\n",
    "dfUK=dfUK.dropna()\n",
    "print(dfUK)"
   ]
  },
  {
   "cell_type": "code",
   "execution_count": 20,
   "id": "246b2659",
   "metadata": {},
   "outputs": [
    {
     "name": "stdout",
     "output_type": "stream",
     "text": [
      "Jan    71.936\n",
      "Feb    72.159\n",
      "Mar    72.338\n",
      "Apr    72.573\n",
      "May    72.771\n",
      "Jun    72.876\n",
      "Jul    72.508\n",
      "Aug    72.526\n",
      "Sep    73.083\n",
      "Oct    73.050\n",
      "Nov    73.205\n",
      "Dec    73.200\n",
      "Name: 12, dtype: float64\n"
     ]
    }
   ],
   "source": [
    "UK_CPI_col=(dfUK.iloc[12,1:13])\n",
    "print(UK_CPI_col)"
   ]
  },
  {
   "cell_type": "code",
   "execution_count": 21,
   "id": "c07dd2e6",
   "metadata": {},
   "outputs": [
    {
     "name": "stdout",
     "output_type": "stream",
     "text": [
      "[ 71.936  72.159  72.338  72.573  72.771  72.876  72.508  72.526  73.083\n",
      "  73.05   73.205  73.2    72.553  72.749  72.995  73.42   73.98   74.126\n",
      "  73.559  73.852  74.054  73.933  73.788  73.975  73.736  73.824  74.116\n",
      "  74.426  74.592  74.583  74.372  74.586  74.789  74.944  74.928  75.204\n",
      "  74.721  74.989  75.255  75.502  75.528  75.408  75.346  75.623  75.858\n",
      "  75.959  75.926  76.159  75.786  75.953  76.088  76.358  76.637  76.601\n",
      "  76.405  76.602  76.678  76.878  77.031  77.433  77.015  77.208  77.542\n",
      "  77.843  78.104  78.143  78.193  78.449  78.565  78.683  78.679  78.918\n",
      "  78.514  78.779  78.946  79.423  79.854  80.091  80.045  80.394  80.46\n",
      "  80.587  80.803  81.274  80.645  80.983  81.366  81.622  81.849  82.028\n",
      "  81.529  81.818  81.875  82.274  82.494  82.967  82.407  82.997  83.369\n",
      "  84.046  84.584  85.162  85.145  85.673  86.142  85.936  85.842  85.498\n",
      "  84.878  85.613  85.759  85.963  86.441  86.689  86.658  87.047  87.083\n",
      "  87.235  87.48   87.972  87.828  88.152  88.661  89.17   89.373  89.506\n",
      "  89.305  89.764  89.765  89.995  90.331  91.23   91.312  91.987  92.241\n",
      "  93.163  93.353  93.266  93.262  93.81   94.413  94.479  94.634  95.059\n",
      "  94.577  95.147  95.433  95.999  95.942  95.55   95.65   96.134  96.492\n",
      "  97.001  97.154  97.604  97.144  97.795  98.135  98.323  98.532  98.339\n",
      "  98.295  98.72   99.07   99.126  99.179  99.589  98.979  99.481  99.711\n",
      " 100.066 100.004 100.203  99.862 100.249 100.285 100.404 100.142 100.134\n",
      "  99.258  99.512  99.701  99.945 100.115 100.163 100.008 100.257 100.16\n",
      " 100.293 100.253 100.336  99.549  99.795 100.162 100.232 100.422 100.624\n",
      " 100.571 100.898 101.138 101.205 101.421 101.9   101.356 102.088 102.482\n",
      " 102.949 103.309 103.284 103.215 103.785 104.131 104.242 104.557 104.929\n",
      " 104.386 104.853 105.001 105.401 105.81  105.811 105.769 106.538 106.65\n",
      " 106.735 106.972 107.137 106.315 106.813 107.004 107.633 107.948 107.933\n",
      " 107.949 108.375 108.479 108.298 108.549 108.532 108.196 108.639 108.634\n",
      " 108.459 108.466 108.584 109.072 108.613 109.056 109.053 108.891 109.171\n",
      " 108.954 109.089 109.41  110.114 110.76  111.314 111.297 112.085 112.415\n",
      " 113.64  114.477 115.051]\n"
     ]
    }
   ],
   "source": [
    "for i in range(13,34):\n",
    "    UK_CPI_col=np.concatenate((UK_CPI_col,dfUK.iloc[i,1:13]),axis=0)\n",
    "print(UK_CPI_col)"
   ]
  },
  {
   "cell_type": "code",
   "execution_count": 22,
   "id": "0ea06e13",
   "metadata": {},
   "outputs": [
    {
     "data": {
      "image/png": "[encoded data removed]",
      "text/plain": [
       "<Figure size 640x480 with 1 Axes>"
      ]
     },
     "metadata": {},
     "output_type": "display_data"
    }
   ],
   "source": [
    "### Plot 1/exch_UKUS, US_CPI_col, UK_CPI_col, real exch rate: 2000 to 2021\n",
    "\n",
    "time = range(264)  ### range(start, stop, step)\n",
    "\n",
    "import matplotlib.pyplot as plt\n",
    "# plotting the points \n",
    "exch_USUK=1/exch_UKUS\n",
    "realex=exch_USUK * US_CPI_col / UK_CPI_col\n",
    "\n",
    "plt.plot(time, exch_USUK)\n",
    "plt.plot(time, US_CPI_col/250)\n",
    "plt.plot(time, UK_CPI_col/100)\n",
    "plt.plot(time, realex/2)\n",
    "\n",
    "#plt.xticks([2000,\"\",\"\",\"\",\"\",2005,\"\",\"\",\"\",\"\",2010,\"\",\"\",\"\",\"\",2015,\"\",\"\",\"\",\"\",2020,\"\"])\n",
    "\n",
    "# naming the x axis\n",
    "plt.xlabel('Time')\n",
    "# naming the y axis\n",
    "plt.ylabel('Levels')\n",
    "\n",
    "plt.legend(['exch_USUK','US_CPI','UK_CPI','Realexch'])\n",
    "  \n",
    "# giving a title to my graph\n",
    "plt.title('PPP (Scaled): 2000 - 2021')\n",
    "  \n",
    "# function to show the plot\n",
    "plt.show()"
   ]
  },
  {
   "cell_type": "code",
   "execution_count": 23,
   "id": "0944c5a4",
   "metadata": {},
   "outputs": [],
   "source": [
    "### Transform exch rate and the CPIs to log forms\n",
    "logexch=np.log(1/exch_UKUS) ### switch to pound per dollar\n",
    "logUScpi=np.log(US_CPI_col)\n",
    "logUKcpi=np.log(UK_CPI_col)"
   ]
  },
  {
   "cell_type": "code",
   "execution_count": 24,
   "id": "e15cf981",
   "metadata": {},
   "outputs": [],
   "source": [
    "import statsmodels.api as sm\n",
    "from statsmodels.tsa.stattools import adfuller\n",
    "\n",
    "def check_stationarity(ts):\n",
    "    dftest = adfuller(ts)\n",
    "    adf = dftest[0]\n",
    "    pvalue = dftest[1]\n",
    "    critical_value = dftest[4]['10%']\n",
    "    if (pvalue < 0.10) and (adf < critical_value):\n",
    "        print('The series is stationary')\n",
    "    else:\n",
    "        print('The series is NOT stationary')"
   ]
  },
  {
   "cell_type": "markdown",
   "id": "f6e4ec04",
   "metadata": {},
   "source": [
    "# Now we perform Unit Root and Cointegration Tests for Monthly USD-Pound exch rate, US-CPI, and UK-CPI from 2000 to 2010"
   ]
  },
  {
   "cell_type": "code",
   "execution_count": 25,
   "id": "24545c72",
   "metadata": {},
   "outputs": [],
   "source": [
    "logexch1=logexch.iloc[0:132,] ### 11 years monthly data from 2000 to 2010\n",
    "logUScpi1=logUScpi[0:132,]  ### Note logUScpi was constructed as numpy array - hence cannot use .iloc directly from pandas\n",
    "logUKcpi1=logUScpi[0:132,]\n",
    "logr1 = logexch1 + logUScpi1 - logUKcpi1"
   ]
  },
  {
   "cell_type": "code",
   "execution_count": 26,
   "id": "cb62e7fb",
   "metadata": {},
   "outputs": [
    {
     "name": "stdout",
     "output_type": "stream",
     "text": [
      "logexch_ADF Statistic: -1.987442\n",
      "logexch_p-value: 0.292106\n",
      "The series is NOT stationary\n",
      "Dlogexch_ADF Statistic: -5.320925\n",
      "Dlogexch_p-value: 0.000005\n",
      "The series is stationary\n"
     ]
    }
   ],
   "source": [
    "### Unit Root Tests of ln(USD-UKP excange rate)\n",
    "print('logexch_ADF Statistic: %f' % adfuller(logexch1)[0])\n",
    "print('logexch_p-value: %f' % adfuller(logexch1)[1])\n",
    "check_stationarity(logexch1)\n",
    "\n",
    "Dlogexch1 = (logexch1.diff()).dropna()\n",
    "print('Dlogexch_ADF Statistic: %f' % adfuller(Dlogexch1)[0])\n",
    "print('Dlogexch_p-value: %f' % adfuller(Dlogexch1)[1])\n",
    "check_stationarity(Dlogexch1)"
   ]
  },
  {
   "cell_type": "code",
   "execution_count": 27,
   "id": "d0a05bd4",
   "metadata": {},
   "outputs": [
    {
     "name": "stdout",
     "output_type": "stream",
     "text": [
      "logUScpi_ADF Statistic: -0.806206\n",
      "logUScpi_p-value: 0.817292\n",
      "The series is NOT stationary\n",
      "DlogUScpi_ADF Statistic: -7.409877\n",
      "DlogUScpi_p-value: 0.000000\n",
      "The series is stationary\n"
     ]
    }
   ],
   "source": [
    "### Unit Root Tests of ln(US_CPI)\n",
    "print('logUScpi_ADF Statistic: %f' % adfuller(logUScpi1)[0])\n",
    "print('logUScpi_p-value: %f' % adfuller(logUScpi1)[1])\n",
    "check_stationarity(logUScpi1)\n",
    "\n",
    "DlogUScpi1 = (np.diff(logUScpi1)) \n",
    "### Note above, we use np.diff(logUScpi), not (logUScpi.diff()) as Diff is a numpy function, not an array method, in this case.\n",
    "print('DlogUScpi_ADF Statistic: %f' % adfuller(DlogUScpi1)[0])\n",
    "print('DlogUScpi_p-value: %f' % adfuller(DlogUScpi1)[1])\n",
    "check_stationarity(DlogUScpi1)"
   ]
  },
  {
   "cell_type": "code",
   "execution_count": 28,
   "id": "cded65d2",
   "metadata": {},
   "outputs": [
    {
     "name": "stdout",
     "output_type": "stream",
     "text": [
      "logUKcpi_ADF Statistic: -0.806206\n",
      "logUKcpi_p-value: 0.817292\n",
      "The series is NOT stationary\n",
      "DlogUKcpi_ADF Statistic: -7.409877\n",
      "DlogUKcpi_p-value: 0.000000\n",
      "The series is stationary\n"
     ]
    }
   ],
   "source": [
    "### Unit Root Tests of ln(UK_CPI)\n",
    "print('logUKcpi_ADF Statistic: %f' % adfuller(logUKcpi1)[0])\n",
    "print('logUKcpi_p-value: %f' % adfuller(logUKcpi1)[1])\n",
    "check_stationarity(logUScpi1)\n",
    "\n",
    "DlogUKcpi1 = (np.diff(logUKcpi1))\n",
    "print('DlogUKcpi_ADF Statistic: %f' % adfuller(DlogUKcpi1)[0])\n",
    "print('DlogUKcpi_p-value: %f' % adfuller(DlogUKcpi1)[1])\n",
    "check_stationarity(DlogUKcpi1)"
   ]
  },
  {
   "cell_type": "code",
   "execution_count": 29,
   "id": "d7e68719",
   "metadata": {},
   "outputs": [
    {
     "name": "stdout",
     "output_type": "stream",
     "text": [
      "logr_ADF Statistic: -1.987442\n",
      "logr_p-value: 0.292106\n",
      "The series is NOT stationary\n",
      "Dlogr_ADF Statistic: -5.320925\n",
      "Dlogr_p-value: 0.000005\n",
      "The series is stationary\n"
     ]
    }
   ],
   "source": [
    "### Unit root tests of log Real Exchange Rate in Pound per USD\n",
    "print('logr_ADF Statistic: %f' % adfuller(logr1)[0])\n",
    "print('logr_p-value: %f' % adfuller(logr1)[1])\n",
    "check_stationarity(logr1)\n",
    "\n",
    "Dlogr1 = (np.diff(logr1))\n",
    "print('Dlogr_ADF Statistic: %f' % adfuller(Dlogr1)[0])\n",
    "print('Dlogr_p-value: %f' % adfuller(Dlogr1)[1])\n",
    "check_stationarity(Dlogr1)"
   ]
  },
  {
   "cell_type": "code",
   "execution_count": 30,
   "id": "304eb79c",
   "metadata": {},
   "outputs": [],
   "source": [
    "### Hence logexch, logUScpi, logUKcpi does not appear to be cointegrated based on log real being unit root"
   ]
  },
  {
   "cell_type": "markdown",
   "id": "4733e813",
   "metadata": {},
   "source": [
    "# Now we perform Unit Root and Cointegration Tests for Monthly USD-Pound exch rate, US-CPI, and UK-CPI from 2011 to 2021"
   ]
  },
  {
   "cell_type": "code",
   "execution_count": 31,
   "id": "e16bb9d8",
   "metadata": {},
   "outputs": [],
   "source": [
    "logexch2=logexch.iloc[133:265,]\n",
    "logUScpi2=logUScpi[133:265,]  ### Note logUScpi was constructed as numpy array - hence cannot use .iloc directly from pandas\n",
    "logUKcpi2=logUScpi[133:265,]\n",
    "logr2 = logexch2 + logUScpi2 - logUKcpi2"
   ]
  },
  {
   "cell_type": "code",
   "execution_count": 32,
   "id": "914ec222",
   "metadata": {},
   "outputs": [
    {
     "name": "stdout",
     "output_type": "stream",
     "text": [
      "logexch_ADF Statistic: -1.577993\n",
      "logexch_p-value: 0.494638\n",
      "The series is NOT stationary\n",
      "Dlogexch_ADF Statistic: -12.854717\n",
      "Dlogexch_p-value: 0.000000\n",
      "The series is stationary\n"
     ]
    }
   ],
   "source": [
    "### Unit Root Tests of ln(USD-USD excange rate)\n",
    "print('logexch_ADF Statistic: %f' % adfuller(logexch2)[0])\n",
    "print('logexch_p-value: %f' % adfuller(logexch2)[1])\n",
    "check_stationarity(logexch2)\n",
    "\n",
    "Dlogexch2 = (logexch2.diff()).dropna()\n",
    "print('Dlogexch_ADF Statistic: %f' % adfuller(Dlogexch2)[0])\n",
    "print('Dlogexch_p-value: %f' % adfuller(Dlogexch2)[1])\n",
    "check_stationarity(Dlogexch2)"
   ]
  },
  {
   "cell_type": "code",
   "execution_count": 33,
   "id": "c1e02a80",
   "metadata": {},
   "outputs": [
    {
     "name": "stdout",
     "output_type": "stream",
     "text": [
      "logUScpi_ADF Statistic: 1.812866\n",
      "logUScpi_p-value: 0.998374\n",
      "The series is NOT stationary\n",
      "DlogUScpi_ADF Statistic: -7.613445\n",
      "DlogUScpi_p-value: 0.000000\n",
      "The series is stationary\n"
     ]
    }
   ],
   "source": [
    "### Unit Root Tests of ln(US_CPI)\n",
    "print('logUScpi_ADF Statistic: %f' % adfuller(logUScpi2)[0])\n",
    "print('logUScpi_p-value: %f' % adfuller(logUScpi2)[1])\n",
    "check_stationarity(logUScpi2)\n",
    "\n",
    "DlogUScpi2 = (np.diff(logUScpi2)) \n",
    "### Note above, we use np.diff(logUScpi), not (logUScpi.diff()) as Diff is a numpy function, not an array method, in this case.\n",
    "print('DlogUScpi_ADF Statistic: %f' % adfuller(DlogUScpi2)[0])\n",
    "print('DlogUScpi_p-value: %f' % adfuller(DlogUScpi2)[1])\n",
    "check_stationarity(DlogUScpi2)"
   ]
  },
  {
   "cell_type": "code",
   "execution_count": 34,
   "id": "cdc40ad2",
   "metadata": {},
   "outputs": [
    {
     "name": "stdout",
     "output_type": "stream",
     "text": [
      "logUKcpi_ADF Statistic: 1.812866\n",
      "logUKcpi_p-value: 0.998374\n",
      "The series is NOT stationary\n",
      "DlogUKcpi_ADF Statistic: -7.613445\n",
      "DlogUKcpi_p-value: 0.000000\n",
      "The series is stationary\n"
     ]
    }
   ],
   "source": [
    "### Unit Root Tests of ln(UK_CPI)\n",
    "print('logUKcpi_ADF Statistic: %f' % adfuller(logUKcpi2)[0])\n",
    "print('logUKcpi_p-value: %f' % adfuller(logUKcpi2)[1])\n",
    "check_stationarity(logUScpi2)\n",
    "\n",
    "DlogUKcpi2 = (np.diff(logUKcpi2))\n",
    "print('DlogUKcpi_ADF Statistic: %f' % adfuller(DlogUKcpi2)[0])\n",
    "print('DlogUKcpi_p-value: %f' % adfuller(DlogUKcpi2)[1])\n",
    "check_stationarity(DlogUKcpi2)"
   ]
  },
  {
   "cell_type": "code",
   "execution_count": 35,
   "id": "ebfed1ad",
   "metadata": {},
   "outputs": [
    {
     "name": "stdout",
     "output_type": "stream",
     "text": [
      "logr_ADF Statistic: -1.577993\n",
      "logr_p-value: 0.494638\n",
      "The series is NOT stationary\n",
      "Dlogr_ADF Statistic: -12.854717\n",
      "Dlogr_p-value: 0.000000\n",
      "The series is stationary\n"
     ]
    }
   ],
   "source": [
    "### Unit root tests of log Real Exchange Rate in Pound per USD\n",
    "print('logr_ADF Statistic: %f' % adfuller(logr2)[0])\n",
    "print('logr_p-value: %f' % adfuller(logr2)[1])\n",
    "check_stationarity(logr2)\n",
    "\n",
    "Dlogr2 = (np.diff(logr2))\n",
    "print('Dlogr_ADF Statistic: %f' % adfuller(Dlogr2)[0])\n",
    "print('Dlogr_p-value: %f' % adfuller(Dlogr2)[1])\n",
    "check_stationarity(Dlogr2)"
   ]
  },
  {
   "cell_type": "markdown",
   "id": "87726a6a",
   "metadata": {},
   "source": [
    "# Johansen Cointegration Trace Stats Tests"
   ]
  },
  {
   "cell_type": "code",
   "execution_count": 36,
   "id": "eb1bbf6d",
   "metadata": {},
   "outputs": [
    {
     "name": "stdout",
     "output_type": "stream",
     "text": [
      "     Pound_USD  logUScpi1  logUKcpi1\n",
      "0    -0.481314   5.128715   4.275777\n",
      "1    -0.456158   5.134621   4.278872\n",
      "2    -0.465117   5.142832   4.281350\n",
      "3    -0.442118   5.143416   4.284593\n",
      "4    -0.403329   5.144583   4.287318\n",
      "..         ...        ...        ...\n",
      "259  -0.318236   5.611547   4.719258\n",
      "260  -0.297880   5.614259   4.722197\n",
      "261  -0.313788   5.622533   4.733036\n",
      "262  -0.281563   5.627434   4.740374\n",
      "263  -0.300105   5.630502   4.745376\n",
      "\n",
      "[264 rows x 3 columns]\n"
     ]
    }
   ],
   "source": [
    "df1 = pd.DataFrame(logexch)\n",
    "df1.reset_index(drop=True, inplace=True) ### reset index col so concat will not take index into account\n",
    "df2 = pd.DataFrame(logUScpi,columns=['logUScpi1'])\n",
    "df2.reset_index(drop=True, inplace=True)\n",
    "df3 = pd.DataFrame(logUKcpi,columns=['logUKcpi1'])\n",
    "df3.reset_index(drop=True, inplace=True)\n",
    "data=pd.concat([df1,df2,df3],axis=1)\n",
    "print(data)\n",
    "########## 2000 to 2021 monthly, 22 x 12 = 264 rows"
   ]
  },
  {
   "cell_type": "code",
   "execution_count": 37,
   "id": "a9019ad3",
   "metadata": {},
   "outputs": [
    {
     "name": "stdout",
     "output_type": "stream",
     "text": [
      "Trace Stat: [23.82659872  7.19131497  0.06727354]\n",
      "Critical Val:\n",
      " [[27.0669 29.7961 35.4628]\n",
      " [13.4294 15.4943 19.9349]\n",
      " [ 2.7055  3.8415  6.6349]]\n"
     ]
    }
   ],
   "source": [
    "from statsmodels.tsa.vector_ar.vecm import coint_johansen\n",
    "coint = coint_johansen(data, 0, 3)                   # 2nd argument: -1 (no deterministic term), 0 (constant), 1 (linear trend)\n",
    "                                                     # 3rd argument: number of lagged differences\n",
    "print('Trace Stat:', coint.trace_stat)               # trace stats \n",
    "print('Critical Val:\\n', coint.trace_stat_crit_vals) # critical val [10%, 5%, 1%]"
   ]
  },
  {
   "cell_type": "code",
   "execution_count": 38,
   "id": "958a6bf4",
   "metadata": {},
   "outputs": [],
   "source": [
    "### Using 3 lags. H_0: r=0 is not rejected. There appears to be no cointegration at 10% significance level."
   ]
  },
  {
   "cell_type": "code",
   "execution_count": 39,
   "id": "deab4a14",
   "metadata": {},
   "outputs": [
    {
     "name": "stdout",
     "output_type": "stream",
     "text": [
      "Max Eigenvalue Stat: [16.63528376  7.12404142  0.06727354]\n",
      "Critical Val:\n",
      " [[18.8928 21.1314 25.865 ]\n",
      " [12.2971 14.2639 18.52  ]\n",
      " [ 2.7055  3.8415  6.6349]]\n"
     ]
    }
   ],
   "source": [
    "### Confirm using max eigenvalue test\n",
    "print('Max Eigenvalue Stat:', coint.max_eig_stat)               # max eig stats [eiv1, eiv2, eiv3]\n",
    "print('Critical Val:\\n', coint.max_eig_stat_crit_vals)          # critical val [10%, 5%, 1%]"
   ]
  },
  {
   "cell_type": "code",
   "execution_count": null,
   "id": "8bbe5422",
   "metadata": {},
   "outputs": [],
   "source": []
  }
 ],
 "metadata": {
  "kernelspec": {
   "display_name": "Python 3 (ipykernel)",
   "language": "python",
   "name": "python3"
  },
  "language_info": {
   "codemirror_mode": {
    "name": "ipython",
    "version": 3
   },
   "file_extension": ".py",
   "mimetype": "text/x-python",
   "name": "python",
   "nbconvert_exporter": "python",
   "pygments_lexer": "ipython3",
   "version": "3.9.13"
  }
 },
 "nbformat": 4,
 "nbformat_minor": 5
}
