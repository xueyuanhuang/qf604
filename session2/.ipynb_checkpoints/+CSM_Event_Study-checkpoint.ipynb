{
 "cells": [
  {
   "cell_type": "markdown",
   "id": "9509c7bd",
   "metadata": {},
   "source": [
    "# Event Study of Chartered SemiConductor Manufacturing Rights Issue "
   ]
  },
  {
   "cell_type": "markdown",
   "id": "25730799",
   "metadata": {},
   "source": [
    "Event date on September 2, 2002 (Monday). News was in morning of 2 Sep before start of stock market trading."
   ]
  },
  {
   "cell_type": "code",
   "execution_count": 1,
   "id": "c02edba8",
   "metadata": {},
   "outputs": [
    {
     "name": "stdout",
     "output_type": "stream",
     "text": [
      "          Date  CSI_Price  STI_Price  3mT_rate   CSI_Ret   STI_Ret\n",
      "0     2/7/2001       4.62    1706.62      2.00  0.013072 -0.011581\n",
      "1     3/7/2001       4.60    1703.27      2.00 -0.004338 -0.001965\n",
      "2     4/7/2001       4.52    1693.71      2.01 -0.017544 -0.005629\n",
      "3     5/7/2001       4.52    1688.02      2.03  0.000000 -0.003365\n",
      "4     6/7/2001       4.38    1660.76      2.04 -0.031463 -0.016281\n",
      "..         ...        ...        ...       ...       ...       ...\n",
      "298   6/9/2002       1.61    1442.58      0.85  0.006231 -0.003591\n",
      "299   9/9/2002       1.55    1423.89      0.90 -0.037979 -0.013041\n",
      "300  10/9/2002       1.56    1447.88      0.95  0.006431  0.016708\n",
      "301  11/9/2002       1.53    1448.48      0.96 -0.019418  0.000414\n",
      "302  12/9/2002       1.51    1433.43      0.96 -0.013158 -0.010445\n",
      "\n",
      "[303 rows x 6 columns]\n"
     ]
    }
   ],
   "source": [
    "import pandas as pd\n",
    "import numpy as np\n",
    "df = pd.read_csv('CSM_Event_Study.csv') ### need to ensure numbers are in numbers, not general or other formats in CSV\n",
    "print(df)"
   ]
  },
  {
   "cell_type": "markdown",
   "id": "da900586",
   "metadata": {},
   "source": [
    "Data have been cleaned to remove weekend and holiday retirms of zeros since prices are reported as stagnant on these days from the previous trading day."
   ]
  },
  {
   "cell_type": "code",
   "execution_count": 2,
   "id": "fa4fa17a",
   "metadata": {},
   "outputs": [
    {
     "name": "stdout",
     "output_type": "stream",
     "text": [
      "<class 'pandas.core.frame.DataFrame'>\n",
      "RangeIndex: 303 entries, 0 to 302\n",
      "Data columns (total 6 columns):\n",
      " #   Column     Non-Null Count  Dtype  \n",
      "---  ------     --------------  -----  \n",
      " 0   Date       303 non-null    object \n",
      " 1   CSI_Price  303 non-null    float64\n",
      " 2   STI_Price  303 non-null    float64\n",
      " 3   3mT_rate   303 non-null    float64\n",
      " 4   CSI_Ret    303 non-null    float64\n",
      " 5   STI_Ret    303 non-null    float64\n",
      "dtypes: float64(5), object(1)\n",
      "memory usage: 14.3+ KB\n"
     ]
    }
   ],
   "source": [
    "df.info()"
   ]
  },
  {
   "cell_type": "markdown",
   "id": "af63442a",
   "metadata": {},
   "source": [
    "Selecting only rows from -250 days to -11 (inclusive) trading days from event date of 2 Sep 2002 for Estimation Period"
   ]
  },
  {
   "cell_type": "code",
   "execution_count": 3,
   "id": "bd1838a5",
   "metadata": {},
   "outputs": [],
   "source": [
    "df1=df"
   ]
  },
  {
   "cell_type": "code",
   "execution_count": 4,
   "id": "3b15ed5e",
   "metadata": {},
   "outputs": [
    {
     "name": "stdout",
     "output_type": "stream",
     "text": [
      "          Date  CSI_Price  STI_Price  3mT_rate   CSI_Ret   STI_Ret\n",
      "44    3/9/2001       4.64    1615.51      2.06  0.004320 -0.002232\n",
      "45    4/9/2001       4.84    1620.55      2.05  0.042200  0.003115\n",
      "46    5/9/2001       4.66    1622.52      2.07 -0.037899  0.001215\n",
      "47    6/9/2001       4.50    1608.00      2.10 -0.034938 -0.008989\n",
      "48    7/9/2001       4.20    1576.95      2.10 -0.068993 -0.019499\n",
      "..         ...        ...        ...       ...       ...       ...\n",
      "279  12/8/2002       2.58    1486.44      0.69 -0.045462 -0.000249\n",
      "280  13/8/2002       2.55    1529.03      0.69 -0.011696  0.028250\n",
      "281  14/8/2002       2.56    1527.03      0.69  0.003914 -0.001309\n",
      "282  15/8/2002       2.53    1531.84      0.70 -0.011788  0.003145\n",
      "283  16/8/2002       2.53    1522.60      0.70  0.000000 -0.006050\n",
      "\n",
      "[240 rows x 6 columns]\n"
     ]
    }
   ],
   "source": [
    "df2=df1.iloc[44:284,]\n",
    "print(df2)"
   ]
  },
  {
   "cell_type": "markdown",
   "id": "177c70a1",
   "metadata": {},
   "source": [
    "# Using Market Model as Benchmark"
   ]
  },
  {
   "cell_type": "code",
   "execution_count": 5,
   "id": "9cdd83b8",
   "metadata": {},
   "outputs": [
    {
     "name": "stdout",
     "output_type": "stream",
     "text": [
      "                            OLS Regression Results                            \n",
      "==============================================================================\n",
      "Dep. Variable:                CSI_Ret   R-squared:                       0.444\n",
      "Model:                            OLS   Adj. R-squared:                  0.442\n",
      "Method:                 Least Squares   F-statistic:                     190.3\n",
      "Date:                Wed, 18 Jan 2023   Prob (F-statistic):           3.30e-32\n",
      "Time:                        10:01:52   Log-Likelihood:                 586.23\n",
      "No. Observations:                 240   AIC:                            -1168.\n",
      "Df Residuals:                     238   BIC:                            -1162.\n",
      "Df Model:                           1                                         \n",
      "Covariance Type:            nonrobust                                         \n",
      "==============================================================================\n",
      "                 coef    std err          t      P>|t|      [0.025      0.975]\n",
      "------------------------------------------------------------------------------\n",
      "const         -0.0022      0.001     -1.596      0.112      -0.005       0.001\n",
      "STI_Ret        1.2996      0.094     13.796      0.000       1.114       1.485\n",
      "==============================================================================\n",
      "Omnibus:                        7.705   Durbin-Watson:                   1.726\n",
      "Prob(Omnibus):                  0.021   Jarque-Bera (JB):                7.635\n",
      "Skew:                           0.374   Prob(JB):                       0.0220\n",
      "Kurtosis:                       3.453   Cond. No.                         69.1\n",
      "==============================================================================\n",
      "\n",
      "Notes:\n",
      "[1] Standard Errors assume that the covariance matrix of the errors is correctly specified.\n"
     ]
    },
    {
     "name": "stderr",
     "output_type": "stream",
     "text": [
      "C:\\Users\\Administrator\\anaconda3\\lib\\site-packages\\statsmodels\\tsa\\tsatools.py:142: FutureWarning: In a future version of pandas all arguments of concat except for the argument 'objs' will be keyword-only\n",
      "  x = pd.concat(x[::order], 1)\n"
     ]
    }
   ],
   "source": [
    "import statsmodels.api as sm\n",
    "X2 = df2['STI_Ret']\n",
    "Y2 = df2['CSI_Ret']\n",
    "Z2 = sm.add_constant(X2)\n",
    "model = sm.OLS(Y2, Z2).fit()\n",
    "predictions = model.predict(Z2) \n",
    "\n",
    "results = model.summary()\n",
    "print(results)"
   ]
  },
  {
   "cell_type": "markdown",
   "id": "c0413559",
   "metadata": {},
   "source": [
    "The warning is letting you know that currently, you're fine to write pd.concat(dfs, self._concat_axis), but that they're planning on changing the definition of the function in a future version of pandas so that all arguments except for objs will be keyword-only. I.e., after they make this change, pd.concat(dfs, self._concat_axis) will raise an error, and you will have to write pd.concat(dfs, axis=self._concat_axis) instead. They are most likely considering making this change because calling functions with keyword arguments is often clearer and more readable for other people."
   ]
  },
  {
   "cell_type": "code",
   "execution_count": 6,
   "id": "71c86fca",
   "metadata": {},
   "outputs": [
    {
     "name": "stdout",
     "output_type": "stream",
     "text": [
      "HC0_se\n",
      "HC1_se\n",
      "HC2_se\n",
      "HC3_se\n",
      "aic\n",
      "bic\n",
      "bse\n",
      "centered_tss\n",
      "compare_f_test\n",
      "compare_lm_test\n",
      "compare_lr_test\n",
      "condition_number\n",
      "conf_int\n",
      "conf_int_el\n",
      "cov_HC0\n",
      "cov_HC1\n",
      "cov_HC2\n",
      "cov_HC3\n",
      "cov_kwds\n",
      "cov_params\n",
      "cov_type\n",
      "df_model\n",
      "df_resid\n",
      "diagn\n",
      "eigenvals\n",
      "el_test\n",
      "ess\n",
      "f_pvalue\n",
      "f_test\n",
      "fittedvalues\n",
      "fvalue\n",
      "get_influence\n",
      "get_prediction\n",
      "get_robustcov_results\n",
      "initialize\n",
      "k_constant\n",
      "llf\n",
      "load\n",
      "model\n",
      "mse_model\n",
      "mse_resid\n",
      "mse_total\n",
      "nobs\n",
      "normalized_cov_params\n",
      "outlier_test\n",
      "params\n",
      "predict\n",
      "pvalues\n",
      "remove_data\n",
      "resid\n",
      "resid_pearson\n",
      "rsquared\n",
      "rsquared_adj\n",
      "save\n",
      "scale\n",
      "ssr\n",
      "summary\n",
      "summary2\n",
      "t_test\n",
      "t_test_pairwise\n",
      "tvalues\n",
      "uncentered_tss\n",
      "use_t\n",
      "wald_test\n",
      "wald_test_terms\n",
      "wresid\n"
     ]
    }
   ],
   "source": [
    "for attr in dir(model):\n",
    "    if not attr.startswith('_'):\n",
    "        print(attr)"
   ]
  },
  {
   "cell_type": "code",
   "execution_count": 7,
   "id": "a02f5635",
   "metadata": {},
   "outputs": [
    {
     "name": "stdout",
     "output_type": "stream",
     "text": [
      "          Date  CSI_Price  STI_Price  3mT_rate   CSI_Ret   STI_Ret\n",
      "284  19/8/2002       2.56    1533.41      0.70  0.011788  0.007075\n",
      "285  20/8/2002       2.61    1533.61      0.70  0.019343  0.000130\n",
      "286  21/8/2002       2.60    1533.47      0.71 -0.003839 -0.000091\n",
      "287  22/8/2002       2.58    1542.02      0.73 -0.007722  0.005560\n",
      "288  23/8/2002       2.57    1531.90      0.73 -0.003883 -0.006584\n",
      "289  26/8/2002       2.50    1516.04      0.72 -0.027615 -0.010407\n",
      "290  27/8/2002       2.43    1509.48      0.77 -0.028399 -0.004336\n",
      "291  28/8/2002       2.36    1504.90      0.79 -0.029230 -0.003039\n",
      "292  29/8/2002       2.29    1490.35      0.79 -0.030110 -0.009715\n",
      "293  30/8/2002       2.10    1488.50      0.78 -0.086614 -0.001242\n",
      "294   2/9/2002       1.60    1460.68      0.79 -0.271934 -0.018867\n",
      "295   3/9/2002       1.59    1454.92      0.83 -0.006270 -0.003951\n",
      "296   4/9/2002       1.69    1457.48      0.83  0.060995  0.001758\n",
      "297   5/9/2002       1.60    1447.77      0.84 -0.054725 -0.006684\n",
      "298   6/9/2002       1.61    1442.58      0.85  0.006231 -0.003591\n",
      "299   9/9/2002       1.55    1423.89      0.90 -0.037979 -0.013041\n",
      "300  10/9/2002       1.56    1447.88      0.95  0.006431  0.016708\n",
      "301  11/9/2002       1.53    1448.48      0.96 -0.019418  0.000414\n",
      "302  12/9/2002       1.51    1433.43      0.96 -0.013158 -0.010445\n"
     ]
    }
   ],
   "source": [
    "df3=df1.iloc[284:303,]\n",
    "print(df3)"
   ]
  },
  {
   "cell_type": "code",
   "execution_count": 8,
   "id": "8b011900",
   "metadata": {},
   "outputs": [
    {
     "name": "stdout",
     "output_type": "stream",
     "text": [
      "284    0.004770\n",
      "285    0.021350\n",
      "286   -0.001544\n",
      "287   -0.012772\n",
      "288    0.006850\n",
      "289   -0.011914\n",
      "290   -0.020588\n",
      "291   -0.023104\n",
      "292   -0.015307\n",
      "293   -0.082824\n",
      "294   -0.245238\n",
      "295    0.001042\n",
      "296    0.060886\n",
      "297   -0.043861\n",
      "298    0.013074\n",
      "299   -0.018855\n",
      "300   -0.013107\n",
      "301   -0.017780\n",
      "302    0.002592\n",
      "dtype: float64\n"
     ]
    }
   ],
   "source": [
    "X3 = df3['STI_Ret']\n",
    "Y3 = df3['CSI_Ret']\n",
    "\n",
    "C=model.params   ### C[0] gives intercept estimate; C[1] gives slope estimate\n",
    "### Compute Abnormal Return AR\n",
    "AR = Y3 - C[0] - C[1]*X3\n",
    "print(AR)"
   ]
  },
  {
   "cell_type": "markdown",
   "id": "248c833e",
   "metadata": {},
   "source": [
    "Plot Abnormal Return Graph for -10 to +10 trading days (data here have only up to +8)"
   ]
  },
  {
   "cell_type": "code",
   "execution_count": 9,
   "id": "67729a07",
   "metadata": {},
   "outputs": [
    {
     "data": {
      "image/png": "[encoded data removed]",
      "text/plain": [
       "<Figure size 432x288 with 1 Axes>"
      ]
     },
     "metadata": {
      "needs_background": "light"
     },
     "output_type": "display_data"
    }
   ],
   "source": [
    "time = range(-10,9,1)  ### range(start, stop, step)\n",
    "\n",
    "import matplotlib.pyplot as plt\n",
    "# plotting the points \n",
    "plt.plot(time, AR)\n",
    "\n",
    "plt.xticks([-10,-9,-8,-7,-6,-5,-4,-3,-2,-1,0,+1,+2,+3,+4,+5,+6,+7,+8])\n",
    "\n",
    "plt.plot((0, 0), (-1, 1), scaley = False)\n",
    "\n",
    "# naming the x axis\n",
    "plt.xlabel('Event Day')\n",
    "# naming the y axis\n",
    "plt.ylabel('Abnormal Return')\n",
    "  \n",
    "# giving a title to my graph\n",
    "plt.title('Chartered Semiconductor Manufacturing: 19 Aug - 12 Sep 2002')\n",
    "  \n",
    "# function to show the plot\n",
    "plt.show()"
   ]
  },
  {
   "cell_type": "code",
   "execution_count": 10,
   "id": "da6fabb1",
   "metadata": {},
   "outputs": [
    {
     "name": "stdout",
     "output_type": "stream",
     "text": [
      "284    0.004770\n",
      "285    0.026120\n",
      "286    0.024576\n",
      "287    0.011804\n",
      "288    0.018654\n",
      "289    0.006740\n",
      "290   -0.013847\n",
      "291   -0.036951\n",
      "292   -0.052259\n",
      "293   -0.135083\n",
      "294   -0.380321\n",
      "295   -0.379279\n",
      "296   -0.318393\n",
      "297   -0.362254\n",
      "298   -0.349180\n",
      "299   -0.368036\n",
      "300   -0.381142\n",
      "301   -0.398923\n",
      "302   -0.396331\n",
      "dtype: float64\n"
     ]
    }
   ],
   "source": [
    "CAR = AR.cumsum()\n",
    "print(CAR)"
   ]
  },
  {
   "cell_type": "code",
   "execution_count": 11,
   "id": "b4dd2a65",
   "metadata": {},
   "outputs": [
    {
     "data": {
      "image/png": "[encoded data removed]",
      "text/plain": [
       "<Figure size 432x288 with 1 Axes>"
      ]
     },
     "metadata": {
      "needs_background": "light"
     },
     "output_type": "display_data"
    }
   ],
   "source": [
    "time = list(range(-10,9,1))  ### range(start, stop, step)\n",
    "\n",
    "import matplotlib.pyplot as plt\n",
    "# plotting the points \n",
    "plt.plot(time, CAR)\n",
    "\n",
    "plt.xticks([-10,-9,-8,-7,-6,-5,-4,-3,-2,-1,0,+1,+2,+3,+4,+5,+6,+7,+8])\n",
    "\n",
    "plt.plot((0, 0), (-1, 1), scaley = False)\n",
    "\n",
    "# naming the x axis\n",
    "plt.xlabel('Event Day')\n",
    "# naming the y axis\n",
    "plt.ylabel('Cumulative Abnormal Return')\n",
    "  \n",
    "# giving a title to my graph\n",
    "plt.title('Chartered Semiconductor Manufacturing: 19 Aug - 12 Sep 2002')\n",
    "  \n",
    "# function to show the plot\n",
    "plt.show()"
   ]
  },
  {
   "cell_type": "code",
   "execution_count": 12,
   "id": "e675bf23",
   "metadata": {},
   "outputs": [
    {
     "name": "stdout",
     "output_type": "stream",
     "text": [
      "0.02112305658209769\n"
     ]
    }
   ],
   "source": [
    "sigma=np.sqrt(model.mse_resid)\n",
    "print(sigma)"
   ]
  },
  {
   "cell_type": "code",
   "execution_count": 13,
   "id": "a69604d8",
   "metadata": {},
   "outputs": [
    {
     "name": "stdout",
     "output_type": "stream",
     "text": [
      "284     0.225816\n",
      "285     1.010730\n",
      "286    -0.073090\n",
      "287    -0.604637\n",
      "288     0.324289\n",
      "289    -0.564014\n",
      "290    -0.974647\n",
      "291    -1.093789\n",
      "292    -0.724669\n",
      "293    -3.921023\n",
      "294   -11.609963\n",
      "295     0.049311\n",
      "296     2.882444\n",
      "297    -2.076472\n",
      "298     0.618946\n",
      "299    -0.892639\n",
      "300    -0.620489\n",
      "301    -0.841748\n",
      "302     0.122711\n",
      "dtype: float64\n"
     ]
    }
   ],
   "source": [
    "t_stat_AR=AR/sigma\n",
    "print(t_stat_AR)"
   ]
  },
  {
   "cell_type": "code",
   "execution_count": 14,
   "id": "3bde9436",
   "metadata": {},
   "outputs": [
    {
     "name": "stdout",
     "output_type": "stream",
     "text": [
      "[0.02112306 0.02987251 0.03658621 0.04224611 0.04723259 0.05174071\n",
      " 0.05588635 0.05974503 0.06336917 0.06679697 0.07005725 0.07317241\n",
      " 0.07616026 0.07903524 0.08180925 0.08449223 0.08709259 0.08961754\n",
      " 0.09207327]\n"
     ]
    }
   ],
   "source": [
    "sd=np.sqrt(range(1,20,1)*(sigma**2))\n",
    "print(sd)"
   ]
  },
  {
   "cell_type": "code",
   "execution_count": 15,
   "id": "a96d5f29",
   "metadata": {},
   "outputs": [
    {
     "name": "stdout",
     "output_type": "stream",
     "text": [
      "284    0.225816\n",
      "285    0.874370\n",
      "286    0.671722\n",
      "287    0.279409\n",
      "288    0.394938\n",
      "289    0.130269\n",
      "290   -0.247776\n",
      "291   -0.618486\n",
      "292   -0.824671\n",
      "293   -2.022288\n",
      "294   -5.428712\n",
      "295   -5.183361\n",
      "296   -4.180566\n",
      "297   -4.583454\n",
      "298   -4.268226\n",
      "299   -4.355852\n",
      "300   -4.376288\n",
      "301   -4.451389\n",
      "302   -4.304512\n",
      "dtype: float64\n"
     ]
    }
   ],
   "source": [
    "t_stat_CAR=CAR/sd\n",
    "print(t_stat_CAR)"
   ]
  },
  {
   "cell_type": "markdown",
   "id": "b8bf8a0a",
   "metadata": {},
   "source": [
    "# Using Market-Adjusted Return as Benchmark"
   ]
  },
  {
   "cell_type": "code",
   "execution_count": 16,
   "id": "a352bb79",
   "metadata": {},
   "outputs": [
    {
     "data": {
      "image/png": "[encoded data removed]",
      "text/plain": [
       "<Figure size 432x288 with 1 Axes>"
      ]
     },
     "metadata": {
      "needs_background": "light"
     },
     "output_type": "display_data"
    }
   ],
   "source": [
    "MAR=Y3-X3\n",
    "\n",
    "time = range(-10,9,1)  ### range(start, stop, step)\n",
    "\n",
    "import matplotlib.pyplot as plt\n",
    "# plotting the points \n",
    "plt.plot(time, MAR)\n",
    "\n",
    "plt.xticks([-10,-9,-8,-7,-6,-5,-4,-3,-2,-1,0,+1,+2,+3,+4,+5,+6,+7,+8])\n",
    "\n",
    "plt.plot((0, 0), (-1, 1), scaley = False)\n",
    "\n",
    "# naming the x axis\n",
    "plt.xlabel('Event Day')\n",
    "# naming the y axis\n",
    "plt.ylabel('Abnormal Return')\n",
    "  \n",
    "# giving a title to my graph\n",
    "plt.title('Chartered Semiconductor Manufacturing: 19 Aug - 12 Sep 2002')\n",
    "  \n",
    "# function to show the plot\n",
    "plt.show()"
   ]
  },
  {
   "cell_type": "code",
   "execution_count": 17,
   "id": "adb131f9",
   "metadata": {},
   "outputs": [
    {
     "name": "stdout",
     "output_type": "stream",
     "text": [
      "284     0.219458\n",
      "285     0.894554\n",
      "286    -0.174486\n",
      "287    -0.618430\n",
      "288     0.125759\n",
      "289    -0.801223\n",
      "290    -1.120397\n",
      "291    -1.219472\n",
      "292    -0.949580\n",
      "293    -3.975020\n",
      "294   -11.783037\n",
      "295    -0.107949\n",
      "296     2.758109\n",
      "297    -2.236808\n",
      "298     0.457313\n",
      "299    -1.161167\n",
      "300    -0.478505\n",
      "301    -0.923415\n",
      "302    -0.126344\n",
      "dtype: float64\n"
     ]
    }
   ],
   "source": [
    "sd2=np.std(Y2-X2)\n",
    "t_stat_MAR=MAR/sd2\n",
    "print(t_stat_MAR)"
   ]
  },
  {
   "cell_type": "markdown",
   "id": "21de1d44",
   "metadata": {},
   "source": [
    "# Using Mean-Adjusted Return as Benchmark"
   ]
  },
  {
   "cell_type": "code",
   "execution_count": 18,
   "id": "955eae26",
   "metadata": {},
   "outputs": [
    {
     "data": {
      "image/png": "[encoded data removed]",
      "text/plain": [
       "<Figure size 432x288 with 1 Axes>"
      ]
     },
     "metadata": {
      "needs_background": "light"
     },
     "output_type": "display_data"
    }
   ],
   "source": [
    "MeAR=Y3-np.mean(Y2)\n",
    "time = range(-10,9,1)  ### range(start, stop, step)\n",
    "\n",
    "import matplotlib.pyplot as plt\n",
    "# plotting the points \n",
    "plt.plot(time, MeAR)\n",
    "\n",
    "plt.xticks([-10,-9,-8,-7,-6,-5,-4,-3,-2,-1,0,+1,+2,+3,+4,+5,+6,+7,+8])\n",
    "\n",
    "plt.plot((0, 0), (-1, 1), scaley = False)\n",
    "\n",
    "# naming the x axis\n",
    "plt.xlabel('Event Day')\n",
    "# naming the y axis\n",
    "plt.ylabel('Abnormal Return')\n",
    "  \n",
    "# giving a title to my graph\n",
    "plt.title('Chartered Semiconductor Manufacturing: 19 Aug - 12 Sep 2002')\n",
    "  \n",
    "# function to show the plot\n",
    "plt.show()"
   ]
  },
  {
   "cell_type": "code",
   "execution_count": 19,
   "id": "3b7efb2a",
   "metadata": {},
   "outputs": [
    {
     "name": "stdout",
     "output_type": "stream",
     "text": [
      "284    0.506650\n",
      "285    0.774380\n",
      "286   -0.047122\n",
      "287   -0.184735\n",
      "288   -0.048706\n",
      "289   -0.889696\n",
      "290   -0.917490\n",
      "291   -0.946909\n",
      "292   -0.978100\n",
      "293   -2.980481\n",
      "294   -9.547722\n",
      "295   -0.133264\n",
      "296    2.250405\n",
      "297   -1.850396\n",
      "298    0.309710\n",
      "299   -1.256973\n",
      "300    0.316809\n",
      "301   -0.599213\n",
      "302   -0.377374\n",
      "Name: CSI_Ret, dtype: float64\n"
     ]
    }
   ],
   "source": [
    "sd3=np.std(Y2-np.mean(Y2))\n",
    "t_stat_MeAR=MeAR/sd3\n",
    "print(t_stat_MeAR)"
   ]
  },
  {
   "cell_type": "markdown",
   "id": "fe17c3e0",
   "metadata": {},
   "source": [
    "# Plotting Standardized Abnormal Returns of 3 Benchmarks"
   ]
  },
  {
   "cell_type": "code",
   "execution_count": 20,
   "id": "d7e36aec",
   "metadata": {},
   "outputs": [
    {
     "data": {
      "image/png": "[encoded data removed]",
      "text/plain": [
       "<Figure size 432x288 with 1 Axes>"
      ]
     },
     "metadata": {
      "needs_background": "light"
     },
     "output_type": "display_data"
    }
   ],
   "source": [
    "time = range(-10,9,1)  ### range(start, stop, step)\n",
    "\n",
    "import matplotlib.pyplot as plt\n",
    "# plotting the points \n",
    "\n",
    "plt.plot(time, t_stat_AR)\n",
    "plt.plot(time, t_stat_MAR)\n",
    "plt.plot(time, t_stat_MeAR)\n",
    "\n",
    "plt.xticks([-10,-9,-8,-7,-6,-5,-4,-3,-2,-1,0,+1,+2,+3,+4,+5,+6,+7,+8])\n",
    "\n",
    "plt.plot((0, 0), (-12, 3), scaley = False)\n",
    "\n",
    "# naming the x axis\n",
    "plt.xlabel('Event Day')\n",
    "# naming the y axis\n",
    "plt.ylabel('t-stats of Abnormal Return')\n",
    "  \n",
    "# giving a title to my graph\n",
    "plt.title('Chartered Semiconductor Manufacturing: 19 Aug - 12 Sep 2002')\n",
    "  \n",
    "# function to show the plot\n",
    "plt.show()"
   ]
  },
  {
   "cell_type": "code",
   "execution_count": null,
   "id": "155c811f",
   "metadata": {},
   "outputs": [],
   "source": []
  }
 ],
 "metadata": {
  "kernelspec": {
   "display_name": "Python 3 (ipykernel)",
   "language": "python",
   "name": "python3"
  },
  "language_info": {
   "codemirror_mode": {
    "name": "ipython",
    "version": 3
   },
   "file_extension": ".py",
   "mimetype": "text/x-python",
   "name": "python",
   "nbconvert_exporter": "python",
   "pygments_lexer": "ipython3",
   "version": "3.9.7"
  }
 },
 "nbformat": 4,
 "nbformat_minor": 5
}
