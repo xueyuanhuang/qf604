{
 "cells": [
  {
   "cell_type": "code",
   "execution_count": 1,
   "id": "c8e9106e-c406-4ef0-add2-9d47a3b635b9",
   "metadata": {},
   "outputs": [],
   "source": [
    "from statsmodels.tsa.stattools import adfuller\n",
    "from statsmodels.tsa.vector_ar.vecm import coint_johansen\n",
    "from statsmodels.formula.api import ols\n",
    "\n",
    "import pandas as pd\n",
    "import numpy as np\n",
    "import statsmodels.api as sm\n",
    "import matplotlib.pyplot as plt"
   ]
  },
  {
   "cell_type": "markdown",
   "id": "9b69757a-91dd-455a-95e3-61a83f1805f8",
   "metadata": {},
   "source": [
    "# Q1"
   ]
  },
  {
   "cell_type": "code",
   "execution_count": 19,
   "id": "e803ff4d-bbcf-47df-ae2c-baee25691a8a",
   "metadata": {},
   "outputs": [
    {
     "data": {
      "text/plain": [
       "(0.006945408963833088,\n",
       " 0.010395268955405929,\n",
       " -0.28796000500685043,\n",
       " 2.404940180696245)"
      ]
     },
     "execution_count": 19,
     "metadata": {},
     "output_type": "execute_result"
    }
   ],
   "source": [
    "a_hat = -0.002\n",
    "b_hat = 0.025\n",
    "SSE = 0.022\n",
    "n = 100\n",
    "sigma_squared = SSE / (n - 2)\n",
    "\n",
    "# Given XtX matrix and its inverse\n",
    "XtX = np.array([[100, 65.24], [65.24, 44.64]])\n",
    "XtX_inv = np.linalg.inv(XtX)\n",
    "\n",
    "# Calculating the standard errors for a_hat and b_hat\n",
    "# The variances are on the diagonal of XtX_inv and need to be multiplied by sigma_squared\n",
    "var_a = XtX_inv[0, 0] * sigma_squared\n",
    "var_b = XtX_inv[1, 1] * sigma_squared\n",
    "\n",
    "SE_a_hat = np.sqrt(var_a)\n",
    "SE_b_hat = np.sqrt(var_b)\n",
    "\n",
    "# Calculating the t-statistics for a_hat and b_hat\n",
    "t_stat_a = a_hat / SE_a_hat\n",
    "t_stat_b = b_hat / SE_b_hat\n",
    "\n",
    "SE_a_hat, SE_b_hat, t_stat_a, t_stat_b"
   ]
  },
  {
   "cell_type": "markdown",
   "id": "38b28df3-a905-43db-8640-cf0036036dd4",
   "metadata": {},
   "source": [
    "# Q2"
   ]
  },
  {
   "cell_type": "code",
   "execution_count": 2,
   "id": "bd6e2d00-2c7a-4a4e-802b-ebf3e0769cc3",
   "metadata": {},
   "outputs": [
    {
     "data": {
      "text/html": [
       "<div>\n",
       "<style scoped>\n",
       "    .dataframe tbody tr th:only-of-type {\n",
       "        vertical-align: middle;\n",
       "    }\n",
       "\n",
       "    .dataframe tbody tr th {\n",
       "        vertical-align: top;\n",
       "    }\n",
       "\n",
       "    .dataframe thead th {\n",
       "        text-align: right;\n",
       "    }\n",
       "</style>\n",
       "<table border=\"1\" class=\"dataframe\">\n",
       "  <thead>\n",
       "    <tr style=\"text-align: right;\">\n",
       "      <th></th>\n",
       "      <th>Date</th>\n",
       "      <th>F90d</th>\n",
       "      <th>Spot</th>\n",
       "    </tr>\n",
       "  </thead>\n",
       "  <tbody>\n",
       "    <tr>\n",
       "      <th>0</th>\n",
       "      <td>1991-01</td>\n",
       "      <td>1.166377</td>\n",
       "      <td>1.156013</td>\n",
       "    </tr>\n",
       "    <tr>\n",
       "      <th>1</th>\n",
       "      <td>1991-02</td>\n",
       "      <td>1.164625</td>\n",
       "      <td>1.154885</td>\n",
       "    </tr>\n",
       "    <tr>\n",
       "      <th>2</th>\n",
       "      <td>1991-03</td>\n",
       "      <td>1.166150</td>\n",
       "      <td>1.157150</td>\n",
       "    </tr>\n",
       "    <tr>\n",
       "      <th>3</th>\n",
       "      <td>1991-04</td>\n",
       "      <td>1.162823</td>\n",
       "      <td>1.153508</td>\n",
       "    </tr>\n",
       "    <tr>\n",
       "      <th>4</th>\n",
       "      <td>1991-05</td>\n",
       "      <td>1.158177</td>\n",
       "      <td>1.149851</td>\n",
       "    </tr>\n",
       "    <tr>\n",
       "      <th>...</th>\n",
       "      <td>...</td>\n",
       "      <td>...</td>\n",
       "      <td>...</td>\n",
       "    </tr>\n",
       "    <tr>\n",
       "      <th>311</th>\n",
       "      <td>2016-12</td>\n",
       "      <td>1.331350</td>\n",
       "      <td>1.334631</td>\n",
       "    </tr>\n",
       "    <tr>\n",
       "      <th>312</th>\n",
       "      <td>2017-01</td>\n",
       "      <td>1.317795</td>\n",
       "      <td>1.321098</td>\n",
       "    </tr>\n",
       "    <tr>\n",
       "      <th>313</th>\n",
       "      <td>2017-02</td>\n",
       "      <td>1.309963</td>\n",
       "      <td>1.309945</td>\n",
       "    </tr>\n",
       "    <tr>\n",
       "      <th>314</th>\n",
       "      <td>2017-03</td>\n",
       "      <td>1.337122</td>\n",
       "      <td>1.338855</td>\n",
       "    </tr>\n",
       "    <tr>\n",
       "      <th>315</th>\n",
       "      <td>2017-04</td>\n",
       "      <td>1.342674</td>\n",
       "      <td>1.344281</td>\n",
       "    </tr>\n",
       "  </tbody>\n",
       "</table>\n",
       "<p>316 rows × 3 columns</p>\n",
       "</div>"
      ],
      "text/plain": [
       "        Date      F90d      Spot\n",
       "0    1991-01  1.166377  1.156013\n",
       "1    1991-02  1.164625  1.154885\n",
       "2    1991-03  1.166150  1.157150\n",
       "3    1991-04  1.162823  1.153508\n",
       "4    1991-05  1.158177  1.149851\n",
       "..       ...       ...       ...\n",
       "311  2016-12  1.331350  1.334631\n",
       "312  2017-01  1.317795  1.321098\n",
       "313  2017-02  1.309963  1.309945\n",
       "314  2017-03  1.337122  1.338855\n",
       "315  2017-04  1.342674  1.344281\n",
       "\n",
       "[316 rows x 3 columns]"
      ]
     },
     "execution_count": 2,
     "metadata": {},
     "output_type": "execute_result"
    }
   ],
   "source": [
    "data = pd.read_csv('TestA_data.csv')\n",
    "data"
   ]
  },
  {
   "cell_type": "code",
   "execution_count": 3,
   "id": "b3602825-b245-406a-9257-68c75084b63b",
   "metadata": {},
   "outputs": [
    {
     "data": {
      "text/plain": [
       "0      1.153508\n",
       "1      1.149851\n",
       "2      1.143893\n",
       "3      1.149313\n",
       "4      1.145142\n",
       "         ...   \n",
       "308    1.334631\n",
       "309    1.321098\n",
       "310    1.309945\n",
       "311    1.338855\n",
       "312    1.344281\n",
       "Name: Spot, Length: 313, dtype: float64"
      ]
     },
     "execution_count": 3,
     "metadata": {},
     "output_type": "execute_result"
    }
   ],
   "source": [
    "Spot_3 = data['Spot'][3:].copy()\n",
    "Spot_3 = Spot_3.reset_index(drop=True)\n",
    "Spot_3"
   ]
  },
  {
   "cell_type": "code",
   "execution_count": 4,
   "id": "f84d7cf0-ce8f-4f15-947f-8371c7308efc",
   "metadata": {},
   "outputs": [
    {
     "data": {
      "text/plain": [
       "0      1.156013\n",
       "1      1.154885\n",
       "2      1.157150\n",
       "3      1.153508\n",
       "4      1.149851\n",
       "         ...   \n",
       "308    1.310429\n",
       "309    1.324224\n",
       "310    1.345730\n",
       "311    1.334631\n",
       "312    1.321098\n",
       "Name: Spot, Length: 313, dtype: float64"
      ]
     },
     "execution_count": 4,
     "metadata": {},
     "output_type": "execute_result"
    }
   ],
   "source": [
    "Spot_0 = data['Spot'][:-3].copy()\n",
    "Spot_0 = Spot_0.reset_index(drop=True)\n",
    "Spot_0"
   ]
  },
  {
   "cell_type": "code",
   "execution_count": 5,
   "id": "102e9354-9674-4611-abaa-c416ca60bf8b",
   "metadata": {},
   "outputs": [
    {
     "data": {
      "text/plain": [
       "0      1.166377\n",
       "1      1.164625\n",
       "2      1.166150\n",
       "3      1.162823\n",
       "4      1.158177\n",
       "         ...   \n",
       "308    1.310181\n",
       "309    1.324260\n",
       "310    1.342590\n",
       "311    1.331350\n",
       "312    1.317795\n",
       "Name: F90d, Length: 313, dtype: float64"
      ]
     },
     "execution_count": 5,
     "metadata": {},
     "output_type": "execute_result"
    }
   ],
   "source": [
    "Fwd = data[:-3]['F90d'].copy()\n",
    "Fwd = Fwd.reset_index(drop=True)\n",
    "Fwd"
   ]
  },
  {
   "cell_type": "code",
   "execution_count": 6,
   "id": "6ee8ef09-6667-49ac-a263-f7303fe7b31a",
   "metadata": {},
   "outputs": [
    {
     "data": {
      "text/plain": [
       "0     -0.002506\n",
       "1     -0.005034\n",
       "2     -0.013258\n",
       "3     -0.004195\n",
       "4     -0.004709\n",
       "         ...   \n",
       "308    0.024202\n",
       "309   -0.003126\n",
       "310   -0.035785\n",
       "311    0.004224\n",
       "312    0.023183\n",
       "Name: Spot, Length: 313, dtype: float64"
      ]
     },
     "execution_count": 6,
     "metadata": {},
     "output_type": "execute_result"
    }
   ],
   "source": [
    "SpotC = Spot_3 - Spot_0\n",
    "SpotC"
   ]
  },
  {
   "cell_type": "code",
   "execution_count": 7,
   "id": "026f18d5-56e8-405d-84f8-60d72a8bd59c",
   "metadata": {},
   "outputs": [
    {
     "data": {
      "text/plain": [
       "0      0.010364\n",
       "1      0.009740\n",
       "2      0.009000\n",
       "3      0.009315\n",
       "4      0.008326\n",
       "         ...   \n",
       "308   -0.000248\n",
       "309    0.000036\n",
       "310   -0.003140\n",
       "311   -0.003281\n",
       "312   -0.003303\n",
       "Length: 313, dtype: float64"
      ]
     },
     "execution_count": 7,
     "metadata": {},
     "output_type": "execute_result"
    }
   ],
   "source": [
    "FwdPre = Fwd - Spot_0\n",
    "FwdPre"
   ]
  },
  {
   "cell_type": "markdown",
   "id": "5dc451b7-e8d5-4398-97a0-68f90619b4e1",
   "metadata": {},
   "source": [
    "# Q2"
   ]
  },
  {
   "cell_type": "code",
   "execution_count": 8,
   "id": "9f4aa396-c71b-48a0-b8be-8f99c61b580d",
   "metadata": {},
   "outputs": [
    {
     "name": "stdout",
     "output_type": "stream",
     "text": [
      "ADF Test Statistic: -1.535563389286989\n",
      "p-value: 0.5158510690843667\n"
     ]
    }
   ],
   "source": [
    "result = adfuller(Spot_3)\n",
    "\n",
    "# Extract ADF test statistic and p-value\n",
    "adf_statistic = result[0]\n",
    "p_value = result[1]\n",
    "\n",
    "print(\"ADF Test Statistic:\", adf_statistic)\n",
    "print(\"p-value:\", p_value)"
   ]
  },
  {
   "cell_type": "code",
   "execution_count": 9,
   "id": "29204526-854d-420a-b0aa-5c0e1938cb95",
   "metadata": {},
   "outputs": [
    {
     "name": "stdout",
     "output_type": "stream",
     "text": [
      "ADF Test Statistic: -1.5452950827240772\n",
      "p-value: 0.5109974997320496\n"
     ]
    }
   ],
   "source": [
    "result = adfuller(Fwd)\n",
    "\n",
    "# Extract ADF test statistic and p-value\n",
    "adf_statistic = result[0]\n",
    "p_value = result[1]\n",
    "\n",
    "print(\"ADF Test Statistic:\", adf_statistic)\n",
    "print(\"p-value:\", p_value)"
   ]
  },
  {
   "cell_type": "code",
   "execution_count": 10,
   "id": "35175d02-763b-4195-87f5-ba674451fa88",
   "metadata": {},
   "outputs": [
    {
     "name": "stdout",
     "output_type": "stream",
     "text": [
      "ADF Test Statistic: -3.3892431768542064\n",
      "p-value: 0.011331082640266337\n"
     ]
    }
   ],
   "source": [
    "result = adfuller(SpotC)\n",
    "\n",
    "# Extract ADF test statistic and p-value\n",
    "adf_statistic = result[0]\n",
    "p_value = result[1]\n",
    "\n",
    "print(\"ADF Test Statistic:\", adf_statistic)\n",
    "print(\"p-value:\", p_value)"
   ]
  },
  {
   "cell_type": "code",
   "execution_count": 11,
   "id": "d6a95a8a-36ee-439d-985a-6bc6102fb0fe",
   "metadata": {},
   "outputs": [
    {
     "name": "stdout",
     "output_type": "stream",
     "text": [
      "ADF Test Statistic: -3.067364128985892\n",
      "p-value: 0.02906456949236092\n"
     ]
    }
   ],
   "source": [
    "result = adfuller(FwdPre)\n",
    "\n",
    "# Extract ADF test statistic and p-value\n",
    "adf_statistic = result[0]\n",
    "p_value = result[1]\n",
    "\n",
    "print(\"ADF Test Statistic:\", adf_statistic)\n",
    "print(\"p-value:\", p_value)"
   ]
  },
  {
   "cell_type": "markdown",
   "id": "64668202-9a54-4421-b280-6c48c6bffe9f",
   "metadata": {},
   "source": [
    "# Q3"
   ]
  },
  {
   "cell_type": "code",
   "execution_count": 12,
   "id": "d3c08dc4-83e0-4f42-be6f-3c6c97c30364",
   "metadata": {},
   "outputs": [],
   "source": [
    "df1 = pd.DataFrame({'Spot_3':Spot_3, 'Fwd':Fwd})"
   ]
  },
  {
   "cell_type": "code",
   "execution_count": 13,
   "id": "513ddf25-0fe7-4f92-a098-bbd9aec83fac",
   "metadata": {},
   "outputs": [],
   "source": [
    "df2 = pd.DataFrame({'SpotC':SpotC, 'FwdPre':FwdPre})"
   ]
  },
  {
   "cell_type": "code",
   "execution_count": 14,
   "id": "aa4208a3-92ad-4a8b-adc7-279a99abce47",
   "metadata": {},
   "outputs": [
    {
     "name": "stdout",
     "output_type": "stream",
     "text": [
      "Number of cointegrating vectors between Spot_3 and Fwd: 34.045886371157884\n",
      "Number of cointegrating vectors between SpotC and FwdPre: 40.41793070516116\n"
     ]
    }
   ],
   "source": [
    "result_1 = coint_johansen(df1, 0, 3)\n",
    "result_2 = coint_johansen(df2, 0, 3)\n",
    "\n",
    "# Extract the number of cointegrating vectors (r)\n",
    "r_1 = result_1.lr1[0]  # Trace statistic\n",
    "r_2 = result_2.lr1[0]\n",
    "\n",
    "print(\"Number of cointegrating vectors between Spot_3 and Fwd:\", r_1)\n",
    "print(\"Number of cointegrating vectors between SpotC and FwdPre:\", r_2)\n"
   ]
  },
  {
   "cell_type": "code",
   "execution_count": 15,
   "id": "e2fbb848-d949-40a3-adce-144b18b498f8",
   "metadata": {},
   "outputs": [
    {
     "name": "stdout",
     "output_type": "stream",
     "text": [
      "Trace Statistic:\n",
      "Number of cointegrating vectors between Spot_3 and Fwd: 2\n",
      "Number of cointegrating vectors between SpotC and FwdPre: 2\n",
      "\n",
      "Max Eigenvalue Statistic:\n",
      "Number of cointegrating vectors between Spot_3 and Fwd: 2\n",
      "Number of cointegrating vectors between SpotC and FwdPre: 2\n"
     ]
    }
   ],
   "source": [
    "result_1 = coint_johansen(df1, 0, 3)\n",
    "result_2 = coint_johansen(df2, 0, 3)\n",
    "\n",
    "critical_values_trace_1 = result_1.cvt[:, 0]  # Critical values for the trace statistic\n",
    "critical_values_trace_2 = result_2.cvt[:, 0]\n",
    "critical_values_max_eigen_1 = result_1.cvm[:, 0]  # Critical values for the max eigenvalue statistic\n",
    "critical_values_max_eigen_2 = result_2.cvm[:, 0]\n",
    "\n",
    "# Extract the test statistics\n",
    "trace_statistic_1 = result_1.lr1[0]  # Trace statistic\n",
    "trace_statistic_2 = result_2.lr1[0]\n",
    "max_eigen_statistic_1 = result_1.lr2[0]  # Max Eigenvalue statistic\n",
    "max_eigen_statistic_2 = result_2.lr2[0]\n",
    "\n",
    "# Determine the number of cointegrating vectors based on the significance level\n",
    "r_trace_1 = sum(trace_statistic_1 > critical_values_trace_1)\n",
    "r_trace_2 = sum(trace_statistic_2 > critical_values_trace_2)\n",
    "r_max_eigen_1 = sum(max_eigen_statistic_1 > critical_values_max_eigen_1)\n",
    "r_max_eigen_2 = sum(max_eigen_statistic_2 > critical_values_max_eigen_2)\n",
    "\n",
    "print(\"Trace Statistic:\")\n",
    "print(\"Number of cointegrating vectors between Spot_3 and Fwd:\", r_trace_1)\n",
    "print(\"Number of cointegrating vectors between SpotC and FwdPre:\", r_trace_2)\n",
    "print(\"\\nMax Eigenvalue Statistic:\")\n",
    "print(\"Number of cointegrating vectors between Spot_3 and Fwd:\", r_max_eigen_1)\n",
    "print(\"Number of cointegrating vectors between SpotC and FwdPre:\", r_max_eigen_2)"
   ]
  },
  {
   "cell_type": "markdown",
   "id": "3911e672-31a4-4f63-8306-dd67e1db385b",
   "metadata": {},
   "source": [
    "# Q4"
   ]
  },
  {
   "cell_type": "code",
   "execution_count": 16,
   "id": "a797ddce-08db-4a54-aeb9-f8490a3109b5",
   "metadata": {},
   "outputs": [
    {
     "name": "stdout",
     "output_type": "stream",
     "text": [
      "                            OLS Regression Results                            \n",
      "==============================================================================\n",
      "Dep. Variable:                 Spot_3   R-squared:                       0.941\n",
      "Model:                            OLS   Adj. R-squared:                  0.941\n",
      "Method:                 Least Squares   F-statistic:                     4934.\n",
      "Date:                Mon, 18 Mar 2024   Prob (F-statistic):          7.34e-193\n",
      "Time:                        12:52:41   Log-Likelihood:                 535.90\n",
      "No. Observations:                 313   AIC:                            -1068.\n",
      "Df Residuals:                     311   BIC:                            -1060.\n",
      "Df Model:                           1                                         \n",
      "Covariance Type:            nonrobust                                         \n",
      "==============================================================================\n",
      "                 coef    std err          t      P>|t|      [0.025      0.975]\n",
      "------------------------------------------------------------------------------\n",
      "Intercept      0.0368      0.018      2.085      0.038       0.002       0.071\n",
      "Fwd            0.9713      0.014     70.246      0.000       0.944       0.999\n",
      "==============================================================================\n",
      "Omnibus:                       14.415   Durbin-Watson:                   0.473\n",
      "Prob(Omnibus):                  0.001   Jarque-Bera (JB):               35.308\n",
      "Skew:                           0.012   Prob(JB):                     2.15e-08\n",
      "Kurtosis:                       4.645   Cond. No.                         14.6\n",
      "==============================================================================\n",
      "\n",
      "Notes:\n",
      "[1] Standard Errors assume that the covariance matrix of the errors is correctly specified.\n"
     ]
    }
   ],
   "source": [
    "df4 = pd.DataFrame({'Spot_3':Spot_3, 'Fwd':Fwd})\n",
    "\n",
    "# Fit the linear regression model\n",
    "model = ols('Spot_3 ~ Fwd', data=df4).fit()\n",
    "\n",
    "# Print the model summary\n",
    "print(model.summary())"
   ]
  },
  {
   "cell_type": "markdown",
   "id": "e9902afd-21a3-4785-90c7-0151d527fda3",
   "metadata": {},
   "source": [
    "# Q6"
   ]
  },
  {
   "cell_type": "code",
   "execution_count": 17,
   "id": "15444c31-3501-4a0a-baa5-472e739770c3",
   "metadata": {},
   "outputs": [
    {
     "name": "stdout",
     "output_type": "stream",
     "text": [
      "T-Statistic: 0.21799388871143324\n",
      "P-Value: 0.8275763788907563\n"
     ]
    }
   ],
   "source": [
    "import pandas as pd\n",
    "import numpy as np\n",
    "from scipy.stats import ttest_1samp\n",
    "\n",
    "\n",
    "\n",
    "# Calculate errors (residuals)\n",
    "errors = Spot_3 - Fwd\n",
    "\n",
    "# Perform one-sample t-test\n",
    "t_statistic, p_value = ttest_1samp(errors, popmean=0)\n",
    "\n",
    "# Print the test results\n",
    "print(\"T-Statistic:\", t_statistic)\n",
    "print(\"P-Value:\", p_value)\n"
   ]
  },
  {
   "cell_type": "code",
   "execution_count": 18,
   "id": "18b1bbea-512b-4671-b63b-16f43625c73a",
   "metadata": {},
   "outputs": [
    {
     "name": "stdout",
     "output_type": "stream",
     "text": [
      "T-Statistic: -2.453286224465143e-14\n",
      "P-Value: 0.9999999999999805\n"
     ]
    }
   ],
   "source": [
    "from scipy.stats import ttest_1samp\n",
    "errors = model.resid\n",
    "\n",
    "# Perform one-sample t-test\n",
    "t_statistic, p_value = ttest_1samp(errors, popmean=0)\n",
    "\n",
    "# Print the test results\n",
    "print(\"T-Statistic:\", t_statistic)\n",
    "print(\"P-Value:\", p_value)"
   ]
  },
  {
   "cell_type": "code",
   "execution_count": null,
   "id": "d600c7ec-1ad0-4388-a203-683120c7338e",
   "metadata": {},
   "outputs": [],
   "source": []
  }
 ],
 "metadata": {
  "kernelspec": {
   "display_name": "Python 3 (ipykernel)",
   "language": "python",
   "name": "python3"
  },
  "language_info": {
   "codemirror_mode": {
    "name": "ipython",
    "version": 3
   },
   "file_extension": ".py",
   "mimetype": "text/x-python",
   "name": "python",
   "nbconvert_exporter": "python",
   "pygments_lexer": "ipython3",
   "version": "3.12.0"
  }
 },
 "nbformat": 4,
 "nbformat_minor": 5
}
