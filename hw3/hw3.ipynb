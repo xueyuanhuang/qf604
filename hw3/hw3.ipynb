{
 "cells": [
  {
   "cell_type": "code",
   "execution_count": 1,
   "id": "b1abb5ab-dd36-4b45-84ad-d2baaa6fe184",
   "metadata": {},
   "outputs": [],
   "source": [
    "import pandas as pd\n",
    "import numpy as np\n",
    "import statsmodels.api as sm\n",
    "import matplotlib.pyplot as plt\n",
    "from scipy import stats"
   ]
  },
  {
   "cell_type": "markdown",
   "id": "c12d25c8-3f5d-496b-b9f2-d2fd4017779a",
   "metadata": {},
   "source": [
    "Data are daily portfolio returns of stocks from SGX during 28 Oct 1997 through to 18 Oct 2002. The large stock portfolio returns (LSR) are simple daily ave return rates from 10 stocks viz. Singtel, UOB, DBS, OCBC, SIA, SPH, Jardine, HK Land, Great Eastern, and City Developments. The small stock portfolio returns (SSR) are simple daily ave return rates from 10 stocks viz. Econ Intl, Casa Holdings, Pertama Holdings, Meiban Group, Sunright Ltd, Armstrong Ind Corp, Penguin Boat, Freight Links Express Holdings, Liang Huat Aluminium, and Tye Soon Ltd. The market return rate is proxied by Straits Times Index return rate, STIR. d1, d2, d3, d4, d5 are dummy variables representing Monday, Tuesday, Wednesday, Thursday, and Friday."
   ]
  },
  {
   "cell_type": "markdown",
   "id": "522a6cc7-dd30-4fd1-a720-b8ff9de7ab43",
   "metadata": {},
   "source": [
    "Perform multivariate regression and answer the following 5 Questions. Use 'from statsmodels.formula.api import ols' as a start."
   ]
  },
  {
   "cell_type": "code",
   "execution_count": 2,
   "id": "57359755-7da7-4438-ad4c-a8d29bef8f46",
   "metadata": {},
   "outputs": [
    {
     "data": {
      "text/html": [
       "<div>\n",
       "<style scoped>\n",
       "    .dataframe tbody tr th:only-of-type {\n",
       "        vertical-align: middle;\n",
       "    }\n",
       "\n",
       "    .dataframe tbody tr th {\n",
       "        vertical-align: top;\n",
       "    }\n",
       "\n",
       "    .dataframe thead th {\n",
       "        text-align: right;\n",
       "    }\n",
       "</style>\n",
       "<table border=\"1\" class=\"dataframe\">\n",
       "  <thead>\n",
       "    <tr style=\"text-align: right;\">\n",
       "      <th></th>\n",
       "      <th>Days</th>\n",
       "      <th>STIR</th>\n",
       "      <th>LSR</th>\n",
       "      <th>SSR</th>\n",
       "      <th>d1</th>\n",
       "      <th>d2</th>\n",
       "      <th>d3</th>\n",
       "      <th>d4</th>\n",
       "      <th>d5</th>\n",
       "    </tr>\n",
       "    <tr>\n",
       "      <th>Date</th>\n",
       "      <th></th>\n",
       "      <th></th>\n",
       "      <th></th>\n",
       "      <th></th>\n",
       "      <th></th>\n",
       "      <th></th>\n",
       "      <th></th>\n",
       "      <th></th>\n",
       "      <th></th>\n",
       "    </tr>\n",
       "  </thead>\n",
       "  <tbody>\n",
       "    <tr>\n",
       "      <th>28/10/1997</th>\n",
       "      <td>Tuesday</td>\n",
       "      <td>-0.096719</td>\n",
       "      <td>-0.088550</td>\n",
       "      <td>-0.091323</td>\n",
       "      <td>0</td>\n",
       "      <td>1</td>\n",
       "      <td>0</td>\n",
       "      <td>0</td>\n",
       "      <td>0</td>\n",
       "    </tr>\n",
       "    <tr>\n",
       "      <th>29/10/1997</th>\n",
       "      <td>Wednesday</td>\n",
       "      <td>0.066769</td>\n",
       "      <td>0.053139</td>\n",
       "      <td>0.030660</td>\n",
       "      <td>0</td>\n",
       "      <td>0</td>\n",
       "      <td>1</td>\n",
       "      <td>0</td>\n",
       "      <td>0</td>\n",
       "    </tr>\n",
       "    <tr>\n",
       "      <th>30/10/1997</th>\n",
       "      <td>Thursday</td>\n",
       "      <td>0.000000</td>\n",
       "      <td>0.000000</td>\n",
       "      <td>0.000000</td>\n",
       "      <td>0</td>\n",
       "      <td>0</td>\n",
       "      <td>0</td>\n",
       "      <td>1</td>\n",
       "      <td>0</td>\n",
       "    </tr>\n",
       "    <tr>\n",
       "      <th>31/10/1997</th>\n",
       "      <td>Friday</td>\n",
       "      <td>0.020108</td>\n",
       "      <td>0.002225</td>\n",
       "      <td>0.015986</td>\n",
       "      <td>0</td>\n",
       "      <td>0</td>\n",
       "      <td>0</td>\n",
       "      <td>0</td>\n",
       "      <td>1</td>\n",
       "    </tr>\n",
       "    <tr>\n",
       "      <th>3/11/1997</th>\n",
       "      <td>Monday</td>\n",
       "      <td>0.069216</td>\n",
       "      <td>0.057976</td>\n",
       "      <td>0.093426</td>\n",
       "      <td>1</td>\n",
       "      <td>0</td>\n",
       "      <td>0</td>\n",
       "      <td>0</td>\n",
       "      <td>0</td>\n",
       "    </tr>\n",
       "    <tr>\n",
       "      <th>...</th>\n",
       "      <td>...</td>\n",
       "      <td>...</td>\n",
       "      <td>...</td>\n",
       "      <td>...</td>\n",
       "      <td>...</td>\n",
       "      <td>...</td>\n",
       "      <td>...</td>\n",
       "      <td>...</td>\n",
       "      <td>...</td>\n",
       "    </tr>\n",
       "    <tr>\n",
       "      <th>14/10/2002</th>\n",
       "      <td>Monday</td>\n",
       "      <td>0.003452</td>\n",
       "      <td>0.002468</td>\n",
       "      <td>-0.007561</td>\n",
       "      <td>1</td>\n",
       "      <td>0</td>\n",
       "      <td>0</td>\n",
       "      <td>0</td>\n",
       "      <td>0</td>\n",
       "    </tr>\n",
       "    <tr>\n",
       "      <th>15/10/2002</th>\n",
       "      <td>Tuesday</td>\n",
       "      <td>0.036498</td>\n",
       "      <td>0.033885</td>\n",
       "      <td>0.046484</td>\n",
       "      <td>0</td>\n",
       "      <td>1</td>\n",
       "      <td>0</td>\n",
       "      <td>0</td>\n",
       "      <td>0</td>\n",
       "    </tr>\n",
       "    <tr>\n",
       "      <th>16/10/2002</th>\n",
       "      <td>Wednesday</td>\n",
       "      <td>0.006533</td>\n",
       "      <td>0.007196</td>\n",
       "      <td>0.042938</td>\n",
       "      <td>0</td>\n",
       "      <td>0</td>\n",
       "      <td>1</td>\n",
       "      <td>0</td>\n",
       "      <td>0</td>\n",
       "    </tr>\n",
       "    <tr>\n",
       "      <th>17/10/2002</th>\n",
       "      <td>Thursday</td>\n",
       "      <td>0.018568</td>\n",
       "      <td>0.019657</td>\n",
       "      <td>0.023428</td>\n",
       "      <td>0</td>\n",
       "      <td>0</td>\n",
       "      <td>0</td>\n",
       "      <td>1</td>\n",
       "      <td>0</td>\n",
       "    </tr>\n",
       "    <tr>\n",
       "      <th>18/10/2002</th>\n",
       "      <td>Friday</td>\n",
       "      <td>-0.003163</td>\n",
       "      <td>0.001367</td>\n",
       "      <td>0.050051</td>\n",
       "      <td>0</td>\n",
       "      <td>0</td>\n",
       "      <td>0</td>\n",
       "      <td>0</td>\n",
       "      <td>1</td>\n",
       "    </tr>\n",
       "  </tbody>\n",
       "</table>\n",
       "<p>1299 rows × 9 columns</p>\n",
       "</div>"
      ],
      "text/plain": [
       "                 Days      STIR       LSR       SSR  d1  d2  d3  d4  d5\n",
       "Date                                                                   \n",
       "28/10/1997    Tuesday -0.096719 -0.088550 -0.091323   0   1   0   0   0\n",
       "29/10/1997  Wednesday  0.066769  0.053139  0.030660   0   0   1   0   0\n",
       "30/10/1997   Thursday  0.000000  0.000000  0.000000   0   0   0   1   0\n",
       "31/10/1997     Friday  0.020108  0.002225  0.015986   0   0   0   0   1\n",
       "3/11/1997      Monday  0.069216  0.057976  0.093426   1   0   0   0   0\n",
       "...               ...       ...       ...       ...  ..  ..  ..  ..  ..\n",
       "14/10/2002     Monday  0.003452  0.002468 -0.007561   1   0   0   0   0\n",
       "15/10/2002    Tuesday  0.036498  0.033885  0.046484   0   1   0   0   0\n",
       "16/10/2002  Wednesday  0.006533  0.007196  0.042938   0   0   1   0   0\n",
       "17/10/2002   Thursday  0.018568  0.019657  0.023428   0   0   0   1   0\n",
       "18/10/2002     Friday -0.003163  0.001367  0.050051   0   0   0   0   1\n",
       "\n",
       "[1299 rows x 9 columns]"
      ]
     },
     "execution_count": 2,
     "metadata": {},
     "output_type": "execute_result"
    }
   ],
   "source": [
    "data = pd.read_csv('Large_Small_Day_of_Week.csv', index_col = 'Date').dropna()\n",
    "data"
   ]
  },
  {
   "cell_type": "markdown",
   "id": "41466d5c-3205-4998-8f7a-463ccf720f6a",
   "metadata": {
    "jp-MarkdownHeadingCollapsed": true
   },
   "source": [
    "# Q1"
   ]
  },
  {
   "cell_type": "markdown",
   "id": "e56b33d9-e084-4e1f-8361-6dbbf71485d0",
   "metadata": {},
   "source": [
    "What is the difference in mean Monday return between the large portfolio versus the small portfolio?  Find the t-statistic to test if the difference is significantly different from the null hypothesis of zero. Assume returns are normally distributed with the same variances. The means are unconditional expectations. Find the answer with the difference, the t-statistic, and the p-value."
   ]
  },
  {
   "cell_type": "code",
   "execution_count": 3,
   "id": "33294485-2817-4aa7-abd7-f83010b60730",
   "metadata": {},
   "outputs": [
    {
     "data": {
      "text/html": [
       "<div>\n",
       "<style scoped>\n",
       "    .dataframe tbody tr th:only-of-type {\n",
       "        vertical-align: middle;\n",
       "    }\n",
       "\n",
       "    .dataframe tbody tr th {\n",
       "        vertical-align: top;\n",
       "    }\n",
       "\n",
       "    .dataframe thead th {\n",
       "        text-align: right;\n",
       "    }\n",
       "</style>\n",
       "<table border=\"1\" class=\"dataframe\">\n",
       "  <thead>\n",
       "    <tr style=\"text-align: right;\">\n",
       "      <th></th>\n",
       "      <th>LSR</th>\n",
       "      <th>SSR</th>\n",
       "    </tr>\n",
       "    <tr>\n",
       "      <th>Date</th>\n",
       "      <th></th>\n",
       "      <th></th>\n",
       "    </tr>\n",
       "  </thead>\n",
       "  <tbody>\n",
       "    <tr>\n",
       "      <th>3/11/1997</th>\n",
       "      <td>0.057976</td>\n",
       "      <td>0.093426</td>\n",
       "    </tr>\n",
       "    <tr>\n",
       "      <th>10/11/1997</th>\n",
       "      <td>0.000688</td>\n",
       "      <td>-0.022599</td>\n",
       "    </tr>\n",
       "    <tr>\n",
       "      <th>17/11/1997</th>\n",
       "      <td>0.013696</td>\n",
       "      <td>0.002207</td>\n",
       "    </tr>\n",
       "    <tr>\n",
       "      <th>24/11/1997</th>\n",
       "      <td>0.015035</td>\n",
       "      <td>-0.021014</td>\n",
       "    </tr>\n",
       "    <tr>\n",
       "      <th>1/12/1997</th>\n",
       "      <td>-0.001700</td>\n",
       "      <td>-0.015981</td>\n",
       "    </tr>\n",
       "    <tr>\n",
       "      <th>...</th>\n",
       "      <td>...</td>\n",
       "      <td>...</td>\n",
       "    </tr>\n",
       "    <tr>\n",
       "      <th>16/9/2002</th>\n",
       "      <td>0.001110</td>\n",
       "      <td>0.017402</td>\n",
       "    </tr>\n",
       "    <tr>\n",
       "      <th>23/9/2002</th>\n",
       "      <td>0.004445</td>\n",
       "      <td>-0.044629</td>\n",
       "    </tr>\n",
       "    <tr>\n",
       "      <th>30/9/2002</th>\n",
       "      <td>-0.022405</td>\n",
       "      <td>-0.011432</td>\n",
       "    </tr>\n",
       "    <tr>\n",
       "      <th>7/10/2002</th>\n",
       "      <td>0.006424</td>\n",
       "      <td>-0.023557</td>\n",
       "    </tr>\n",
       "    <tr>\n",
       "      <th>14/10/2002</th>\n",
       "      <td>0.002468</td>\n",
       "      <td>-0.007561</td>\n",
       "    </tr>\n",
       "  </tbody>\n",
       "</table>\n",
       "<p>259 rows × 2 columns</p>\n",
       "</div>"
      ],
      "text/plain": [
       "                 LSR       SSR\n",
       "Date                          \n",
       "3/11/1997   0.057976  0.093426\n",
       "10/11/1997  0.000688 -0.022599\n",
       "17/11/1997  0.013696  0.002207\n",
       "24/11/1997  0.015035 -0.021014\n",
       "1/12/1997  -0.001700 -0.015981\n",
       "...              ...       ...\n",
       "16/9/2002   0.001110  0.017402\n",
       "23/9/2002   0.004445 -0.044629\n",
       "30/9/2002  -0.022405 -0.011432\n",
       "7/10/2002   0.006424 -0.023557\n",
       "14/10/2002  0.002468 -0.007561\n",
       "\n",
       "[259 rows x 2 columns]"
      ]
     },
     "execution_count": 3,
     "metadata": {},
     "output_type": "execute_result"
    }
   ],
   "source": [
    "q1 = data[data['d1']==1][[\"LSR\", \"SSR\"]]\n",
    "q1"
   ]
  },
  {
   "cell_type": "code",
   "execution_count": 4,
   "id": "8e70d7e8-5efe-4a89-80be-d93ed69aa455",
   "metadata": {},
   "outputs": [
    {
     "data": {
      "text/plain": [
       "0.006249024521235522"
      ]
     },
     "execution_count": 4,
     "metadata": {},
     "output_type": "execute_result"
    }
   ],
   "source": [
    "q1['LSR'].mean() - q1['SSR'].mean()"
   ]
  },
  {
   "cell_type": "code",
   "execution_count": 5,
   "id": "1837c2c0-6074-400b-b8e3-4f207b6b3655",
   "metadata": {},
   "outputs": [
    {
     "data": {
      "text/plain": [
       "(2.436323025532494, 0.015174628227012599)"
      ]
     },
     "execution_count": 5,
     "metadata": {},
     "output_type": "execute_result"
    }
   ],
   "source": [
    "t, pvalue = stats.ttest_ind(q1['LSR'], q1['SSR'], equal_var=True)\n",
    "t, pvalue"
   ]
  },
  {
   "cell_type": "markdown",
   "id": "f848d28c-f3fc-4820-9e09-7f3ca44dbc14",
   "metadata": {},
   "source": [
    "# Q2"
   ]
  },
  {
   "cell_type": "markdown",
   "id": "2819bf5f-9ed8-456c-89fa-d8d922f24e59",
   "metadata": {},
   "source": [
    "Run OLS with dependent variable LSR and explanatory variables STIR and the 5 dummy variables. Similarly run OLS with dependent variable SSR and explanatory variables STIR and the 5 dummy variables. Which of the following statement is the most accurate? (Significance level is 1%)"
   ]
  },
  {
   "cell_type": "code",
   "execution_count": 60,
   "id": "ee92d7bd-77ed-41f5-8aaa-64dc8b45a79e",
   "metadata": {},
   "outputs": [
    {
     "data": {
      "text/html": [
       "<table class=\"simpletable\">\n",
       "<caption>OLS Regression Results</caption>\n",
       "<tr>\n",
       "  <th>Dep. Variable:</th>           <td>LSR</td>       <th>  R-squared:         </th> <td>   0.887</td>\n",
       "</tr>\n",
       "<tr>\n",
       "  <th>Model:</th>                   <td>OLS</td>       <th>  Adj. R-squared:    </th> <td>   0.886</td>\n",
       "</tr>\n",
       "<tr>\n",
       "  <th>Method:</th>             <td>Least Squares</td>  <th>  F-statistic:       </th> <td>   2022.</td>\n",
       "</tr>\n",
       "<tr>\n",
       "  <th>Date:</th>             <td>Mon, 05 Feb 2024</td> <th>  Prob (F-statistic):</th>  <td>  0.00</td> \n",
       "</tr>\n",
       "<tr>\n",
       "  <th>Time:</th>                 <td>17:38:17</td>     <th>  Log-Likelihood:    </th> <td>  4866.9</td>\n",
       "</tr>\n",
       "<tr>\n",
       "  <th>No. Observations:</th>      <td>  1299</td>      <th>  AIC:               </th> <td>  -9722.</td>\n",
       "</tr>\n",
       "<tr>\n",
       "  <th>Df Residuals:</th>          <td>  1293</td>      <th>  BIC:               </th> <td>  -9691.</td>\n",
       "</tr>\n",
       "<tr>\n",
       "  <th>Df Model:</th>              <td>     5</td>      <th>                     </th>     <td> </td>   \n",
       "</tr>\n",
       "<tr>\n",
       "  <th>Covariance Type:</th>      <td>nonrobust</td>    <th>                     </th>     <td> </td>   \n",
       "</tr>\n",
       "</table>\n",
       "<table class=\"simpletable\">\n",
       "<tr>\n",
       "    <td></td>      <th>coef</th>     <th>std err</th>      <th>t</th>      <th>P>|t|</th>  <th>[0.025</th>    <th>0.975]</th>  \n",
       "</tr>\n",
       "<tr>\n",
       "  <th>STIR</th> <td>    0.9224</td> <td>    0.009</td> <td>  100.462</td> <td> 0.000</td> <td>    0.904</td> <td>    0.940</td>\n",
       "</tr>\n",
       "<tr>\n",
       "  <th>d1</th>   <td>    0.0003</td> <td>    0.000</td> <td>    0.748</td> <td> 0.455</td> <td>   -0.000</td> <td>    0.001</td>\n",
       "</tr>\n",
       "<tr>\n",
       "  <th>d2</th>   <td>    0.0008</td> <td>    0.000</td> <td>    2.145</td> <td> 0.032</td> <td> 6.51e-05</td> <td>    0.001</td>\n",
       "</tr>\n",
       "<tr>\n",
       "  <th>d3</th>   <td> 7.037e-05</td> <td>    0.000</td> <td>    0.198</td> <td> 0.843</td> <td>   -0.001</td> <td>    0.001</td>\n",
       "</tr>\n",
       "<tr>\n",
       "  <th>d4</th>   <td>   -0.0001</td> <td>    0.000</td> <td>   -0.388</td> <td> 0.698</td> <td>   -0.001</td> <td>    0.001</td>\n",
       "</tr>\n",
       "<tr>\n",
       "  <th>d5</th>   <td>   -0.0002</td> <td>    0.000</td> <td>   -0.469</td> <td> 0.639</td> <td>   -0.001</td> <td>    0.001</td>\n",
       "</tr>\n",
       "</table>\n",
       "<table class=\"simpletable\">\n",
       "<tr>\n",
       "  <th>Omnibus:</th>       <td>103.610</td> <th>  Durbin-Watson:     </th> <td>   1.906</td> \n",
       "</tr>\n",
       "<tr>\n",
       "  <th>Prob(Omnibus):</th> <td> 0.000</td>  <th>  Jarque-Bera (JB):  </th> <td> 469.485</td> \n",
       "</tr>\n",
       "<tr>\n",
       "  <th>Skew:</th>          <td> 0.212</td>  <th>  Prob(JB):          </th> <td>1.13e-102</td>\n",
       "</tr>\n",
       "<tr>\n",
       "  <th>Kurtosis:</th>      <td> 5.915</td>  <th>  Cond. No.          </th> <td>    25.9</td> \n",
       "</tr>\n",
       "</table><br/><br/>Notes:<br/>[1] Standard Errors assume that the covariance matrix of the errors is correctly specified."
      ],
      "text/latex": [
       "\\begin{center}\n",
       "\\begin{tabular}{lclc}\n",
       "\\toprule\n",
       "\\textbf{Dep. Variable:}    &       LSR        & \\textbf{  R-squared:         } &     0.887   \\\\\n",
       "\\textbf{Model:}            &       OLS        & \\textbf{  Adj. R-squared:    } &     0.886   \\\\\n",
       "\\textbf{Method:}           &  Least Squares   & \\textbf{  F-statistic:       } &     2022.   \\\\\n",
       "\\textbf{Date:}             & Mon, 05 Feb 2024 & \\textbf{  Prob (F-statistic):} &     0.00    \\\\\n",
       "\\textbf{Time:}             &     17:38:17     & \\textbf{  Log-Likelihood:    } &    4866.9   \\\\\n",
       "\\textbf{No. Observations:} &        1299      & \\textbf{  AIC:               } &    -9722.   \\\\\n",
       "\\textbf{Df Residuals:}     &        1293      & \\textbf{  BIC:               } &    -9691.   \\\\\n",
       "\\textbf{Df Model:}         &           5      & \\textbf{                     } &             \\\\\n",
       "\\textbf{Covariance Type:}  &    nonrobust     & \\textbf{                     } &             \\\\\n",
       "\\bottomrule\n",
       "\\end{tabular}\n",
       "\\begin{tabular}{lcccccc}\n",
       "              & \\textbf{coef} & \\textbf{std err} & \\textbf{t} & \\textbf{P$> |$t$|$} & \\textbf{[0.025} & \\textbf{0.975]}  \\\\\n",
       "\\midrule\n",
       "\\textbf{STIR} &       0.9224  &        0.009     &   100.462  &         0.000        &        0.904    &        0.940     \\\\\n",
       "\\textbf{d1}   &       0.0003  &        0.000     &     0.748  &         0.455        &       -0.000    &        0.001     \\\\\n",
       "\\textbf{d2}   &       0.0008  &        0.000     &     2.145  &         0.032        &     6.51e-05    &        0.001     \\\\\n",
       "\\textbf{d3}   &    7.037e-05  &        0.000     &     0.198  &         0.843        &       -0.001    &        0.001     \\\\\n",
       "\\textbf{d4}   &      -0.0001  &        0.000     &    -0.388  &         0.698        &       -0.001    &        0.001     \\\\\n",
       "\\textbf{d5}   &      -0.0002  &        0.000     &    -0.469  &         0.639        &       -0.001    &        0.001     \\\\\n",
       "\\bottomrule\n",
       "\\end{tabular}\n",
       "\\begin{tabular}{lclc}\n",
       "\\textbf{Omnibus:}       & 103.610 & \\textbf{  Durbin-Watson:     } &     1.906  \\\\\n",
       "\\textbf{Prob(Omnibus):} &   0.000 & \\textbf{  Jarque-Bera (JB):  } &   469.485  \\\\\n",
       "\\textbf{Skew:}          &   0.212 & \\textbf{  Prob(JB):          } & 1.13e-102  \\\\\n",
       "\\textbf{Kurtosis:}      &   5.915 & \\textbf{  Cond. No.          } &      25.9  \\\\\n",
       "\\bottomrule\n",
       "\\end{tabular}\n",
       "%\\caption{OLS Regression Results}\n",
       "\\end{center}\n",
       "\n",
       "Notes: \\newline\n",
       " [1] Standard Errors assume that the covariance matrix of the errors is correctly specified."
      ],
      "text/plain": [
       "<class 'statsmodels.iolib.summary.Summary'>\n",
       "\"\"\"\n",
       "                            OLS Regression Results                            \n",
       "==============================================================================\n",
       "Dep. Variable:                    LSR   R-squared:                       0.887\n",
       "Model:                            OLS   Adj. R-squared:                  0.886\n",
       "Method:                 Least Squares   F-statistic:                     2022.\n",
       "Date:                Mon, 05 Feb 2024   Prob (F-statistic):               0.00\n",
       "Time:                        17:38:17   Log-Likelihood:                 4866.9\n",
       "No. Observations:                1299   AIC:                            -9722.\n",
       "Df Residuals:                    1293   BIC:                            -9691.\n",
       "Df Model:                           5                                         \n",
       "Covariance Type:            nonrobust                                         \n",
       "==============================================================================\n",
       "                 coef    std err          t      P>|t|      [0.025      0.975]\n",
       "------------------------------------------------------------------------------\n",
       "STIR           0.9224      0.009    100.462      0.000       0.904       0.940\n",
       "d1             0.0003      0.000      0.748      0.455      -0.000       0.001\n",
       "d2             0.0008      0.000      2.145      0.032    6.51e-05       0.001\n",
       "d3          7.037e-05      0.000      0.198      0.843      -0.001       0.001\n",
       "d4            -0.0001      0.000     -0.388      0.698      -0.001       0.001\n",
       "d5            -0.0002      0.000     -0.469      0.639      -0.001       0.001\n",
       "==============================================================================\n",
       "Omnibus:                      103.610   Durbin-Watson:                   1.906\n",
       "Prob(Omnibus):                  0.000   Jarque-Bera (JB):              469.485\n",
       "Skew:                           0.212   Prob(JB):                    1.13e-102\n",
       "Kurtosis:                       5.915   Cond. No.                         25.9\n",
       "==============================================================================\n",
       "\n",
       "Notes:\n",
       "[1] Standard Errors assume that the covariance matrix of the errors is correctly specified.\n",
       "\"\"\""
      ]
     },
     "execution_count": 60,
     "metadata": {},
     "output_type": "execute_result"
    }
   ],
   "source": [
    "from statsmodels.formula.api import ols\n",
    "formular = 'LSR ~ STIR + d1 + d2 + d3 + d4 + d5 - 1'\n",
    "result1 = ols(formular, data).fit()\n",
    "result1.summary()"
   ]
  },
  {
   "cell_type": "code",
   "execution_count": 61,
   "id": "b291c7a4-efeb-4538-a682-b0b033ae5003",
   "metadata": {},
   "outputs": [
    {
     "data": {
      "text/html": [
       "<table class=\"simpletable\">\n",
       "<caption>OLS Regression Results</caption>\n",
       "<tr>\n",
       "  <th>Dep. Variable:</th>           <td>SSR</td>       <th>  R-squared:         </th> <td>   0.280</td>\n",
       "</tr>\n",
       "<tr>\n",
       "  <th>Model:</th>                   <td>OLS</td>       <th>  Adj. R-squared:    </th> <td>   0.278</td>\n",
       "</tr>\n",
       "<tr>\n",
       "  <th>Method:</th>             <td>Least Squares</td>  <th>  F-statistic:       </th> <td>   100.8</td>\n",
       "</tr>\n",
       "<tr>\n",
       "  <th>Date:</th>             <td>Mon, 05 Feb 2024</td> <th>  Prob (F-statistic):</th> <td>7.37e-90</td>\n",
       "</tr>\n",
       "<tr>\n",
       "  <th>Time:</th>                 <td>17:38:22</td>     <th>  Log-Likelihood:    </th> <td>  3003.4</td>\n",
       "</tr>\n",
       "<tr>\n",
       "  <th>No. Observations:</th>      <td>  1299</td>      <th>  AIC:               </th> <td>  -5995.</td>\n",
       "</tr>\n",
       "<tr>\n",
       "  <th>Df Residuals:</th>          <td>  1293</td>      <th>  BIC:               </th> <td>  -5964.</td>\n",
       "</tr>\n",
       "<tr>\n",
       "  <th>Df Model:</th>              <td>     5</td>      <th>                     </th>     <td> </td>   \n",
       "</tr>\n",
       "<tr>\n",
       "  <th>Covariance Type:</th>      <td>nonrobust</td>    <th>                     </th>     <td> </td>   \n",
       "</tr>\n",
       "</table>\n",
       "<table class=\"simpletable\">\n",
       "<tr>\n",
       "    <td></td>      <th>coef</th>     <th>std err</th>      <th>t</th>      <th>P>|t|</th>  <th>[0.025</th>    <th>0.975]</th>  \n",
       "</tr>\n",
       "<tr>\n",
       "  <th>STIR</th> <td>    0.8439</td> <td>    0.039</td> <td>   21.895</td> <td> 0.000</td> <td>    0.768</td> <td>    0.920</td>\n",
       "</tr>\n",
       "<tr>\n",
       "  <th>d1</th>   <td>   -0.0061</td> <td>    0.001</td> <td>   -4.091</td> <td> 0.000</td> <td>   -0.009</td> <td>   -0.003</td>\n",
       "</tr>\n",
       "<tr>\n",
       "  <th>d2</th>   <td>   -0.0008</td> <td>    0.001</td> <td>   -0.520</td> <td> 0.603</td> <td>   -0.004</td> <td>    0.002</td>\n",
       "</tr>\n",
       "<tr>\n",
       "  <th>d3</th>   <td>    0.0011</td> <td>    0.001</td> <td>    0.733</td> <td> 0.464</td> <td>   -0.002</td> <td>    0.004</td>\n",
       "</tr>\n",
       "<tr>\n",
       "  <th>d4</th>   <td>   -0.0004</td> <td>    0.001</td> <td>   -0.248</td> <td> 0.804</td> <td>   -0.003</td> <td>    0.003</td>\n",
       "</tr>\n",
       "<tr>\n",
       "  <th>d5</th>   <td>    0.0005</td> <td>    0.001</td> <td>    0.356</td> <td> 0.722</td> <td>   -0.002</td> <td>    0.003</td>\n",
       "</tr>\n",
       "</table>\n",
       "<table class=\"simpletable\">\n",
       "<tr>\n",
       "  <th>Omnibus:</th>       <td>148.392</td> <th>  Durbin-Watson:     </th> <td>   2.037</td> \n",
       "</tr>\n",
       "<tr>\n",
       "  <th>Prob(Omnibus):</th> <td> 0.000</td>  <th>  Jarque-Bera (JB):  </th> <td>1299.616</td> \n",
       "</tr>\n",
       "<tr>\n",
       "  <th>Skew:</th>          <td> 0.051</td>  <th>  Prob(JB):          </th> <td>6.19e-283</td>\n",
       "</tr>\n",
       "<tr>\n",
       "  <th>Kurtosis:</th>      <td> 7.899</td>  <th>  Cond. No.          </th> <td>    25.9</td> \n",
       "</tr>\n",
       "</table><br/><br/>Notes:<br/>[1] Standard Errors assume that the covariance matrix of the errors is correctly specified."
      ],
      "text/latex": [
       "\\begin{center}\n",
       "\\begin{tabular}{lclc}\n",
       "\\toprule\n",
       "\\textbf{Dep. Variable:}    &       SSR        & \\textbf{  R-squared:         } &     0.280   \\\\\n",
       "\\textbf{Model:}            &       OLS        & \\textbf{  Adj. R-squared:    } &     0.278   \\\\\n",
       "\\textbf{Method:}           &  Least Squares   & \\textbf{  F-statistic:       } &     100.8   \\\\\n",
       "\\textbf{Date:}             & Mon, 05 Feb 2024 & \\textbf{  Prob (F-statistic):} &  7.37e-90   \\\\\n",
       "\\textbf{Time:}             &     17:38:22     & \\textbf{  Log-Likelihood:    } &    3003.4   \\\\\n",
       "\\textbf{No. Observations:} &        1299      & \\textbf{  AIC:               } &    -5995.   \\\\\n",
       "\\textbf{Df Residuals:}     &        1293      & \\textbf{  BIC:               } &    -5964.   \\\\\n",
       "\\textbf{Df Model:}         &           5      & \\textbf{                     } &             \\\\\n",
       "\\textbf{Covariance Type:}  &    nonrobust     & \\textbf{                     } &             \\\\\n",
       "\\bottomrule\n",
       "\\end{tabular}\n",
       "\\begin{tabular}{lcccccc}\n",
       "              & \\textbf{coef} & \\textbf{std err} & \\textbf{t} & \\textbf{P$> |$t$|$} & \\textbf{[0.025} & \\textbf{0.975]}  \\\\\n",
       "\\midrule\n",
       "\\textbf{STIR} &       0.8439  &        0.039     &    21.895  &         0.000        &        0.768    &        0.920     \\\\\n",
       "\\textbf{d1}   &      -0.0061  &        0.001     &    -4.091  &         0.000        &       -0.009    &       -0.003     \\\\\n",
       "\\textbf{d2}   &      -0.0008  &        0.001     &    -0.520  &         0.603        &       -0.004    &        0.002     \\\\\n",
       "\\textbf{d3}   &       0.0011  &        0.001     &     0.733  &         0.464        &       -0.002    &        0.004     \\\\\n",
       "\\textbf{d4}   &      -0.0004  &        0.001     &    -0.248  &         0.804        &       -0.003    &        0.003     \\\\\n",
       "\\textbf{d5}   &       0.0005  &        0.001     &     0.356  &         0.722        &       -0.002    &        0.003     \\\\\n",
       "\\bottomrule\n",
       "\\end{tabular}\n",
       "\\begin{tabular}{lclc}\n",
       "\\textbf{Omnibus:}       & 148.392 & \\textbf{  Durbin-Watson:     } &     2.037  \\\\\n",
       "\\textbf{Prob(Omnibus):} &   0.000 & \\textbf{  Jarque-Bera (JB):  } &  1299.616  \\\\\n",
       "\\textbf{Skew:}          &   0.051 & \\textbf{  Prob(JB):          } & 6.19e-283  \\\\\n",
       "\\textbf{Kurtosis:}      &   7.899 & \\textbf{  Cond. No.          } &      25.9  \\\\\n",
       "\\bottomrule\n",
       "\\end{tabular}\n",
       "%\\caption{OLS Regression Results}\n",
       "\\end{center}\n",
       "\n",
       "Notes: \\newline\n",
       " [1] Standard Errors assume that the covariance matrix of the errors is correctly specified."
      ],
      "text/plain": [
       "<class 'statsmodels.iolib.summary.Summary'>\n",
       "\"\"\"\n",
       "                            OLS Regression Results                            \n",
       "==============================================================================\n",
       "Dep. Variable:                    SSR   R-squared:                       0.280\n",
       "Model:                            OLS   Adj. R-squared:                  0.278\n",
       "Method:                 Least Squares   F-statistic:                     100.8\n",
       "Date:                Mon, 05 Feb 2024   Prob (F-statistic):           7.37e-90\n",
       "Time:                        17:38:22   Log-Likelihood:                 3003.4\n",
       "No. Observations:                1299   AIC:                            -5995.\n",
       "Df Residuals:                    1293   BIC:                            -5964.\n",
       "Df Model:                           5                                         \n",
       "Covariance Type:            nonrobust                                         \n",
       "==============================================================================\n",
       "                 coef    std err          t      P>|t|      [0.025      0.975]\n",
       "------------------------------------------------------------------------------\n",
       "STIR           0.8439      0.039     21.895      0.000       0.768       0.920\n",
       "d1            -0.0061      0.001     -4.091      0.000      -0.009      -0.003\n",
       "d2            -0.0008      0.001     -0.520      0.603      -0.004       0.002\n",
       "d3             0.0011      0.001      0.733      0.464      -0.002       0.004\n",
       "d4            -0.0004      0.001     -0.248      0.804      -0.003       0.003\n",
       "d5             0.0005      0.001      0.356      0.722      -0.002       0.003\n",
       "==============================================================================\n",
       "Omnibus:                      148.392   Durbin-Watson:                   2.037\n",
       "Prob(Omnibus):                  0.000   Jarque-Bera (JB):             1299.616\n",
       "Skew:                           0.051   Prob(JB):                    6.19e-283\n",
       "Kurtosis:                       7.899   Cond. No.                         25.9\n",
       "==============================================================================\n",
       "\n",
       "Notes:\n",
       "[1] Standard Errors assume that the covariance matrix of the errors is correctly specified.\n",
       "\"\"\""
      ]
     },
     "execution_count": 61,
     "metadata": {},
     "output_type": "execute_result"
    }
   ],
   "source": [
    "from statsmodels.formula.api import ols\n",
    "formular = 'SSR ~ STIR + d1 + d2 + d3 + d4 + d5 - 1'\n",
    "result2 = ols(formular, data).fit()\n",
    "result2.summary()"
   ]
  },
  {
   "cell_type": "markdown",
   "id": "7a3ddaae-1aac-4eec-820d-198d67376796",
   "metadata": {},
   "source": [
    "# Q3"
   ]
  },
  {
   "cell_type": "markdown",
   "id": "97bee576-9906-48be-b592-bd3453181ef5",
   "metadata": {},
   "source": [
    "Find the variances of the fitted residuals for the two regressions in Q2. Assume these variances are different. Run a GLS regression with both LSR and SSR combined as dependent variable. The explanatory variables are the same STIR and the 5 dummy variables. What is the coefficient estimate and its t-value for the Monday dummy?"
   ]
  },
  {
   "cell_type": "code",
   "execution_count": 70,
   "id": "98d7a655-3ba9-4992-914c-4e834e2e74ab",
   "metadata": {},
   "outputs": [
    {
     "data": {
      "text/plain": [
       "(3.260183691722937e-05, 0.0005745114599180865)"
      ]
     },
     "execution_count": 70,
     "metadata": {},
     "output_type": "execute_result"
    }
   ],
   "source": [
    "np.var(result1.resid),np.var(result2.resid)"
   ]
  },
  {
   "cell_type": "code",
   "execution_count": 62,
   "id": "14703cd5-4036-45b7-91bd-e1a63da8c0b8",
   "metadata": {},
   "outputs": [
    {
     "name": "stdout",
     "output_type": "stream",
     "text": [
      "1.6916522439077524\n",
      "0.09095270202736264\n",
      "0.04694953172306796\n"
     ]
    }
   ],
   "source": [
    "resid_fit1 = sm.OLS(\n",
    "    np.asarray(result1.resid)[1:], sm.add_constant(np.asarray(result1.resid)[:-1])\n",
    ").fit()\n",
    "print(resid_fit1.tvalues[1])\n",
    "print(resid_fit1.pvalues[1])\n",
    "rho1 = resid_fit1.params[1]\n",
    "print(rho1)"
   ]
  },
  {
   "cell_type": "code",
   "execution_count": 63,
   "id": "f6774e1e-6646-4162-a541-8b9fab3db65e",
   "metadata": {},
   "outputs": [
    {
     "name": "stdout",
     "output_type": "stream",
     "text": [
      "-0.7284298296759707\n",
      "0.46648210424973313\n",
      "-0.020265985499387486\n"
     ]
    }
   ],
   "source": [
    "resid_fit2 = sm.OLS(\n",
    "    np.asarray(result2.resid)[1:], sm.add_constant(np.asarray(result2.resid)[:-1])\n",
    ").fit()\n",
    "print(resid_fit2.tvalues[1])\n",
    "print(resid_fit2.pvalues[1])\n",
    "rho2 = resid_fit2.params[1]\n",
    "print(rho2)"
   ]
  },
  {
   "cell_type": "code",
   "execution_count": 18,
   "id": "adb06937-6cf9-49df-88f4-3b7ce024dacd",
   "metadata": {},
   "outputs": [
    {
     "data": {
      "text/plain": [
       "2598"
      ]
     },
     "execution_count": 18,
     "metadata": {},
     "output_type": "execute_result"
    }
   ],
   "source": [
    "len(result1.resid)+len(result2.resid)"
   ]
  },
  {
   "cell_type": "code",
   "execution_count": 64,
   "id": "2c55f06b-b025-46a0-881a-ad655bba144a",
   "metadata": {},
   "outputs": [],
   "source": [
    "#y = data[[\"LSR\", \"SSR\"]]\n",
    "y = pd.concat([data[\"LSR\"],data[\"SSR\"]]).reset_index(drop=True)\n",
    "x = data[[\"STIR\", 'd1', 'd2','d3','d4','d5']]\n",
    "x1 = pd.concat([x,x]).reset_index(drop=True)\n",
    "x2 = sm.add_constant(x1)"
   ]
  },
  {
   "cell_type": "code",
   "execution_count": 73,
   "id": "10343abf-20db-4d66-b6c0-4bbdaafe8fa5",
   "metadata": {},
   "outputs": [
    {
     "name": "stdout",
     "output_type": "stream",
     "text": [
      "                            GLS Regression Results                            \n",
      "==============================================================================\n",
      "Dep. Variable:                      y   R-squared:                       0.437\n",
      "Model:                            GLS   Adj. R-squared:                  0.436\n",
      "Method:                 Least Squares   F-statistic:                     401.7\n",
      "Date:                Mon, 05 Feb 2024   Prob (F-statistic):          1.17e-319\n",
      "Time:                        17:58:34   Log-Likelihood:                 6824.4\n",
      "No. Observations:                2598   AIC:                        -1.364e+04\n",
      "Df Residuals:                    2592   BIC:                        -1.360e+04\n",
      "Df Model:                           5                                         \n",
      "Covariance Type:            nonrobust                                         \n",
      "==============================================================================\n",
      "                 coef    std err          t      P>|t|      [0.025      0.975]\n",
      "------------------------------------------------------------------------------\n",
      "STIR           0.8831      0.020     44.441      0.000       0.844       0.922\n",
      "d1            -0.0029      0.001     -3.795      0.000      -0.004      -0.001\n",
      "d2          -6.37e-06      0.001     -0.008      0.993      -0.002       0.002\n",
      "d3             0.0006      0.001      0.756      0.450      -0.001       0.002\n",
      "d4            -0.0003      0.001     -0.330      0.741      -0.002       0.001\n",
      "d5             0.0002      0.001      0.237      0.813      -0.001       0.002\n",
      "==============================================================================\n",
      "Omnibus:                      493.620   Durbin-Watson:                   2.028\n",
      "Prob(Omnibus):                  0.000   Jarque-Bera (JB):            13467.118\n",
      "Skew:                          -0.058   Prob(JB):                         0.00\n",
      "Kurtosis:                      14.153   Cond. No.                         25.9\n",
      "==============================================================================\n",
      "\n",
      "Notes:\n",
      "[1] Standard Errors assume that the covariance matrix of the errors is correctly specified.\n"
     ]
    }
   ],
   "source": [
    "from scipy.linalg import toeplitz\n",
    "trix = toeplitz(range(len(x1))) ### trix is sq matrix with zero in diag, 1 in first off diag, 2 in 2nd off diag, etc.\n",
    "sigma = rho1 ** trix ### this is cov matrix of residuals except the factor of sigma_u^2 is left out\n",
    "gls_model = sm.GLS(y, x1)\n",
    "gls_results = gls_model.fit()\n",
    "print(gls_results.summary())"
   ]
  },
  {
   "cell_type": "code",
   "execution_count": 38,
   "id": "b202b07f-6c43-4733-9255-aaea594c21eb",
   "metadata": {},
   "outputs": [
    {
     "name": "stdout",
     "output_type": "stream",
     "text": [
      "-0.8127305026732466\n",
      "0.4164471422802426\n",
      "-0.015980071443209128\n"
     ]
    }
   ],
   "source": [
    "resid_fit = sm.OLS(\n",
    "    np.asarray(results.resid)[1:], sm.add_constant(np.asarray(results.resid)[:-1])\n",
    ").fit()\n",
    "print(resid_fit.tvalues[1])\n",
    "print(resid_fit.pvalues[1])\n",
    "rho = resid_fit.params[1]\n",
    "print(rho)"
   ]
  },
  {
   "cell_type": "code",
   "execution_count": null,
   "id": "73e69bfa-7d04-40b0-a786-90f8f24d7342",
   "metadata": {},
   "outputs": [],
   "source": [
    "gls_model = sm.GLS(y,x2,sigma = sigma_combined)\n",
    "gls_res = gls_model.fit()\n",
    "gls_res.summary()"
   ]
  },
  {
   "cell_type": "code",
   "execution_count": 14,
   "id": "170ba6fa-30ab-4d2f-b1db-1c682364028f",
   "metadata": {},
   "outputs": [
    {
     "ename": "NameError",
     "evalue": "name 'data1' is not defined",
     "output_type": "error",
     "traceback": [
      "\u001b[0;31m---------------------------------------------------------------------------\u001b[0m",
      "\u001b[0;31mNameError\u001b[0m                                 Traceback (most recent call last)",
      "Cell \u001b[0;32mIn[14], line 1\u001b[0m\n\u001b[0;32m----> 1\u001b[0m gls_model \u001b[38;5;241m=\u001b[39m sm\u001b[38;5;241m.\u001b[39mGLS(\u001b[43mdata1\u001b[49m[\u001b[38;5;124m'\u001b[39m\u001b[38;5;124mcontcpdret\u001b[39m\u001b[38;5;124m'\u001b[39m], Dx, sigma\u001b[38;5;241m=\u001b[39msigma_combined)\n\u001b[1;32m      2\u001b[0m gls_results \u001b[38;5;241m=\u001b[39m gls_model\u001b[38;5;241m.\u001b[39mfit()\n\u001b[1;32m      4\u001b[0m \u001b[38;5;28mprint\u001b[39m(gls_results\u001b[38;5;241m.\u001b[39msummary())\n",
      "\u001b[0;31mNameError\u001b[0m: name 'data1' is not defined"
     ]
    }
   ],
   "source": [
    "gls_model = sm.GLS(data1['contcpdret'], Dx, sigma=sigma_combined)\n",
    "gls_results = gls_model.fit()\n",
    "\n",
    "print(gls_results.summary())"
   ]
  },
  {
   "cell_type": "code",
   "execution_count": null,
   "id": "2e3721f0-03d4-4556-bce5-01b7dbfc7b74",
   "metadata": {},
   "outputs": [],
   "source": [
    "data"
   ]
  },
  {
   "cell_type": "code",
   "execution_count": null,
   "id": "fbd4a0bd-121f-4b35-9a0a-b0b576493df4",
   "metadata": {},
   "outputs": [],
   "source": [
    "lvar = result1.resid.var()\n",
    "svar = result2.resid.var()\n",
    "w = np.concatenate([np.repeat(1/lvar, len(data['LSR'])), np.repeat(1/svar, len(data['SSR']))])\n",
    "W = np.diag(w)\n",
    "W"
   ]
  },
  {
   "cell_type": "code",
   "execution_count": null,
   "id": "cc13216a-befb-442d-8ff4-7b7be929e9ba",
   "metadata": {},
   "outputs": [],
   "source": [
    "#y = data[[\"LSR\", \"SSR\"]]\n",
    "y = pd.concat([data[\"LSR\"],data[\"SSR\"]]).reset_index(drop=True)\n",
    "x = data[[\"STIR\", 'd1', 'd2','d3','d4','d5']]\n",
    "x1 = pd.concat([x,x]).reset_index(drop=True)\n",
    "x2 = sm.add_constant(x1)\n",
    "\n",
    "gls_model = sm.GLS(y,x2,sigma = W)\n",
    "gls_res = gls_model.fit()\n",
    "gls_res.summary()"
   ]
  },
  {
   "cell_type": "code",
   "execution_count": null,
   "id": "572c3094-6cda-4c99-8637-49ac3e5de47b",
   "metadata": {},
   "outputs": [],
   "source": []
  }
 ],
 "metadata": {
  "kernelspec": {
   "display_name": "Python 3 (ipykernel)",
   "language": "python",
   "name": "python3"
  },
  "language_info": {
   "codemirror_mode": {
    "name": "ipython",
    "version": 3
   },
   "file_extension": ".py",
   "mimetype": "text/x-python",
   "name": "python",
   "nbconvert_exporter": "python",
   "pygments_lexer": "ipython3",
   "version": "3.12.0"
  }
 },
 "nbformat": 4,
 "nbformat_minor": 5
}
