{
 "cells": [
  {
   "cell_type": "markdown",
   "id": "620377fd",
   "metadata": {},
   "source": [
    "Narrative:\n",
    "Data are daily portfolio returns of stocks from SGX during 28 Oct 1997 through to 18 Oct 2002. The large stock portfolio returns (LSR) are simple daily ave return rates from 10 stocks viz. Singtel, UOB, DBS, OCBC, SIA, SPH, Jardine, HK Land, Great Eastern, and City Developments. The small stock portfolio returns (SSR) are simple daily ave return rates from 10 stocks viz. Econ Intl, Casa Holdings, Pertama Holdings, Meiban Group, Sunright Ltd, Armstrong Ind Corp, Penguin Boat, Freight Links Express Holdings, Liang Huat Aluminium, and Tye Soon Ltd. The market return rate is proxied by Straits Times Index return rate, STIR. d1, d2, d3, d4, d5 are dummy variables representing Monday, Tuesday, Wednesday, Thursday, and Friday.\n",
    "\n",
    "Requirements:\n",
    "Perform multivariate regression and answer the following 5 Questions. Use 'from statsmodels.formula.api import ols' as a start."
   ]
  },
  {
   "cell_type": "code",
   "execution_count": 1,
   "id": "62076c83",
   "metadata": {},
   "outputs": [],
   "source": [
    "import pandas as pd\n",
    "import numpy as np\n",
    "import statsmodels.api as sm\n",
    "import matplotlib.pyplot as plt"
   ]
  },
  {
   "cell_type": "code",
   "execution_count": 2,
   "id": "79b361c3",
   "metadata": {},
   "outputs": [],
   "source": [
    "from statsmodels.formula.api import ols"
   ]
  },
  {
   "cell_type": "code",
   "execution_count": 3,
   "id": "68ef4019",
   "metadata": {},
   "outputs": [
    {
     "name": "stdout",
     "output_type": "stream",
     "text": [
      "                 Days      STIR       LSR       SSR  d1  d2  d3  d4  d5\n",
      "Date                                                                   \n",
      "28/10/1997    Tuesday -0.096719 -0.088550 -0.091323   0   1   0   0   0\n",
      "29/10/1997  Wednesday  0.066769  0.053139  0.030660   0   0   1   0   0\n",
      "30/10/1997   Thursday  0.000000  0.000000  0.000000   0   0   0   1   0\n",
      "31/10/1997     Friday  0.020108  0.002225  0.015986   0   0   0   0   1\n",
      "3/11/1997      Monday  0.069216  0.057976  0.093426   1   0   0   0   0\n",
      "...               ...       ...       ...       ...  ..  ..  ..  ..  ..\n",
      "14/10/2002     Monday  0.003452  0.002468 -0.007561   1   0   0   0   0\n",
      "15/10/2002    Tuesday  0.036498  0.033885  0.046484   0   1   0   0   0\n",
      "16/10/2002  Wednesday  0.006533  0.007196  0.042938   0   0   1   0   0\n",
      "17/10/2002   Thursday  0.018568  0.019657  0.023428   0   0   0   1   0\n",
      "18/10/2002     Friday -0.003163  0.001367  0.050051   0   0   0   0   1\n",
      "\n",
      "[1299 rows x 9 columns]\n"
     ]
    }
   ],
   "source": [
    "df = pd.read_csv('Large_Small_Day_of_Week.csv', index_col = 'Date').dropna()\n",
    "print(df)"
   ]
  },
  {
   "cell_type": "code",
   "execution_count": 4,
   "id": "00e057c7",
   "metadata": {},
   "outputs": [
    {
     "data": {
      "text/plain": [
       "Index(['Days', 'STIR', 'LSR', 'SSR', 'd1', 'd2', 'd3', 'd4', 'd5'], dtype='object')"
      ]
     },
     "execution_count": 4,
     "metadata": {},
     "output_type": "execute_result"
    }
   ],
   "source": [
    "df.columns"
   ]
  },
  {
   "cell_type": "code",
   "execution_count": 5,
   "id": "424f280f",
   "metadata": {},
   "outputs": [
    {
     "name": "stdout",
     "output_type": "stream",
     "text": [
      "       Days      STIR       LSR       SSR  d1  d2  d3  d4  d5\n",
      "0    Monday  0.069216  0.057976  0.093426   1   0   0   0   0\n",
      "1    Monday -0.017570  0.000688 -0.022599   1   0   0   0   0\n",
      "2    Monday  0.011866  0.013696  0.002207   1   0   0   0   0\n",
      "3    Monday  0.019007  0.015035 -0.021014   1   0   0   0   0\n",
      "4    Monday  0.003762 -0.001700 -0.015981   1   0   0   0   0\n",
      "..      ...       ...       ...       ...  ..  ..  ..  ..  ..\n",
      "254  Monday  0.007382  0.001110  0.017402   1   0   0   0   0\n",
      "255  Monday -0.003673  0.004445 -0.044629   1   0   0   0   0\n",
      "256  Monday -0.015839 -0.022405 -0.011432   1   0   0   0   0\n",
      "257  Monday  0.008040  0.006424 -0.023557   1   0   0   0   0\n",
      "258  Monday  0.003452  0.002468 -0.007561   1   0   0   0   0\n",
      "\n",
      "[259 rows x 9 columns]\n"
     ]
    }
   ],
   "source": [
    "dat1 = df[df['d1'] != 0] ### dat1 contains only Monday returns\n",
    "dat1.reset_index(drop=True, inplace=True) \n",
    "### this is important to reset index to 0,1,2,... so that when concatenating - they align\n",
    "print(dat1)"
   ]
  },
  {
   "cell_type": "code",
   "execution_count": 6,
   "id": "fe1c9806",
   "metadata": {},
   "outputs": [],
   "source": [
    "dat2 = df[df['d2'] != 0] ### dat2 contains only Tuesday returns\n",
    "dat2.reset_index(drop=True, inplace=True) \n",
    "### \n",
    "dat3 = df[df['d3'] != 0] ### dat3 contains only Wed returns\n",
    "dat3.reset_index(drop=True, inplace=True) \n",
    "### \n",
    "dat4 = df[df['d4'] != 0] ### dat4 contains only Thurs returns\n",
    "dat4.reset_index(drop=True, inplace=True) \n",
    "### \n",
    "dat5 = df[df['d5'] != 0] ### dat5 contains only Fri returns\n",
    "dat5.reset_index(drop=True, inplace=True) "
   ]
  },
  {
   "cell_type": "markdown",
   "id": "fffb873c",
   "metadata": {},
   "source": [
    "## Question 1\n",
    "What is the difference in mean Monday return between the large portfolio versus the small portfolio?  Find the t-statistic to test if the difference is significantly different from the null hypothesis of zero. Assume returns are normally distributed with the same variances. The means are unconditional expectations. Find the answer with the difference, the t-statistic, and the p-value.\n"
   ]
  },
  {
   "cell_type": "code",
   "execution_count": 7,
   "id": "90b7ed74",
   "metadata": {},
   "outputs": [],
   "source": [
    "df1 = df.copy()"
   ]
  },
  {
   "cell_type": "code",
   "execution_count": 8,
   "id": "303f80dc",
   "metadata": {},
   "outputs": [
    {
     "name": "stdout",
     "output_type": "stream",
     "text": [
      "Days\n",
      "Friday      -0.000630\n",
      "Monday       0.006249\n",
      "Thursday     0.000278\n",
      "Tuesday      0.001509\n",
      "Wednesday   -0.000989\n",
      "Name: Mean, dtype: float64 Days\n",
      "Friday      -0.345438\n",
      "Monday       2.436323\n",
      "Thursday     0.149019\n",
      "Tuesday      0.784552\n",
      "Wednesday   -0.510262\n",
      "dtype: float64 [1.26995343 0.01551451 0.88165473 0.43343604 1.38969614]\n"
     ]
    }
   ],
   "source": [
    "df1['Diff'] = df1['LSR'] - df1['SSR']\n",
    "\n",
    "f=df1.groupby('Days').mean()\n",
    "f.rename(columns={'Diff': 'Mean'}, inplace=True)\n",
    "f1=f['Mean']\n",
    "\n",
    "g=df1.groupby('Days').var()  ### note .var() here is biased, i.e., divisor is sample size\n",
    "se = np.sqrt((g['LSR'] + g['SSR']) / len(dat1))\n",
    "\n",
    "t1=f['Mean']/se\n",
    "\n",
    "from scipy.stats import t\n",
    "p_value = 2 * (1- t.cdf(t1,258))\n",
    "\n",
    "print(f1, t1, p_value)"
   ]
  },
  {
   "cell_type": "markdown",
   "id": "3ae5b3a2",
   "metadata": {},
   "source": [
    "## Question 2\n",
    "Run OLS with dependent variable LSR and explanatory variables STIR and the 5 dummy variables. Similarly run OLS with dependent variable SSR and explanatory variables STIR and the 5 dummy variables. Which of the following statement is the most accurate? (Significance level is 1%)"
   ]
  },
  {
   "cell_type": "code",
   "execution_count": 9,
   "id": "b957b815",
   "metadata": {},
   "outputs": [
    {
     "name": "stdout",
     "output_type": "stream",
     "text": [
      "                            OLS Regression Results                            \n",
      "==============================================================================\n",
      "Dep. Variable:                    LSR   R-squared:                       0.887\n",
      "Model:                            OLS   Adj. R-squared:                  0.886\n",
      "Method:                 Least Squares   F-statistic:                     2022.\n",
      "Date:                Sun, 18 Feb 2024   Prob (F-statistic):               0.00\n",
      "Time:                        14:00:29   Log-Likelihood:                 4866.9\n",
      "No. Observations:                1299   AIC:                            -9722.\n",
      "Df Residuals:                    1293   BIC:                            -9691.\n",
      "Df Model:                           5                                         \n",
      "Covariance Type:            nonrobust                                         \n",
      "==============================================================================\n",
      "                 coef    std err          t      P>|t|      [0.025      0.975]\n",
      "------------------------------------------------------------------------------\n",
      "STIR           0.9224      0.009    100.462      0.000       0.904       0.940\n",
      "d1             0.0003      0.000      0.748      0.455      -0.000       0.001\n",
      "d2             0.0008      0.000      2.145      0.032    6.51e-05       0.001\n",
      "d3          7.037e-05      0.000      0.198      0.843      -0.001       0.001\n",
      "d4            -0.0001      0.000     -0.388      0.698      -0.001       0.001\n",
      "d5            -0.0002      0.000     -0.469      0.639      -0.001       0.001\n",
      "==============================================================================\n",
      "Omnibus:                      103.610   Durbin-Watson:                   1.906\n",
      "Prob(Omnibus):                  0.000   Jarque-Bera (JB):              469.485\n",
      "Skew:                           0.212   Prob(JB):                    1.13e-102\n",
      "Kurtosis:                       5.915   Cond. No.                         25.9\n",
      "==============================================================================\n",
      "\n",
      "Notes:\n",
      "[1] Standard Errors assume that the covariance matrix of the errors is correctly specified.\n"
     ]
    }
   ],
   "source": [
    "from statsmodels.formula.api import ols\n",
    "formula = 'LSR ~ STIR + d1 + d2 + d3 + d4 + d5 - 1'\n",
    "results = ols(formula, df).fit()\n",
    "print(results.summary())"
   ]
  },
  {
   "cell_type": "code",
   "execution_count": 10,
   "id": "42e4d184",
   "metadata": {
    "scrolled": false
   },
   "outputs": [
    {
     "name": "stdout",
     "output_type": "stream",
     "text": [
      "                            OLS Regression Results                            \n",
      "==============================================================================\n",
      "Dep. Variable:                    SSR   R-squared:                       0.280\n",
      "Model:                            OLS   Adj. R-squared:                  0.278\n",
      "Method:                 Least Squares   F-statistic:                     100.8\n",
      "Date:                Sun, 18 Feb 2024   Prob (F-statistic):           7.37e-90\n",
      "Time:                        14:00:29   Log-Likelihood:                 3003.4\n",
      "No. Observations:                1299   AIC:                            -5995.\n",
      "Df Residuals:                    1293   BIC:                            -5964.\n",
      "Df Model:                           5                                         \n",
      "Covariance Type:            nonrobust                                         \n",
      "==============================================================================\n",
      "                 coef    std err          t      P>|t|      [0.025      0.975]\n",
      "------------------------------------------------------------------------------\n",
      "STIR           0.8439      0.039     21.895      0.000       0.768       0.920\n",
      "d1            -0.0061      0.001     -4.091      0.000      -0.009      -0.003\n",
      "d2            -0.0008      0.001     -0.520      0.603      -0.004       0.002\n",
      "d3             0.0011      0.001      0.733      0.464      -0.002       0.004\n",
      "d4            -0.0004      0.001     -0.248      0.804      -0.003       0.003\n",
      "d5             0.0005      0.001      0.356      0.722      -0.002       0.003\n",
      "==============================================================================\n",
      "Omnibus:                      148.392   Durbin-Watson:                   2.037\n",
      "Prob(Omnibus):                  0.000   Jarque-Bera (JB):             1299.616\n",
      "Skew:                           0.051   Prob(JB):                    6.19e-283\n",
      "Kurtosis:                       7.899   Cond. No.                         25.9\n",
      "==============================================================================\n",
      "\n",
      "Notes:\n",
      "[1] Standard Errors assume that the covariance matrix of the errors is correctly specified.\n"
     ]
    }
   ],
   "source": [
    "formula1 = 'SSR ~ STIR + d1 + d2 + d3 + d4 + d5 - 1'\n",
    "results1 = ols(formula1, df).fit()\n",
    "print(results1.summary())"
   ]
  },
  {
   "cell_type": "markdown",
   "id": "f2bb956b",
   "metadata": {},
   "source": [
    "## Question 5\n",
    "\n",
    "In the OLS regression of dependent variable LSR on explanatory variables STIR and the 5 dummy variables, suppose the fitted residuals indicate significantly positive autocorrelations. Perform a GLS regression to improve on the estimates. Report the OLS Durbin-Watson statistic and the GLS Durbin-Watson statistic."
   ]
  },
  {
   "cell_type": "code",
   "execution_count": 48,
   "id": "90e8be25",
   "metadata": {},
   "outputs": [],
   "source": [
    "Dx=pd.concat([df['STIR'], df['d1'],df['d2'],df['d3'],df['d4'],df['d5']],axis=1)"
   ]
  },
  {
   "cell_type": "code",
   "execution_count": 49,
   "id": "92dd53a5",
   "metadata": {},
   "outputs": [
    {
     "name": "stdout",
     "output_type": "stream",
     "text": [
      "1.6916522439077528\n",
      "0.0909527020273625\n",
      "0.04694953172306798\n"
     ]
    }
   ],
   "source": [
    "resid_fit = sm.OLS(\n",
    "    np.asarray(results.resid)[1:], sm.add_constant(np.asarray(results.resid)[:-1])\n",
    ").fit()\n",
    "print(resid_fit.tvalues[1])\n",
    "print(resid_fit.pvalues[1])\n",
    "rho = resid_fit.params[1]\n",
    "print(rho)"
   ]
  },
  {
   "cell_type": "code",
   "execution_count": 50,
   "id": "618b07da",
   "metadata": {},
   "outputs": [],
   "source": [
    "from scipy.linalg import toeplitz\n",
    "trix = toeplitz(range(len(results.resid))) ### trix is sq matrix with zero in diag, 1 in first off diag, 2 in 2nd off diag, etc.\n",
    "sigma = rho ** trix ### this is cov matrix of residuals except the factor of sigma_u^2 is left out\n",
    "gls_model = sm.GLS(df['LSR'], Dx, sigma=sigma)\n",
    "gls_results = gls_model.fit()"
   ]
  },
  {
   "cell_type": "code",
   "execution_count": 51,
   "id": "587bb03d",
   "metadata": {},
   "outputs": [
    {
     "name": "stdout",
     "output_type": "stream",
     "text": [
      "                            GLS Regression Results                            \n",
      "==============================================================================\n",
      "Dep. Variable:                    LSR   R-squared:                       0.886\n",
      "Model:                            GLS   Adj. R-squared:                  0.886\n",
      "Method:                 Least Squares   F-statistic:                     2009.\n",
      "Date:                Sun, 18 Feb 2024   Prob (F-statistic):               0.00\n",
      "Time:                        14:07:18   Log-Likelihood:                 4868.3\n",
      "No. Observations:                1299   AIC:                            -9725.\n",
      "Df Residuals:                    1293   BIC:                            -9694.\n",
      "Df Model:                           5                                         \n",
      "Covariance Type:            nonrobust                                         \n",
      "==============================================================================\n",
      "                 coef    std err          t      P>|t|      [0.025      0.975]\n",
      "------------------------------------------------------------------------------\n",
      "STIR           0.9222      0.009    100.117      0.000       0.904       0.940\n",
      "d1             0.0003      0.000      0.749      0.454      -0.000       0.001\n",
      "d2             0.0008      0.000      2.145      0.032    6.51e-05       0.001\n",
      "d3          7.044e-05      0.000      0.198      0.843      -0.001       0.001\n",
      "d4            -0.0001      0.000     -0.388      0.698      -0.001       0.001\n",
      "d5            -0.0002      0.000     -0.468      0.640      -0.001       0.001\n",
      "==============================================================================\n",
      "Omnibus:                      100.866   Durbin-Watson:                   1.997\n",
      "Prob(Omnibus):                  0.000   Jarque-Bera (JB):              454.999\n",
      "Skew:                           0.195   Prob(JB):                     1.58e-99\n",
      "Kurtosis:                       5.873   Cond. No.                         27.0\n",
      "==============================================================================\n",
      "\n",
      "Notes:\n",
      "[1] Standard Errors assume that the covariance matrix of the errors is correctly specified.\n"
     ]
    }
   ],
   "source": [
    "print(gls_results.summary())"
   ]
  },
  {
   "cell_type": "markdown",
   "id": "4ed3da85",
   "metadata": {},
   "source": [
    "## Question 3\n",
    "\n",
    "Find the variances of the fitted residuals for the two regressions in Q2. Assume these variances are different. Run a GLS regression with both LSR and SSR combined as dependent variable. The explanatory variables are the same STIR and the 5 dummy variables. What is the coefficient estimate and its t-value for the Monday dummy?"
   ]
  },
  {
   "cell_type": "code",
   "execution_count": 26,
   "id": "3591bda3",
   "metadata": {},
   "outputs": [
    {
     "data": {
      "text/plain": [
       "Date\n",
       "28/10/1997   -0.088550\n",
       "29/10/1997    0.053139\n",
       "30/10/1997    0.000000\n",
       "31/10/1997    0.002225\n",
       "3/11/1997     0.057976\n",
       "                ...   \n",
       "14/10/2002   -0.007561\n",
       "15/10/2002    0.046484\n",
       "16/10/2002    0.042938\n",
       "17/10/2002    0.023428\n",
       "18/10/2002    0.050051\n",
       "Length: 2598, dtype: float64"
      ]
     },
     "execution_count": 26,
     "metadata": {},
     "output_type": "execute_result"
    }
   ],
   "source": [
    "LSR = df['LSR']\n",
    "SSR = df['SSR']\n",
    "df2 = pd.concat([LSR, SSR])\n",
    "df2"
   ]
  },
  {
   "cell_type": "code",
   "execution_count": 32,
   "id": "9e3efd72",
   "metadata": {},
   "outputs": [
    {
     "data": {
      "text/plain": [
       "(2598, 2598)"
      ]
     },
     "execution_count": 32,
     "metadata": {},
     "output_type": "execute_result"
    }
   ],
   "source": [
    "var_lsr = np.var(results.resid)\n",
    "var_ssr = np.var(results1.resid)\n",
    "\n",
    "variances = np.array([var_lsr] * len(df) + [var_ssr] * len(df))\n",
    "cov_matrix = np.diag(variances)\n",
    "\n",
    "cov_matrix.shape"
   ]
  },
  {
   "cell_type": "code",
   "execution_count": 31,
   "id": "7a38bd00",
   "metadata": {
    "scrolled": false
   },
   "outputs": [
    {
     "data": {
      "text/plain": [
       "(2598, 6)"
      ]
     },
     "execution_count": 31,
     "metadata": {},
     "output_type": "execute_result"
    }
   ],
   "source": [
    "Dx2=pd.concat([Dx, Dx])\n",
    "Dx2.shape"
   ]
  },
  {
   "cell_type": "code",
   "execution_count": 40,
   "id": "26a3ee6d",
   "metadata": {},
   "outputs": [],
   "source": [
    "gls_model1 = sm.GLS(df2, Dx2, sigma = cov_matrix)\n",
    "gls_results1 = gls_model1.fit()"
   ]
  },
  {
   "cell_type": "code",
   "execution_count": 41,
   "id": "b61f2c21",
   "metadata": {},
   "outputs": [
    {
     "name": "stdout",
     "output_type": "stream",
     "text": [
      "                            GLS Regression Results                            \n",
      "==============================================================================\n",
      "Dep. Variable:                      y   R-squared:                       0.802\n",
      "Model:                            GLS   Adj. R-squared:                  0.802\n",
      "Method:                 Least Squares   F-statistic:                     2106.\n",
      "Date:                Sun, 18 Feb 2024   Prob (F-statistic):               0.00\n",
      "Time:                        14:03:36   Log-Likelihood:                 7859.2\n",
      "No. Observations:                2598   AIC:                        -1.571e+04\n",
      "Df Residuals:                    2592   BIC:                        -1.567e+04\n",
      "Df Model:                           5                                         \n",
      "Covariance Type:            nonrobust                                         \n",
      "==============================================================================\n",
      "                 coef    std err          t      P>|t|      [0.025      0.975]\n",
      "------------------------------------------------------------------------------\n",
      "STIR           0.9182      0.009    102.483      0.000       0.901       0.936\n",
      "d1         -7.649e-05      0.000     -0.220      0.826      -0.001       0.001\n",
      "d2             0.0007      0.000      1.960      0.050    -1.9e-07       0.001\n",
      "d3             0.0001      0.000      0.362      0.718      -0.001       0.001\n",
      "d4            -0.0002      0.000     -0.433      0.665      -0.001       0.001\n",
      "d5            -0.0001      0.000     -0.372      0.710      -0.001       0.001\n",
      "==============================================================================\n",
      "Omnibus:                      247.288   Durbin-Watson:                   1.971\n",
      "Prob(Omnibus):                  0.000   Jarque-Bera (JB):             1707.669\n",
      "Skew:                           0.109   Prob(JB):                         0.00\n",
      "Kurtosis:                       6.966   Cond. No.                         25.9\n",
      "==============================================================================\n",
      "\n",
      "Notes:\n",
      "[1] Standard Errors assume that the covariance matrix of the errors is correctly specified.\n"
     ]
    }
   ],
   "source": [
    "print(gls_results1.summary())"
   ]
  },
  {
   "cell_type": "markdown",
   "id": "745d98c6",
   "metadata": {},
   "source": [
    "## Question 4\n",
    "Suppose we find the fitted residuals in the GLS regression in Q3. What are the Breusch-Pagan chi-square test statistic value and the White's Heteroskedasticity chi-square test statistic value?"
   ]
  },
  {
   "cell_type": "code",
   "execution_count": 47,
   "id": "ed01bd6e",
   "metadata": {},
   "outputs": [
    {
     "data": {
      "text/plain": [
       "7.6745240798849945"
      ]
     },
     "execution_count": 47,
     "metadata": {},
     "output_type": "execute_result"
    }
   ],
   "source": [
    "from statsmodels.stats.diagnostic import het_breuschpagan\n",
    "bp_test = het_breuschpagan(gls_results1.resid ** 2, sm.add_constant(Dx2))\n",
    "bp_test[0]"
   ]
  },
  {
   "cell_type": "code",
   "execution_count": 46,
   "id": "0c64dc85",
   "metadata": {},
   "outputs": [
    {
     "data": {
      "text/plain": [
       "12.190975640109777"
      ]
     },
     "execution_count": 46,
     "metadata": {},
     "output_type": "execute_result"
    }
   ],
   "source": [
    "from statsmodels.stats.diagnostic import het_white\n",
    "wh_test = het_white(gls_results1.resid ** 2, sm.add_constant(Dx2))\n",
    "wh_test[0]"
   ]
  }
 ],
 "metadata": {
  "kernelspec": {
   "display_name": "Python 3 (ipykernel)",
   "language": "python",
   "name": "python3"
  },
  "language_info": {
   "codemirror_mode": {
    "name": "ipython",
    "version": 3
   },
   "file_extension": ".py",
   "mimetype": "text/x-python",
   "name": "python",
   "nbconvert_exporter": "python",
   "pygments_lexer": "ipython3",
   "version": "3.11.4"
  }
 },
 "nbformat": 4,
 "nbformat_minor": 5
}
