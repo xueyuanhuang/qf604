{
 "cells": [
  {
   "cell_type": "code",
   "execution_count": 1,
   "id": "64423ad0",
   "metadata": {},
   "outputs": [],
   "source": [
    "import pandas as pd\n",
    "import numpy as np\n",
    "import statsmodels.api as sm\n",
    "import matplotlib.pyplot as plt"
   ]
  },
  {
   "cell_type": "code",
   "execution_count": 2,
   "id": "761c26fa",
   "metadata": {},
   "outputs": [
    {
     "name": "stdout",
     "output_type": "stream",
     "text": [
      "                  Day  index level  contcpdret  d1  d2  d3  d4  d5\n",
      "Date                                                              \n",
      "12/7/1994     Tuesday      1777.27    0.007976   0   1   0   0   0\n",
      "13/7/1994   Wednesday      1796.27    0.010634   0   0   1   0   0\n",
      "14/7/1994    Thursday      1815.75    0.010786   0   0   0   1   0\n",
      "15/7/1994      Friday      1826.39    0.005843   0   0   0   0   1\n",
      "18/7/1994      Monday      1830.93    0.002483   1   0   0   0   0\n",
      "...               ...          ...         ...  ..  ..  ..  ..  ..\n",
      "14/10/2002     Monday      1378.44    0.003452   1   0   0   0   0\n",
      "15/10/2002    Tuesday      1429.68    0.036498   0   1   0   0   0\n",
      "16/10/2002  Wednesday      1439.05    0.006533   0   0   1   0   0\n",
      "17/10/2002   Thursday      1466.02    0.018568   0   0   0   1   0\n",
      "18/10/2002     Friday      1461.39   -0.003163   0   0   0   0   1\n",
      "\n",
      "[2159 rows x 8 columns]\n"
     ]
    }
   ],
   "source": [
    "df = pd.read_csv('STI_1994-2002.csv', index_col = 'Date ').dropna()\n",
    "print(df)"
   ]
  },
  {
   "cell_type": "code",
   "execution_count": 3,
   "id": "e60ea77f",
   "metadata": {},
   "outputs": [
    {
     "name": "stdout",
     "output_type": "stream",
     "text": [
      "        Day  index level  contcpdret  d1  d2  d3  d4  d5\n",
      "0    Monday      1830.93    0.002483   1   0   0   0   0\n",
      "1    Monday      1848.22    0.008716   1   0   0   0   0\n",
      "2    Monday      1882.05    0.015043   1   0   0   0   0\n",
      "3    Monday      1889.47   -0.008207   1   0   0   0   0\n",
      "4    Monday      1903.88   -0.006450   1   0   0   0   0\n",
      "..      ...          ...         ...  ..  ..  ..  ..  ..\n",
      "426  Monday      1442.61    0.007382   1   0   0   0   0\n",
      "427  Monday      1415.82   -0.003673   1   0   0   0   0\n",
      "428  Monday      1352.30   -0.015839   1   0   0   0   0\n",
      "429  Monday      1378.61    0.008040   1   0   0   0   0\n",
      "430  Monday      1378.44    0.003452   1   0   0   0   0\n",
      "\n",
      "[431 rows x 8 columns]\n"
     ]
    }
   ],
   "source": [
    "dat1 = df[df['d1'] != 0] ### dat1 contains only Monday returns\n",
    "dat1.reset_index(drop=True, inplace=True) \n",
    "### this is important to reset index to 0,1,2,... so that when concatenating - they align\n",
    "print(dat1)"
   ]
  },
  {
   "cell_type": "code",
   "execution_count": 4,
   "id": "b6246c94",
   "metadata": {},
   "outputs": [],
   "source": [
    "dat2 = df[df['d2'] != 0] ### dat2 contains only Tuesday returns\n",
    "dat2.reset_index(drop=True, inplace=True) \n",
    "### \n",
    "dat3 = df[df['d3'] != 0] ### dat3 contains only Wed returns\n",
    "dat3.reset_index(drop=True, inplace=True) \n",
    "### \n",
    "dat4 = df[df['d4'] != 0] ### dat4 contains only Thurs returns\n",
    "dat4.reset_index(drop=True, inplace=True) \n",
    "### \n",
    "dat5 = df[df['d5'] != 0] ### dat5 contains only Fri returns\n",
    "dat5.reset_index(drop=True, inplace=True) "
   ]
  },
  {
   "cell_type": "code",
   "execution_count": 5,
   "id": "0eecc550",
   "metadata": {},
   "outputs": [],
   "source": [
    "###\n",
    "f=df.groupby('Day').mean()\n",
    "f.rename(columns={'contcpdret': 'Mean'}, inplace=True)\n",
    "f1=f['Mean']\n",
    "\n",
    "g=df.groupby('Day').var()  ### note .var() here is biased, i.e., divisor is sample size\n",
    "g.rename(columns={'contcpdret': 'Variance'}, inplace=True)\n",
    "g1=np.sqrt(g['Variance'])\n",
    "\n",
    "t1=np.sqrt(431)*f1/g1"
   ]
  },
  {
   "cell_type": "code",
   "execution_count": 6,
   "id": "be653702",
   "metadata": {},
   "outputs": [
    {
     "name": "stdout",
     "output_type": "stream",
     "text": [
      "               Mean   Std Dev   t-stats\n",
      "Day                                    \n",
      "Monday    -0.001817  0.018189 -2.073917\n",
      "Tuesday   -0.000269  0.012848 -0.435291\n",
      "Wednesday  0.000614  0.014389  0.885816\n",
      "Thursday   0.000393  0.014040  0.581614\n",
      "Friday     0.000640  0.013283  1.000924\n"
     ]
    }
   ],
   "source": [
    "table1 = pd.concat([f1,g1,t1],axis=1,keys=['Mean','Std Dev','t-stats'])\n",
    "table1=table1.reindex(['Monday', 'Tuesday','Wednesday','Thursday','Friday'])\n",
    "print(table1)"
   ]
  },
  {
   "cell_type": "code",
   "execution_count": 50,
   "id": "9a93a89d",
   "metadata": {},
   "outputs": [
    {
     "name": "stdout",
     "output_type": "stream",
     "text": [
      "                            OLS Regression Results                            \n",
      "==============================================================================\n",
      "Dep. Variable:             contcpdret   R-squared:                       0.007\n",
      "Model:                            OLS   Adj. R-squared:                  0.003\n",
      "Method:                 Least Squares   F-statistic:                     1.935\n",
      "Date:                Mon, 05 Feb 2024   Prob (F-statistic):              0.102\n",
      "Time:                        17:10:40   Log-Likelihood:                 3094.4\n",
      "No. Observations:                1079   AIC:                            -6179.\n",
      "Df Residuals:                    1074   BIC:                            -6154.\n",
      "Df Model:                           4                                         \n",
      "Covariance Type:            nonrobust                                         \n",
      "==============================================================================\n",
      "                 coef    std err          t      P>|t|      [0.025      0.975]\n",
      "------------------------------------------------------------------------------\n",
      "d1            -0.0024      0.001     -2.605      0.009      -0.004      -0.001\n",
      "d2            -0.0011      0.001     -1.168      0.243      -0.003       0.001\n",
      "d3             0.0012      0.001      1.235      0.217      -0.001       0.003\n",
      "d4            -0.0004      0.001     -0.457      0.648      -0.002       0.001\n",
      "d5            -0.0004      0.001     -0.414      0.679      -0.002       0.001\n",
      "==============================================================================\n",
      "Omnibus:                      408.258   Durbin-Watson:                   1.660\n",
      "Prob(Omnibus):                  0.000   Jarque-Bera (JB):            21849.044\n",
      "Skew:                           0.935   Prob(JB):                         0.00\n",
      "Kurtosis:                      24.966   Cond. No.                         1.00\n",
      "==============================================================================\n",
      "\n",
      "Notes:\n",
      "[1] Standard Errors assume that the covariance matrix of the errors is correctly specified.\n"
     ]
    }
   ],
   "source": [
    "### Choose first half of data\n",
    "data1 = df.iloc[0:1079,]\n",
    "#import statsmodels.api as sm\n",
    "from statsmodels.formula.api import ols\n",
    "formula = 'contcpdret ~ d1 + d2 + d3 + d4 + d5 - 1'\n",
    "results = ols(formula, data1).fit()\n",
    "print(results.summary())\n",
    "### Note: adding ' -1 ' removes constant or intercept\n",
    "### Note that if we remove the  - 1, this statsmodel program still runs and shows regression results,\n",
    "###   but warns of singular matrix -- other programs e.g. R would not return any result"
   ]
  },
  {
   "cell_type": "code",
   "execution_count": 8,
   "id": "de1c8d08",
   "metadata": {},
   "outputs": [
    {
     "name": "stdout",
     "output_type": "stream",
     "text": [
      "                             Test for Constraints                             \n",
      "==============================================================================\n",
      "                 coef    std err          t      P>|t|      [0.025      0.975]\n",
      "------------------------------------------------------------------------------\n",
      "c0            -0.0021      0.001     -1.552      0.121      -0.005       0.001\n",
      "c1            -0.0007      0.001     -0.534      0.594      -0.003       0.002\n",
      "c2             0.0015      0.001      1.166      0.244      -0.001       0.004\n",
      "c3          -4.05e-05      0.001     -0.031      0.976      -0.003       0.003\n",
      "==============================================================================\n"
     ]
    }
   ],
   "source": [
    "### There appears to be a negative Monday effect significantly diff from zero at 1% \n",
    "hypotheses = 'd1=d5, d2=d5, d3=d5, d4=d5'\n",
    "t_test = results.t_test(hypotheses)\n",
    "print(t_test)"
   ]
  },
  {
   "cell_type": "code",
   "execution_count": 9,
   "id": "ea096022",
   "metadata": {},
   "outputs": [],
   "source": [
    "### Above are t-test of c0: d1-d5 if this is statistically different from zero; of c1: d2-d5 if this is statistically different \n",
    "###  from zero; and so on. Monday eff not so neg strong here (statistically same as Fri) -- shows diff stat test can produce slightly diff result due to\n",
    "###  their power (here do not reject H_0 even if false -- Type II error)"
   ]
  },
  {
   "cell_type": "code",
   "execution_count": 10,
   "id": "9c27c702",
   "metadata": {},
   "outputs": [
    {
     "data": {
      "text/plain": [
       "0.00018903784687854413"
      ]
     },
     "execution_count": 10,
     "metadata": {},
     "output_type": "execute_result"
    }
   ],
   "source": [
    "np.var(results.resid) ### gives biased estimate of variance, i.e., denominator is 1079"
   ]
  },
  {
   "cell_type": "code",
   "execution_count": 11,
   "id": "83c689c4",
   "metadata": {},
   "outputs": [],
   "source": [
    "v=np.sum(np.square(results.resid- np.mean(results.resid)))/1074 ### gives unbiased estimate of variance"
   ]
  },
  {
   "cell_type": "code",
   "execution_count": 12,
   "id": "82ee2ad4",
   "metadata": {},
   "outputs": [],
   "source": [
    "sigma=np.sqrt(v)"
   ]
  },
  {
   "cell_type": "code",
   "execution_count": 13,
   "id": "4529b0b1",
   "metadata": {},
   "outputs": [
    {
     "name": "stdout",
     "output_type": "stream",
     "text": [
      "           d1  d2  d3  d4  d5\n",
      "Date                         \n",
      "12/7/1994   0   1   0   0   0\n",
      "13/7/1994   0   0   1   0   0\n",
      "14/7/1994   0   0   0   1   0\n",
      "15/7/1994   0   0   0   0   1\n",
      "18/7/1994   1   0   0   0   0\n",
      "...        ..  ..  ..  ..  ..\n",
      "24/8/1998   1   0   0   0   0\n",
      "25/8/1998   0   1   0   0   0\n",
      "26/8/1998   0   0   1   0   0\n",
      "27/8/1998   0   0   0   1   0\n",
      "28/8/1998   0   0   0   0   1\n",
      "\n",
      "[1079 rows x 5 columns]\n"
     ]
    }
   ],
   "source": [
    "print(data1[['d1','d2','d3','d4','d5']])"
   ]
  },
  {
   "cell_type": "code",
   "execution_count": 14,
   "id": "cf4edcc0",
   "metadata": {},
   "outputs": [
    {
     "name": "stdout",
     "output_type": "stream",
     "text": [
      "[[0 1 0 0 0]\n",
      " [0 0 1 0 0]\n",
      " [0 0 0 1 0]\n",
      " ...\n",
      " [0 0 1 0 0]\n",
      " [0 0 0 1 0]\n",
      " [0 0 0 0 1]]\n",
      "[[0 0 0 ... 0 0 0]\n",
      " [1 0 0 ... 0 0 0]\n",
      " [0 1 0 ... 1 0 0]\n",
      " [0 0 1 ... 0 1 0]\n",
      " [0 0 0 ... 0 0 1]]\n",
      "[[215   0   0   0   0]\n",
      " [  0 216   0   0   0]\n",
      " [  0   0 216   0   0]\n",
      " [  0   0   0 216   0]\n",
      " [  0   0   0   0 216]]\n"
     ]
    }
   ],
   "source": [
    "bigX = data1[['d1','d2','d3','d4','d5']].to_numpy()\n",
    "bigX.shape ### this is (1079,5)\n",
    "print(bigX)\n",
    "print(bigX.T)\n",
    "bigXT = bigX.T ### bigXT.shape is (5,1079)\n",
    "XX = (bigXT).dot (bigX)\n",
    "print(XX)"
   ]
  },
  {
   "cell_type": "code",
   "execution_count": 15,
   "id": "df2e7823",
   "metadata": {},
   "outputs": [
    {
     "name": "stdout",
     "output_type": "stream",
     "text": [
      "Matrix R :\n",
      "[[ 1  0  0  0 -1]\n",
      " [ 0  1  0  0 -1]\n",
      " [ 0  0  1  0 -1]\n",
      " [ 0  0  0  1 -1]]\n",
      "Matrix r :\n",
      "[[0]\n",
      " [0]\n",
      " [0]\n",
      " [0]]\n"
     ]
    }
   ],
   "source": [
    "# creating two matrices\n",
    "R = np.array([[1, 0, 0, 0, -1],[0, 1, 0, 0, -1],[0, 0, 1, 0, -1],[0, 0, 0, 1, -1]])\n",
    "r = np.array([[0],[0],[0],[0]])\n",
    "print(\"Matrix R :\")\n",
    "print(R)\n",
    "print(\"Matrix r :\")\n",
    "print(r)"
   ]
  },
  {
   "cell_type": "code",
   "execution_count": 16,
   "id": "519879c5",
   "metadata": {},
   "outputs": [
    {
     "name": "stdout",
     "output_type": "stream",
     "text": [
      "[[-0.00244794]\n",
      " [-0.00109552]\n",
      " [ 0.00115846]\n",
      " [-0.00042827]\n",
      " [-0.00038777]]\n"
     ]
    },
    {
     "data": {
      "text/plain": [
       "(5, 1)"
      ]
     },
     "execution_count": 16,
     "metadata": {},
     "output_type": "execute_result"
    }
   ],
   "source": [
    "B=results.params\n",
    "b=B.to_numpy() ### first, convert to numpy array\n",
    "### to convert from (5,) or 1-dim to (5,1) or 2-dim for np matrix multiplication\n",
    "beta = b.reshape(5, 1)\n",
    "print(beta)\n",
    "beta.shape"
   ]
  },
  {
   "cell_type": "code",
   "execution_count": 17,
   "id": "46990226",
   "metadata": {},
   "outputs": [
    {
     "name": "stdout",
     "output_type": "stream",
     "text": [
      "[[1.92562166]]\n"
     ]
    }
   ],
   "source": [
    "M = R.dot(np.linalg.inv(XX)).dot(R.T)\n",
    "F=(((R.dot (beta)-r).T).dot(np.linalg.inv(M)).dot(R.dot (beta)-r)/4)/((1079*(sigma)**2)/1074)\n",
    "print(F)\n",
    "### Note this is F with d.f. 4, N-k "
   ]
  },
  {
   "cell_type": "code",
   "execution_count": 18,
   "id": "58b822a9",
   "metadata": {},
   "outputs": [
    {
     "name": "stdout",
     "output_type": "stream",
     "text": [
      "[[0.1039409]]\n"
     ]
    }
   ],
   "source": [
    "import scipy.stats\n",
    "f=F\n",
    "dfn=4\n",
    "dfd=1079-5\n",
    "p = 1-scipy.stats.f.cdf(f, dfn, dfd)\n",
    "print(p)"
   ]
  },
  {
   "cell_type": "code",
   "execution_count": 19,
   "id": "e53f0779",
   "metadata": {},
   "outputs": [],
   "source": [
    "### Hence do not reject H_0: 'd1=d5, d2=d5, d3=d5, d4=d5' at 10% significance level"
   ]
  },
  {
   "cell_type": "code",
   "execution_count": 20,
   "id": "4b76b918",
   "metadata": {},
   "outputs": [
    {
     "data": {
      "image/png": "[encoded data removed]",
      "text/plain": [
       "<Figure size 640x480 with 1 Axes>"
      ]
     },
     "metadata": {},
     "output_type": "display_data"
    }
   ],
   "source": [
    "import matplotlib.pyplot as plt\n",
    "plt.plot(results.resid,linestyle=\"-\",linewidth=1)\n",
    "plt.title('Residuals from 18 July 1994 to 28 August 1998')\n",
    "plt.show()"
   ]
  },
  {
   "cell_type": "code",
   "execution_count": 21,
   "id": "ef0a5bf6",
   "metadata": {},
   "outputs": [],
   "source": [
    "One=np.ones([len(data1['d1']),1])\n",
    "One=pd.DataFrame(One)"
   ]
  },
  {
   "cell_type": "code",
   "execution_count": 22,
   "id": "bb4794be-8b32-4ac5-ab1d-6eacdd0c8870",
   "metadata": {},
   "outputs": [],
   "source": [
    "One.index = data1.index"
   ]
  },
  {
   "cell_type": "code",
   "execution_count": 23,
   "id": "01f5c8a1",
   "metadata": {},
   "outputs": [
    {
     "name": "stdout",
     "output_type": "stream",
     "text": [
      "             0  d2  d3  d4  d5\n",
      "Date                          \n",
      "12/7/1994  1.0   1   0   0   0\n",
      "13/7/1994  1.0   0   1   0   0\n",
      "14/7/1994  1.0   0   0   1   0\n",
      "15/7/1994  1.0   0   0   0   1\n",
      "18/7/1994  1.0   0   0   0   0\n",
      "...        ...  ..  ..  ..  ..\n",
      "24/8/1998  1.0   0   0   0   0\n",
      "25/8/1998  1.0   1   0   0   0\n",
      "26/8/1998  1.0   0   1   0   0\n",
      "27/8/1998  1.0   0   0   1   0\n",
      "28/8/1998  1.0   0   0   0   1\n",
      "\n",
      "[1079 rows x 5 columns]\n"
     ]
    }
   ],
   "source": [
    "Dx=pd.concat([data1['d1'],data1['d2'],data1['d3'],data1['d4'],data1['d5']],axis=1)\n",
    "Dx1=pd.concat([One,data1['d2'],data1['d3'],data1['d4'],data1['d5']],axis=1)  ### leaves out d1 to avoid dummy var trap\n",
    "print(Dx1)"
   ]
  },
  {
   "cell_type": "code",
   "execution_count": 24,
   "id": "76d8f2bc",
   "metadata": {},
   "outputs": [
    {
     "name": "stdout",
     "output_type": "stream",
     "text": [
      "LM-test chi-sq: 6.767333462342314 LM-test p_value: 0.14870642721331848\n"
     ]
    }
   ],
   "source": [
    "### Test for Heteroskedasticity\n",
    "from statsmodels.stats.diagnostic import het_breuschpagan\n",
    "bp_test = het_breuschpagan(results.resid,Dx1)\n",
    "print ('LM-test chi-sq:', bp_test[0], 'LM-test p_value:', bp_test[1])\n",
    "### This tests with 4 deg freedom\n",
    "### It is similar to testing constraint of reg resid^2 coefs on d2, d3, d4, d5 = 0. One df is dropped as regression of hat u^2\n",
    "###  requires to accommodate a positive constant. Hence not 5 d.f."
   ]
  },
  {
   "cell_type": "code",
   "execution_count": 25,
   "id": "7a35b3ef",
   "metadata": {},
   "outputs": [
    {
     "data": {
      "text/plain": [
       "6.767333462342314"
      ]
     },
     "execution_count": 25,
     "metadata": {},
     "output_type": "execute_result"
    }
   ],
   "source": [
    "import scipy.stats\n",
    "#find Chi-Square critical value\n",
    "scipy.stats.chi2.ppf(1-0.14870642721331848, df=4)\n",
    "### ppf(1-signific level, df)"
   ]
  },
  {
   "cell_type": "code",
   "execution_count": 26,
   "id": "59931b35",
   "metadata": {},
   "outputs": [
    {
     "name": "stdout",
     "output_type": "stream",
     "text": [
      "LM-test chi-sq: 6.368244239886845 LM-test p_value: 0.17328368908204228\n"
     ]
    }
   ],
   "source": [
    "### White's Heteroskedasticity Test\n",
    "from statsmodels.stats.diagnostic import het_white\n",
    "wh_test = het_white(results.resid,Dx1)\n",
    "print ('LM-test chi-sq:', wh_test[0], 'LM-test p_value:', wh_test[1])\n",
    "### Note also 4 d.f. since dumy * other dummy = 0, and dummy^2 = same dummy of one, hence no new regressors"
   ]
  },
  {
   "cell_type": "code",
   "execution_count": 27,
   "id": "a6e1e674",
   "metadata": {},
   "outputs": [],
   "source": [
    "### Hence cannot reject null of no heteroskedasticity"
   ]
  },
  {
   "cell_type": "code",
   "execution_count": 28,
   "id": "89e4c16e",
   "metadata": {},
   "outputs": [
    {
     "name": "stdout",
     "output_type": "stream",
     "text": [
      "5.599107600370427\n",
      "2.7340423326673683e-08\n",
      "0.1685070533653401\n"
     ]
    }
   ],
   "source": [
    "resid_fit = sm.OLS(\n",
    "    np.asarray(results.resid)[1:], sm.add_constant(np.asarray(results.resid)[:-1])\n",
    ").fit()\n",
    "print(resid_fit.tvalues[1])\n",
    "print(resid_fit.pvalues[1])\n",
    "rho = resid_fit.params[1]\n",
    "print(rho)"
   ]
  },
  {
   "cell_type": "code",
   "execution_count": 29,
   "id": "47dad4ca",
   "metadata": {},
   "outputs": [],
   "source": [
    "### High t-value of resid on its lag indicates e(t) = const + 0.1685 e(t-1) + error"
   ]
  },
  {
   "cell_type": "markdown",
   "id": "50f0cd39",
   "metadata": {},
   "source": [
    "# Perform GLS below"
   ]
  },
  {
   "cell_type": "code",
   "execution_count": 30,
   "id": "e1cb10e2",
   "metadata": {},
   "outputs": [],
   "source": [
    "from scipy.linalg import toeplitz\n",
    "trix = toeplitz(range(len(results.resid))) ### trix is sq matrix with zero in diag, 1 in first off diag, 2 in 2nd off diag, etc.\n",
    "sigma = rho ** trix ### this is cov matrix of residuals except the factor of sigma_u^2 is left out\n",
    "gls_model = sm.GLS(data1['contcpdret'], Dx, sigma=sigma)\n",
    "gls_results = gls_model.fit()"
   ]
  },
  {
   "cell_type": "code",
   "execution_count": 31,
   "id": "9f62d631",
   "metadata": {},
   "outputs": [
    {
     "name": "stdout",
     "output_type": "stream",
     "text": [
      "                            GLS Regression Results                            \n",
      "==============================================================================\n",
      "Dep. Variable:             contcpdret   R-squared:                       0.008\n",
      "Model:                            GLS   Adj. R-squared:                  0.004\n",
      "Method:                 Least Squares   F-statistic:                     2.064\n",
      "Date:                Mon, 05 Feb 2024   Prob (F-statistic):             0.0834\n",
      "Time:                        16:54:22   Log-Likelihood:                 3109.9\n",
      "No. Observations:                1079   AIC:                            -6210.\n",
      "Df Residuals:                    1074   BIC:                            -6185.\n",
      "Df Model:                           4                                         \n",
      "Covariance Type:            nonrobust                                         \n",
      "==============================================================================\n",
      "                 coef    std err          t      P>|t|      [0.025      0.975]\n",
      "------------------------------------------------------------------------------\n",
      "d1            -0.0025      0.001     -2.619      0.009      -0.004      -0.001\n",
      "d2            -0.0011      0.001     -1.172      0.242      -0.003       0.001\n",
      "d3             0.0012      0.001      1.235      0.217      -0.001       0.003\n",
      "d4            -0.0004      0.001     -0.457      0.648      -0.002       0.001\n",
      "d5            -0.0004      0.001     -0.412      0.680      -0.002       0.001\n",
      "==============================================================================\n",
      "Omnibus:                      502.592   Durbin-Watson:                   1.993\n",
      "Prob(Omnibus):                  0.000   Jarque-Bera (JB):            25362.761\n",
      "Skew:                           1.370   Prob(JB):                         0.00\n",
      "Kurtosis:                      26.593   Cond. No.                         1.37\n",
      "==============================================================================\n",
      "\n",
      "Notes:\n",
      "[1] Standard Errors assume that the covariance matrix of the errors is correctly specified.\n"
     ]
    }
   ],
   "source": [
    "print(gls_results.summary())"
   ]
  },
  {
   "cell_type": "code",
   "execution_count": 32,
   "id": "68e51fba",
   "metadata": {},
   "outputs": [],
   "source": [
    "### This autocorr adjusted reg compared with the OLS reg earlier shows:-\n",
    "###  slightly better results, viz. t-stats for d1 coeff is more neg, R^2 is higher, \n",
    "###  F-stat is higher, DW stats now close to 2"
   ]
  },
  {
   "cell_type": "code",
   "execution_count": 33,
   "id": "277e4559",
   "metadata": {},
   "outputs": [
    {
     "name": "stdout",
     "output_type": "stream",
     "text": [
      "0.00018991793955838124 0.013781071785546335\n"
     ]
    }
   ],
   "source": [
    "var0=np.var(gls_results.resid)*1079/1074  # get unbiased variance\n",
    "print(var0,np.sqrt(var0))  ### regression residual error vola"
   ]
  },
  {
   "cell_type": "code",
   "execution_count": 34,
   "id": "b38f4818",
   "metadata": {},
   "outputs": [],
   "source": [
    "### Here we perform a HAC (heteroskedasticity-autocorrelation consistent cov estimator)"
   ]
  },
  {
   "cell_type": "code",
   "execution_count": 35,
   "id": "0d150a93",
   "metadata": {},
   "outputs": [
    {
     "name": "stdout",
     "output_type": "stream",
     "text": [
      "                            OLS Regression Results                            \n",
      "==============================================================================\n",
      "Dep. Variable:             contcpdret   R-squared:                       0.007\n",
      "Model:                            OLS   Adj. R-squared:                  0.003\n",
      "Method:                 Least Squares   F-statistic:                       nan\n",
      "Date:                Mon, 05 Feb 2024   Prob (F-statistic):                nan\n",
      "Time:                        16:54:22   Log-Likelihood:                 3094.4\n",
      "No. Observations:                1079   AIC:                            -6179.\n",
      "Df Residuals:                    1074   BIC:                            -6154.\n",
      "Df Model:                           4                                         \n",
      "Covariance Type:                  HC3                                         \n",
      "==============================================================================\n",
      "                 coef    std err          z      P>|z|      [0.025      0.975]\n",
      "------------------------------------------------------------------------------\n",
      "d1            -0.0024      0.001     -1.966      0.049      -0.005      -8e-06\n",
      "d2            -0.0011      0.001     -1.228      0.219      -0.003       0.001\n",
      "d3             0.0012      0.001      1.355      0.175      -0.001       0.003\n",
      "d4            -0.0004      0.001     -0.476      0.634      -0.002       0.001\n",
      "d5            -0.0004      0.001     -0.527      0.598      -0.002       0.001\n",
      "==============================================================================\n",
      "Omnibus:                      408.258   Durbin-Watson:                   1.660\n",
      "Prob(Omnibus):                  0.000   Jarque-Bera (JB):            21849.044\n",
      "Skew:                           0.935   Prob(JB):                         0.00\n",
      "Kurtosis:                      24.966   Cond. No.                         1.00\n",
      "==============================================================================\n",
      "\n",
      "Notes:\n",
      "[1] Standard Errors are heteroscedasticity robust (HC3)\n"
     ]
    }
   ],
   "source": [
    "from statsmodels.formula.api import ols\n",
    "model = sm.OLS(data1['contcpdret'], Dx)\n",
    "ols_hc = model.fit(cov_type=\"HC3\")\n",
    "print(ols_hc.summary())"
   ]
  },
  {
   "cell_type": "code",
   "execution_count": 36,
   "id": "1e65dfac",
   "metadata": {},
   "outputs": [],
   "source": [
    "### Note above results are close to the previous case adjusting for GLS. But DW stats still indicates pos autocorr\n",
    "### HC3 -- MacKinnon and White’s (1985) heteroskedasticity robust standard errors.\n",
    "###   Notes. Defined as (X.T X)^(-1)X.T diag(e_i^(2)/(1-h_ii)^(2)) X(X.T X)^(-1) where h_ii = x_i(X.T X)^(-1)x_i.T."
   ]
  },
  {
   "cell_type": "markdown",
   "id": "fdad05a3",
   "metadata": {},
   "source": [
    "# Now test data for next period "
   ]
  },
  {
   "cell_type": "code",
   "execution_count": 37,
   "id": "a1818a26",
   "metadata": {},
   "outputs": [
    {
     "name": "stdout",
     "output_type": "stream",
     "text": [
      "                            OLS Regression Results                            \n",
      "==============================================================================\n",
      "Dep. Variable:             contcpdret   R-squared:                       0.004\n",
      "Model:                            OLS   Adj. R-squared:                  0.000\n",
      "Method:                 Least Squares   F-statistic:                     1.104\n",
      "Date:                Mon, 05 Feb 2024   Prob (F-statistic):              0.353\n",
      "Time:                        16:54:22   Log-Likelihood:                 2970.2\n",
      "No. Observations:                1080   AIC:                            -5930.\n",
      "Df Residuals:                    1075   BIC:                            -5906.\n",
      "Df Model:                           4                                         \n",
      "Covariance Type:            nonrobust                                         \n",
      "==============================================================================\n",
      "                 coef    std err          t      P>|t|      [0.025      0.975]\n",
      "------------------------------------------------------------------------------\n",
      "d1            -0.0012      0.001     -1.127      0.260      -0.003       0.001\n",
      "d2             0.0006      0.001      0.528      0.598      -0.002       0.003\n",
      "d3          6.941e-05      0.001      0.066      0.948      -0.002       0.002\n",
      "d4             0.0012      0.001      1.152      0.250      -0.001       0.003\n",
      "d5             0.0017      0.001      1.582      0.114      -0.000       0.004\n",
      "==============================================================================\n",
      "Omnibus:                       93.758   Durbin-Watson:                   1.785\n",
      "Prob(Omnibus):                  0.000   Jarque-Bera (JB):              542.433\n",
      "Skew:                           0.066   Prob(JB):                    1.63e-118\n",
      "Kurtosis:                       6.469   Cond. No.                         1.00\n",
      "==============================================================================\n",
      "\n",
      "Notes:\n",
      "[1] Standard Errors assume that the covariance matrix of the errors is correctly specified.\n"
     ]
    }
   ],
   "source": [
    "data2 = df.iloc[1079:2159,]\n",
    "#import statsmodels.api as sm\n",
    "from statsmodels.formula.api import ols\n",
    "formula = 'contcpdret ~ d1 + d2 + d3 + d4 + d5 - 1'\n",
    "results2 = ols(formula, data2).fit()\n",
    "print(results2.summary())\n",
    "### Note: adding ' -1 ' removes constant or intercept\n",
    "### Note that if we remove the  - 1, this statsmodel program still runs and shows regression results,\n",
    "###   but warns of singular matrix -- other programs e.g. R would not return any result"
   ]
  },
  {
   "cell_type": "code",
   "execution_count": 38,
   "id": "4b11daad",
   "metadata": {},
   "outputs": [],
   "source": [
    "### Note: In latter period, the Monday neg eff seemed to have disappeared"
   ]
  },
  {
   "cell_type": "code",
   "execution_count": 39,
   "id": "45727e3c",
   "metadata": {},
   "outputs": [
    {
     "data": {
      "image/png": "[encoded data removed]",
      "text/plain": [
       "<Figure size 640x480 with 1 Axes>"
      ]
     },
     "metadata": {},
     "output_type": "display_data"
    }
   ],
   "source": [
    "import matplotlib.pyplot as plt\n",
    "plt.plot(results2.resid,linestyle=\"-\",linewidth=1)\n",
    "plt.title('Residuals from 31 August 1998 to 18 October 2002')\n",
    "plt.show()"
   ]
  },
  {
   "cell_type": "code",
   "execution_count": null,
   "id": "8bdc9a56",
   "metadata": {},
   "outputs": [],
   "source": []
  }
 ],
 "metadata": {
  "kernelspec": {
   "display_name": "Python 3 (ipykernel)",
   "language": "python",
   "name": "python3"
  },
  "language_info": {
   "codemirror_mode": {
    "name": "ipython",
    "version": 3
   },
   "file_extension": ".py",
   "mimetype": "text/x-python",
   "name": "python",
   "nbconvert_exporter": "python",
   "pygments_lexer": "ipython3",
   "version": "3.12.0"
  }
 },
 "nbformat": 4,
 "nbformat_minor": 5
}
